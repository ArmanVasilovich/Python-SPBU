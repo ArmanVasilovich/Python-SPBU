{
 "cells": [
  {
   "metadata": {
    "ExecuteTime": {
     "end_time": "2024-10-09T14:25:48.670906Z",
     "start_time": "2024-10-09T14:25:12.548465Z"
    }
   },
   "cell_type": "code",
   "source": "import pandas as pd",
   "id": "c8927f384234a036",
   "outputs": [],
   "execution_count": 5
  },
  {
   "metadata": {
    "ExecuteTime": {
     "end_time": "2024-10-09T14:25:48.714653Z",
     "start_time": "2024-10-09T14:25:48.695115Z"
    }
   },
   "cell_type": "code",
   "source": [
    "data = [1, 2, 3]\n",
    "pd.Series(data=data)"
   ],
   "id": "78a9004342fd7332",
   "outputs": [
    {
     "data": {
      "text/plain": [
       "0    1\n",
       "1    2\n",
       "2    3\n",
       "dtype: int64"
      ]
     },
     "execution_count": 6,
     "metadata": {},
     "output_type": "execute_result"
    }
   ],
   "execution_count": 6
  }
 ],
 "metadata": {
  "kernelspec": {
   "display_name": "Python 3 (ipykernel)",
   "language": "python",
   "name": "python3"
  },
  "language_info": {
   "codemirror_mode": {
    "name": "ipython",
    "version": 3
   },
   "file_extension": ".py",
   "mimetype": "text/x-python",
   "name": "python",
   "nbconvert_exporter": "python",
   "pygments_lexer": "ipython3",
   "version": "3.12.6"
  }
 },
 "nbformat": 4,
 "nbformat_minor": 5
}
