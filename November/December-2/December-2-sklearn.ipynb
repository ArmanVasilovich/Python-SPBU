{
 "cells": [
  {
   "cell_type": "code",
   "id": "initial_id",
   "metadata": {
    "collapsed": true,
    "ExecuteTime": {
     "end_time": "2024-12-02T11:50:58.581810Z",
     "start_time": "2024-12-02T11:50:58.576228Z"
    }
   },
   "source": [
    "import pandas as pd\n",
    "import numpy as np\n",
    "from sklearn.impute import SimpleImputer"
   ],
   "outputs": [],
   "execution_count": 15
  },
  {
   "metadata": {
    "ExecuteTime": {
     "end_time": "2024-12-02T11:50:58.632631Z",
     "start_time": "2024-12-02T11:50:58.610120Z"
    }
   },
   "cell_type": "code",
   "source": [
    "arr = [\n",
    "    [1, 0, 0],\n",
    "    [np.nan, 3, 1],\n",
    "    [1, 3, 1],\n",
    "    [700, 6, 0]\n",
    "]"
   ],
   "id": "bd976b532fb0e41",
   "outputs": [],
   "execution_count": 16
  },
  {
   "metadata": {
    "ExecuteTime": {
     "end_time": "2024-12-02T11:50:58.718940Z",
     "start_time": "2024-12-02T11:50:58.700792Z"
    }
   },
   "cell_type": "code",
   "source": "arr",
   "id": "907dfe22ae416b81",
   "outputs": [
    {
     "data": {
      "text/plain": [
       "[[1, 0, 0], [nan, 3, 1], [1, 3, 1], [700, 6, 0]]"
      ]
     },
     "execution_count": 17,
     "metadata": {},
     "output_type": "execute_result"
    }
   ],
   "execution_count": 17
  },
  {
   "metadata": {
    "ExecuteTime": {
     "end_time": "2024-12-02T11:56:13.991203Z",
     "start_time": "2024-12-02T11:56:13.981946Z"
    }
   },
   "cell_type": "code",
   "source": "imp = SimpleImputer(missing_values=np.nan, strategy='median')",
   "id": "74c1f65f4d4f5d3e",
   "outputs": [],
   "execution_count": 39
  },
  {
   "metadata": {
    "ExecuteTime": {
     "end_time": "2024-12-02T11:56:14.385334Z",
     "start_time": "2024-12-02T11:56:14.368978Z"
    }
   },
   "cell_type": "code",
   "source": "arr_new = imp.fit_transform(arr)",
   "id": "7e865e1da1b3fd5b",
   "outputs": [],
   "execution_count": 40
  },
  {
   "metadata": {
    "ExecuteTime": {
     "end_time": "2024-12-02T11:56:14.631356Z",
     "start_time": "2024-12-02T11:56:14.619995Z"
    }
   },
   "cell_type": "code",
   "source": "arr_new",
   "id": "3b00ff93121752f1",
   "outputs": [
    {
     "data": {
      "text/plain": [
       "array([[  1.,   0.,   0.],\n",
       "       [  1.,   3.,   1.],\n",
       "       [  1.,   3.,   1.],\n",
       "       [700.,   6.,   0.]])"
      ]
     },
     "execution_count": 41,
     "metadata": {},
     "output_type": "execute_result"
    }
   ],
   "execution_count": 41
  }
 ],
 "metadata": {
  "kernelspec": {
   "display_name": "Python 3",
   "language": "python",
   "name": "python3"
  },
  "language_info": {
   "codemirror_mode": {
    "name": "ipython",
    "version": 2
   },
   "file_extension": ".py",
   "mimetype": "text/x-python",
   "name": "python",
   "nbconvert_exporter": "python",
   "pygments_lexer": "ipython2",
   "version": "2.7.6"
  }
 },
 "nbformat": 4,
 "nbformat_minor": 5
}
