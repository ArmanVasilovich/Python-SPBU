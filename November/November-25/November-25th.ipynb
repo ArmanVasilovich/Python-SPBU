{
 "cells": [
  {
   "metadata": {},
   "cell_type": "markdown",
   "source": "# November 25",
   "id": "57d4b914982d47e4"
  },
  {
   "cell_type": "code",
   "id": "initial_id",
   "metadata": {
    "collapsed": true,
    "ExecuteTime": {
     "end_time": "2024-11-25T08:14:28.288597Z",
     "start_time": "2024-11-25T08:14:28.275681Z"
    }
   },
   "source": [
    "import pandas as pd\n",
    "import numpy as np\n",
    "import matplotlib as plt"
   ],
   "outputs": [],
   "execution_count": 1
  },
  {
   "metadata": {
    "ExecuteTime": {
     "end_time": "2024-11-25T08:16:07.229602Z",
     "start_time": "2024-11-25T08:16:07.220699Z"
    }
   },
   "cell_type": "code",
   "source": "print('Hello World')",
   "id": "2c0fc255215c005d",
   "outputs": [
    {
     "name": "stdout",
     "output_type": "stream",
     "text": [
      "Hello World\n"
     ]
    }
   ],
   "execution_count": 2
  }
 ],
 "metadata": {
  "kernelspec": {
   "display_name": "Python 3",
   "language": "python",
   "name": "python3"
  },
  "language_info": {
   "codemirror_mode": {
    "name": "ipython",
    "version": 2
   },
   "file_extension": ".py",
   "mimetype": "text/x-python",
   "name": "python",
   "nbconvert_exporter": "python",
   "pygments_lexer": "ipython2",
   "version": "2.7.6"
  }
 },
 "nbformat": 4,
 "nbformat_minor": 5
}
