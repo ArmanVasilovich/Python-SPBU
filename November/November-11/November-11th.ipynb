{
 "cells": [
  {
   "metadata": {},
   "cell_type": "markdown",
   "source": [
    "# November 11th\n",
    "# Data vizualization with Matplotlib and Seaborn libraries"
   ],
   "id": "c2bca3cf4e4fc418"
  },
  {
   "cell_type": "code",
   "id": "initial_id",
   "metadata": {
    "collapsed": true,
    "ExecuteTime": {
     "end_time": "2024-11-11T08:30:31.872564Z",
     "start_time": "2024-11-11T08:30:31.865038Z"
    }
   },
   "source": [
    "import numpy as np\n",
    "import pandas as pd\n",
    "import matplotlib.pyplot as plt"
   ],
   "outputs": [],
   "execution_count": 6
  },
  {
   "metadata": {
    "ExecuteTime": {
     "end_time": "2024-11-11T08:31:12.939952Z",
     "start_time": "2024-11-11T08:31:12.575788Z"
    }
   },
   "cell_type": "code",
   "source": [
    "df = pd.read_csv('./Data/tmp.txt', sep = ';', header = None)\n",
    "df.head()"
   ],
   "id": "fae7ae49d39fa2c9",
   "outputs": [
    {
     "data": {
      "text/plain": [
       "      0     1      2      3      4      5      6      7      8      9      10  \\\n",
       "0  20046  1957                                                                  \n",
       "1  20046  1958  -21.1  -25.4  -27.4  -19.9   -9.5   -1.8    1.0   -0.5   -4.0   \n",
       "2  20046  1959  -28.6  -26.3  -23.8  -16.6   -8.6   -0.9    1.1    0.8   -1.4   \n",
       "3  20046  1960   -205  -32.9  -27.2  -19.9   -7.3   -0.6    1.4   -0.1   -2.2   \n",
       "4  20046  1961  -27.3  -27.4  -19.4  -16.3  -11.8   -0.8    1.5    1.5   -3.3   \n",
       "\n",
       "      11     12     13  \n",
       "0         -24.4  -26.1  \n",
       "1  -11.6  -19.3  -27.0  \n",
       "2   -5.2  -10.1  -17.9  \n",
       "3  -12.4  -21.9  -22.4  \n",
       "4   -9.6  -19.9  -27.3  "
      ],
      "text/html": [
       "<div>\n",
       "<style scoped>\n",
       "    .dataframe tbody tr th:only-of-type {\n",
       "        vertical-align: middle;\n",
       "    }\n",
       "\n",
       "    .dataframe tbody tr th {\n",
       "        vertical-align: top;\n",
       "    }\n",
       "\n",
       "    .dataframe thead th {\n",
       "        text-align: right;\n",
       "    }\n",
       "</style>\n",
       "<table border=\"1\" class=\"dataframe\">\n",
       "  <thead>\n",
       "    <tr style=\"text-align: right;\">\n",
       "      <th></th>\n",
       "      <th>0</th>\n",
       "      <th>1</th>\n",
       "      <th>2</th>\n",
       "      <th>3</th>\n",
       "      <th>4</th>\n",
       "      <th>5</th>\n",
       "      <th>6</th>\n",
       "      <th>7</th>\n",
       "      <th>8</th>\n",
       "      <th>9</th>\n",
       "      <th>10</th>\n",
       "      <th>11</th>\n",
       "      <th>12</th>\n",
       "      <th>13</th>\n",
       "    </tr>\n",
       "  </thead>\n",
       "  <tbody>\n",
       "    <tr>\n",
       "      <th>0</th>\n",
       "      <td>20046</td>\n",
       "      <td>1957</td>\n",
       "      <td></td>\n",
       "      <td></td>\n",
       "      <td></td>\n",
       "      <td></td>\n",
       "      <td></td>\n",
       "      <td></td>\n",
       "      <td></td>\n",
       "      <td></td>\n",
       "      <td></td>\n",
       "      <td></td>\n",
       "      <td>-24.4</td>\n",
       "      <td>-26.1</td>\n",
       "    </tr>\n",
       "    <tr>\n",
       "      <th>1</th>\n",
       "      <td>20046</td>\n",
       "      <td>1958</td>\n",
       "      <td>-21.1</td>\n",
       "      <td>-25.4</td>\n",
       "      <td>-27.4</td>\n",
       "      <td>-19.9</td>\n",
       "      <td>-9.5</td>\n",
       "      <td>-1.8</td>\n",
       "      <td>1.0</td>\n",
       "      <td>-0.5</td>\n",
       "      <td>-4.0</td>\n",
       "      <td>-11.6</td>\n",
       "      <td>-19.3</td>\n",
       "      <td>-27.0</td>\n",
       "    </tr>\n",
       "    <tr>\n",
       "      <th>2</th>\n",
       "      <td>20046</td>\n",
       "      <td>1959</td>\n",
       "      <td>-28.6</td>\n",
       "      <td>-26.3</td>\n",
       "      <td>-23.8</td>\n",
       "      <td>-16.6</td>\n",
       "      <td>-8.6</td>\n",
       "      <td>-0.9</td>\n",
       "      <td>1.1</td>\n",
       "      <td>0.8</td>\n",
       "      <td>-1.4</td>\n",
       "      <td>-5.2</td>\n",
       "      <td>-10.1</td>\n",
       "      <td>-17.9</td>\n",
       "    </tr>\n",
       "    <tr>\n",
       "      <th>3</th>\n",
       "      <td>20046</td>\n",
       "      <td>1960</td>\n",
       "      <td>-205</td>\n",
       "      <td>-32.9</td>\n",
       "      <td>-27.2</td>\n",
       "      <td>-19.9</td>\n",
       "      <td>-7.3</td>\n",
       "      <td>-0.6</td>\n",
       "      <td>1.4</td>\n",
       "      <td>-0.1</td>\n",
       "      <td>-2.2</td>\n",
       "      <td>-12.4</td>\n",
       "      <td>-21.9</td>\n",
       "      <td>-22.4</td>\n",
       "    </tr>\n",
       "    <tr>\n",
       "      <th>4</th>\n",
       "      <td>20046</td>\n",
       "      <td>1961</td>\n",
       "      <td>-27.3</td>\n",
       "      <td>-27.4</td>\n",
       "      <td>-19.4</td>\n",
       "      <td>-16.3</td>\n",
       "      <td>-11.8</td>\n",
       "      <td>-0.8</td>\n",
       "      <td>1.5</td>\n",
       "      <td>1.5</td>\n",
       "      <td>-3.3</td>\n",
       "      <td>-9.6</td>\n",
       "      <td>-19.9</td>\n",
       "      <td>-27.3</td>\n",
       "    </tr>\n",
       "  </tbody>\n",
       "</table>\n",
       "</div>"
      ]
     },
     "execution_count": 9,
     "metadata": {},
     "output_type": "execute_result"
    }
   ],
   "execution_count": 9
  },
  {
   "metadata": {},
   "cell_type": "code",
   "outputs": [],
   "execution_count": null,
   "source": "",
   "id": "360716e6b1e2afa9"
  }
 ],
 "metadata": {
  "kernelspec": {
   "display_name": "Python 3",
   "language": "python",
   "name": "python3"
  },
  "language_info": {
   "codemirror_mode": {
    "name": "ipython",
    "version": 2
   },
   "file_extension": ".py",
   "mimetype": "text/x-python",
   "name": "python",
   "nbconvert_exporter": "python",
   "pygments_lexer": "ipython2",
   "version": "2.7.6"
  }
 },
 "nbformat": 4,
 "nbformat_minor": 5
}
