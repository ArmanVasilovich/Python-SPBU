{
 "cells": [
  {
   "metadata": {},
   "cell_type": "markdown",
   "source": [
    "# November 11th\n",
    "# Data vizualization with Matplotlib and Seaborn libraries"
   ],
   "id": "c2bca3cf4e4fc418"
  },
  {
   "cell_type": "code",
   "id": "initial_id",
   "metadata": {
    "collapsed": true,
    "ExecuteTime": {
     "end_time": "2024-11-11T09:08:59.535251Z",
     "start_time": "2024-11-11T09:08:52.585709Z"
    }
   },
   "source": [
    "import numpy as np\n",
    "import pandas as pd\n",
    "import matplotlib.pyplot as plt"
   ],
   "outputs": [],
   "execution_count": 1
  },
  {
   "metadata": {
    "ExecuteTime": {
     "end_time": "2024-11-11T09:09:00.576763Z",
     "start_time": "2024-11-11T09:08:59.700428Z"
    }
   },
   "cell_type": "code",
   "source": [
    "df = pd.read_csv('./Data/tmp.txt', sep = ';', header = None)\n",
    "df.head()"
   ],
   "id": "fae7ae49d39fa2c9",
   "outputs": [
    {
     "data": {
      "text/plain": [
       "      0     1      2      3      4      5      6      7      8      9      10  \\\n",
       "0  20046  1957                                                                  \n",
       "1  20046  1958  -21.1  -25.4  -27.4  -19.9   -9.5   -1.8    1.0   -0.5   -4.0   \n",
       "2  20046  1959  -28.6  -26.3  -23.8  -16.6   -8.6   -0.9    1.1    0.8   -1.4   \n",
       "3  20046  1960   -205  -32.9  -27.2  -19.9   -7.3   -0.6    1.4   -0.1   -2.2   \n",
       "4  20046  1961  -27.3  -27.4  -19.4  -16.3  -11.8   -0.8    1.5    1.5   -3.3   \n",
       "\n",
       "      11     12     13  \n",
       "0         -24.4  -26.1  \n",
       "1  -11.6  -19.3  -27.0  \n",
       "2   -5.2  -10.1  -17.9  \n",
       "3  -12.4  -21.9  -22.4  \n",
       "4   -9.6  -19.9  -27.3  "
      ],
      "text/html": [
       "<div>\n",
       "<style scoped>\n",
       "    .dataframe tbody tr th:only-of-type {\n",
       "        vertical-align: middle;\n",
       "    }\n",
       "\n",
       "    .dataframe tbody tr th {\n",
       "        vertical-align: top;\n",
       "    }\n",
       "\n",
       "    .dataframe thead th {\n",
       "        text-align: right;\n",
       "    }\n",
       "</style>\n",
       "<table border=\"1\" class=\"dataframe\">\n",
       "  <thead>\n",
       "    <tr style=\"text-align: right;\">\n",
       "      <th></th>\n",
       "      <th>0</th>\n",
       "      <th>1</th>\n",
       "      <th>2</th>\n",
       "      <th>3</th>\n",
       "      <th>4</th>\n",
       "      <th>5</th>\n",
       "      <th>6</th>\n",
       "      <th>7</th>\n",
       "      <th>8</th>\n",
       "      <th>9</th>\n",
       "      <th>10</th>\n",
       "      <th>11</th>\n",
       "      <th>12</th>\n",
       "      <th>13</th>\n",
       "    </tr>\n",
       "  </thead>\n",
       "  <tbody>\n",
       "    <tr>\n",
       "      <th>0</th>\n",
       "      <td>20046</td>\n",
       "      <td>1957</td>\n",
       "      <td></td>\n",
       "      <td></td>\n",
       "      <td></td>\n",
       "      <td></td>\n",
       "      <td></td>\n",
       "      <td></td>\n",
       "      <td></td>\n",
       "      <td></td>\n",
       "      <td></td>\n",
       "      <td></td>\n",
       "      <td>-24.4</td>\n",
       "      <td>-26.1</td>\n",
       "    </tr>\n",
       "    <tr>\n",
       "      <th>1</th>\n",
       "      <td>20046</td>\n",
       "      <td>1958</td>\n",
       "      <td>-21.1</td>\n",
       "      <td>-25.4</td>\n",
       "      <td>-27.4</td>\n",
       "      <td>-19.9</td>\n",
       "      <td>-9.5</td>\n",
       "      <td>-1.8</td>\n",
       "      <td>1.0</td>\n",
       "      <td>-0.5</td>\n",
       "      <td>-4.0</td>\n",
       "      <td>-11.6</td>\n",
       "      <td>-19.3</td>\n",
       "      <td>-27.0</td>\n",
       "    </tr>\n",
       "    <tr>\n",
       "      <th>2</th>\n",
       "      <td>20046</td>\n",
       "      <td>1959</td>\n",
       "      <td>-28.6</td>\n",
       "      <td>-26.3</td>\n",
       "      <td>-23.8</td>\n",
       "      <td>-16.6</td>\n",
       "      <td>-8.6</td>\n",
       "      <td>-0.9</td>\n",
       "      <td>1.1</td>\n",
       "      <td>0.8</td>\n",
       "      <td>-1.4</td>\n",
       "      <td>-5.2</td>\n",
       "      <td>-10.1</td>\n",
       "      <td>-17.9</td>\n",
       "    </tr>\n",
       "    <tr>\n",
       "      <th>3</th>\n",
       "      <td>20046</td>\n",
       "      <td>1960</td>\n",
       "      <td>-205</td>\n",
       "      <td>-32.9</td>\n",
       "      <td>-27.2</td>\n",
       "      <td>-19.9</td>\n",
       "      <td>-7.3</td>\n",
       "      <td>-0.6</td>\n",
       "      <td>1.4</td>\n",
       "      <td>-0.1</td>\n",
       "      <td>-2.2</td>\n",
       "      <td>-12.4</td>\n",
       "      <td>-21.9</td>\n",
       "      <td>-22.4</td>\n",
       "    </tr>\n",
       "    <tr>\n",
       "      <th>4</th>\n",
       "      <td>20046</td>\n",
       "      <td>1961</td>\n",
       "      <td>-27.3</td>\n",
       "      <td>-27.4</td>\n",
       "      <td>-19.4</td>\n",
       "      <td>-16.3</td>\n",
       "      <td>-11.8</td>\n",
       "      <td>-0.8</td>\n",
       "      <td>1.5</td>\n",
       "      <td>1.5</td>\n",
       "      <td>-3.3</td>\n",
       "      <td>-9.6</td>\n",
       "      <td>-19.9</td>\n",
       "      <td>-27.3</td>\n",
       "    </tr>\n",
       "  </tbody>\n",
       "</table>\n",
       "</div>"
      ]
     },
     "execution_count": 2,
     "metadata": {},
     "output_type": "execute_result"
    }
   ],
   "execution_count": 2
  },
  {
   "metadata": {
    "ExecuteTime": {
     "end_time": "2024-11-11T09:09:02.037406Z",
     "start_time": "2024-11-11T09:09:01.907767Z"
    }
   },
   "cell_type": "code",
   "source": [
    "df.columns = ['station_id', 'year', 'jan', 'feb', 'mar', 'apr', 'may', 'june', 'july', 'aug', 'sept', 'oct', 'nov', 'dec']\n",
    "df.head()"
   ],
   "id": "360716e6b1e2afa9",
   "outputs": [
    {
     "data": {
      "text/plain": [
       "   station_id  year    jan    feb    mar    apr    may   june   july    aug  \\\n",
       "0       20046  1957                                                           \n",
       "1       20046  1958  -21.1  -25.4  -27.4  -19.9   -9.5   -1.8    1.0   -0.5   \n",
       "2       20046  1959  -28.6  -26.3  -23.8  -16.6   -8.6   -0.9    1.1    0.8   \n",
       "3       20046  1960   -205  -32.9  -27.2  -19.9   -7.3   -0.6    1.4   -0.1   \n",
       "4       20046  1961  -27.3  -27.4  -19.4  -16.3  -11.8   -0.8    1.5    1.5   \n",
       "\n",
       "    sept    oct    nov    dec  \n",
       "0                -24.4  -26.1  \n",
       "1   -4.0  -11.6  -19.3  -27.0  \n",
       "2   -1.4   -5.2  -10.1  -17.9  \n",
       "3   -2.2  -12.4  -21.9  -22.4  \n",
       "4   -3.3   -9.6  -19.9  -27.3  "
      ],
      "text/html": [
       "<div>\n",
       "<style scoped>\n",
       "    .dataframe tbody tr th:only-of-type {\n",
       "        vertical-align: middle;\n",
       "    }\n",
       "\n",
       "    .dataframe tbody tr th {\n",
       "        vertical-align: top;\n",
       "    }\n",
       "\n",
       "    .dataframe thead th {\n",
       "        text-align: right;\n",
       "    }\n",
       "</style>\n",
       "<table border=\"1\" class=\"dataframe\">\n",
       "  <thead>\n",
       "    <tr style=\"text-align: right;\">\n",
       "      <th></th>\n",
       "      <th>station_id</th>\n",
       "      <th>year</th>\n",
       "      <th>jan</th>\n",
       "      <th>feb</th>\n",
       "      <th>mar</th>\n",
       "      <th>apr</th>\n",
       "      <th>may</th>\n",
       "      <th>june</th>\n",
       "      <th>july</th>\n",
       "      <th>aug</th>\n",
       "      <th>sept</th>\n",
       "      <th>oct</th>\n",
       "      <th>nov</th>\n",
       "      <th>dec</th>\n",
       "    </tr>\n",
       "  </thead>\n",
       "  <tbody>\n",
       "    <tr>\n",
       "      <th>0</th>\n",
       "      <td>20046</td>\n",
       "      <td>1957</td>\n",
       "      <td></td>\n",
       "      <td></td>\n",
       "      <td></td>\n",
       "      <td></td>\n",
       "      <td></td>\n",
       "      <td></td>\n",
       "      <td></td>\n",
       "      <td></td>\n",
       "      <td></td>\n",
       "      <td></td>\n",
       "      <td>-24.4</td>\n",
       "      <td>-26.1</td>\n",
       "    </tr>\n",
       "    <tr>\n",
       "      <th>1</th>\n",
       "      <td>20046</td>\n",
       "      <td>1958</td>\n",
       "      <td>-21.1</td>\n",
       "      <td>-25.4</td>\n",
       "      <td>-27.4</td>\n",
       "      <td>-19.9</td>\n",
       "      <td>-9.5</td>\n",
       "      <td>-1.8</td>\n",
       "      <td>1.0</td>\n",
       "      <td>-0.5</td>\n",
       "      <td>-4.0</td>\n",
       "      <td>-11.6</td>\n",
       "      <td>-19.3</td>\n",
       "      <td>-27.0</td>\n",
       "    </tr>\n",
       "    <tr>\n",
       "      <th>2</th>\n",
       "      <td>20046</td>\n",
       "      <td>1959</td>\n",
       "      <td>-28.6</td>\n",
       "      <td>-26.3</td>\n",
       "      <td>-23.8</td>\n",
       "      <td>-16.6</td>\n",
       "      <td>-8.6</td>\n",
       "      <td>-0.9</td>\n",
       "      <td>1.1</td>\n",
       "      <td>0.8</td>\n",
       "      <td>-1.4</td>\n",
       "      <td>-5.2</td>\n",
       "      <td>-10.1</td>\n",
       "      <td>-17.9</td>\n",
       "    </tr>\n",
       "    <tr>\n",
       "      <th>3</th>\n",
       "      <td>20046</td>\n",
       "      <td>1960</td>\n",
       "      <td>-205</td>\n",
       "      <td>-32.9</td>\n",
       "      <td>-27.2</td>\n",
       "      <td>-19.9</td>\n",
       "      <td>-7.3</td>\n",
       "      <td>-0.6</td>\n",
       "      <td>1.4</td>\n",
       "      <td>-0.1</td>\n",
       "      <td>-2.2</td>\n",
       "      <td>-12.4</td>\n",
       "      <td>-21.9</td>\n",
       "      <td>-22.4</td>\n",
       "    </tr>\n",
       "    <tr>\n",
       "      <th>4</th>\n",
       "      <td>20046</td>\n",
       "      <td>1961</td>\n",
       "      <td>-27.3</td>\n",
       "      <td>-27.4</td>\n",
       "      <td>-19.4</td>\n",
       "      <td>-16.3</td>\n",
       "      <td>-11.8</td>\n",
       "      <td>-0.8</td>\n",
       "      <td>1.5</td>\n",
       "      <td>1.5</td>\n",
       "      <td>-3.3</td>\n",
       "      <td>-9.6</td>\n",
       "      <td>-19.9</td>\n",
       "      <td>-27.3</td>\n",
       "    </tr>\n",
       "  </tbody>\n",
       "</table>\n",
       "</div>"
      ]
     },
     "execution_count": 3,
     "metadata": {},
     "output_type": "execute_result"
    }
   ],
   "execution_count": 3
  },
  {
   "metadata": {
    "ExecuteTime": {
     "end_time": "2024-11-11T09:09:02.388098Z",
     "start_time": "2024-11-11T09:09:02.378343Z"
    }
   },
   "cell_type": "code",
   "source": "df.shape",
   "id": "e5ce73bed4a54675",
   "outputs": [
    {
     "data": {
      "text/plain": [
       "(51495, 14)"
      ]
     },
     "execution_count": 4,
     "metadata": {},
     "output_type": "execute_result"
    }
   ],
   "execution_count": 4
  },
  {
   "metadata": {
    "ExecuteTime": {
     "end_time": "2024-11-11T09:09:03.431415Z",
     "start_time": "2024-11-11T09:09:03.319986Z"
    }
   },
   "cell_type": "code",
   "source": "df.isnull().sum()",
   "id": "54021b7f4891f323",
   "outputs": [
    {
     "data": {
      "text/plain": [
       "station_id    0\n",
       "year          0\n",
       "jan           0\n",
       "feb           0\n",
       "mar           0\n",
       "apr           0\n",
       "may           0\n",
       "june          0\n",
       "july          0\n",
       "aug           0\n",
       "sept          0\n",
       "oct           0\n",
       "nov           0\n",
       "dec           0\n",
       "dtype: int64"
      ]
     },
     "execution_count": 5,
     "metadata": {},
     "output_type": "execute_result"
    }
   ],
   "execution_count": 5
  },
  {
   "metadata": {
    "ExecuteTime": {
     "end_time": "2024-11-11T09:09:05.268349Z",
     "start_time": "2024-11-11T09:09:05.232475Z"
    }
   },
   "cell_type": "code",
   "source": "df.dtypes",
   "id": "f2e2dac20841b74e",
   "outputs": [
    {
     "data": {
      "text/plain": [
       "station_id     int64\n",
       "year           int64\n",
       "jan           object\n",
       "feb           object\n",
       "mar           object\n",
       "apr           object\n",
       "may           object\n",
       "june          object\n",
       "july          object\n",
       "aug           object\n",
       "sept          object\n",
       "oct           object\n",
       "nov           object\n",
       "dec           object\n",
       "dtype: object"
      ]
     },
     "execution_count": 6,
     "metadata": {},
     "output_type": "execute_result"
    }
   ],
   "execution_count": 6
  },
  {
   "metadata": {
    "ExecuteTime": {
     "end_time": "2024-11-11T09:09:06.000719Z",
     "start_time": "2024-11-11T09:09:05.990759Z"
    }
   },
   "cell_type": "code",
   "source": "months = df.columns[2:]",
   "id": "6a2afa617b0556c9",
   "outputs": [],
   "execution_count": 7
  },
  {
   "metadata": {
    "ExecuteTime": {
     "end_time": "2024-11-11T09:09:09.193953Z",
     "start_time": "2024-11-11T09:09:07.494974Z"
    }
   },
   "cell_type": "code",
   "source": "df[months] = df[months].apply(pd.to_numeric, errors='coerce')",
   "id": "2c092a9b6e17cac3",
   "outputs": [],
   "execution_count": 8
  },
  {
   "metadata": {
    "ExecuteTime": {
     "end_time": "2024-11-11T09:09:09.497920Z",
     "start_time": "2024-11-11T09:09:09.406901Z"
    }
   },
   "cell_type": "code",
   "source": "df.head()",
   "id": "72f275a2eb526736",
   "outputs": [
    {
     "data": {
      "text/plain": [
       "   station_id  year    jan   feb   mar   apr   may  june  july  aug  sept  \\\n",
       "0       20046  1957    NaN   NaN   NaN   NaN   NaN   NaN   NaN  NaN   NaN   \n",
       "1       20046  1958  -21.1 -25.4 -27.4 -19.9  -9.5  -1.8   1.0 -0.5  -4.0   \n",
       "2       20046  1959  -28.6 -26.3 -23.8 -16.6  -8.6  -0.9   1.1  0.8  -1.4   \n",
       "3       20046  1960 -205.0 -32.9 -27.2 -19.9  -7.3  -0.6   1.4 -0.1  -2.2   \n",
       "4       20046  1961  -27.3 -27.4 -19.4 -16.3 -11.8  -0.8   1.5  1.5  -3.3   \n",
       "\n",
       "    oct   nov   dec  \n",
       "0   NaN -24.4 -26.1  \n",
       "1 -11.6 -19.3 -27.0  \n",
       "2  -5.2 -10.1 -17.9  \n",
       "3 -12.4 -21.9 -22.4  \n",
       "4  -9.6 -19.9 -27.3  "
      ],
      "text/html": [
       "<div>\n",
       "<style scoped>\n",
       "    .dataframe tbody tr th:only-of-type {\n",
       "        vertical-align: middle;\n",
       "    }\n",
       "\n",
       "    .dataframe tbody tr th {\n",
       "        vertical-align: top;\n",
       "    }\n",
       "\n",
       "    .dataframe thead th {\n",
       "        text-align: right;\n",
       "    }\n",
       "</style>\n",
       "<table border=\"1\" class=\"dataframe\">\n",
       "  <thead>\n",
       "    <tr style=\"text-align: right;\">\n",
       "      <th></th>\n",
       "      <th>station_id</th>\n",
       "      <th>year</th>\n",
       "      <th>jan</th>\n",
       "      <th>feb</th>\n",
       "      <th>mar</th>\n",
       "      <th>apr</th>\n",
       "      <th>may</th>\n",
       "      <th>june</th>\n",
       "      <th>july</th>\n",
       "      <th>aug</th>\n",
       "      <th>sept</th>\n",
       "      <th>oct</th>\n",
       "      <th>nov</th>\n",
       "      <th>dec</th>\n",
       "    </tr>\n",
       "  </thead>\n",
       "  <tbody>\n",
       "    <tr>\n",
       "      <th>0</th>\n",
       "      <td>20046</td>\n",
       "      <td>1957</td>\n",
       "      <td>NaN</td>\n",
       "      <td>NaN</td>\n",
       "      <td>NaN</td>\n",
       "      <td>NaN</td>\n",
       "      <td>NaN</td>\n",
       "      <td>NaN</td>\n",
       "      <td>NaN</td>\n",
       "      <td>NaN</td>\n",
       "      <td>NaN</td>\n",
       "      <td>NaN</td>\n",
       "      <td>-24.4</td>\n",
       "      <td>-26.1</td>\n",
       "    </tr>\n",
       "    <tr>\n",
       "      <th>1</th>\n",
       "      <td>20046</td>\n",
       "      <td>1958</td>\n",
       "      <td>-21.1</td>\n",
       "      <td>-25.4</td>\n",
       "      <td>-27.4</td>\n",
       "      <td>-19.9</td>\n",
       "      <td>-9.5</td>\n",
       "      <td>-1.8</td>\n",
       "      <td>1.0</td>\n",
       "      <td>-0.5</td>\n",
       "      <td>-4.0</td>\n",
       "      <td>-11.6</td>\n",
       "      <td>-19.3</td>\n",
       "      <td>-27.0</td>\n",
       "    </tr>\n",
       "    <tr>\n",
       "      <th>2</th>\n",
       "      <td>20046</td>\n",
       "      <td>1959</td>\n",
       "      <td>-28.6</td>\n",
       "      <td>-26.3</td>\n",
       "      <td>-23.8</td>\n",
       "      <td>-16.6</td>\n",
       "      <td>-8.6</td>\n",
       "      <td>-0.9</td>\n",
       "      <td>1.1</td>\n",
       "      <td>0.8</td>\n",
       "      <td>-1.4</td>\n",
       "      <td>-5.2</td>\n",
       "      <td>-10.1</td>\n",
       "      <td>-17.9</td>\n",
       "    </tr>\n",
       "    <tr>\n",
       "      <th>3</th>\n",
       "      <td>20046</td>\n",
       "      <td>1960</td>\n",
       "      <td>-205.0</td>\n",
       "      <td>-32.9</td>\n",
       "      <td>-27.2</td>\n",
       "      <td>-19.9</td>\n",
       "      <td>-7.3</td>\n",
       "      <td>-0.6</td>\n",
       "      <td>1.4</td>\n",
       "      <td>-0.1</td>\n",
       "      <td>-2.2</td>\n",
       "      <td>-12.4</td>\n",
       "      <td>-21.9</td>\n",
       "      <td>-22.4</td>\n",
       "    </tr>\n",
       "    <tr>\n",
       "      <th>4</th>\n",
       "      <td>20046</td>\n",
       "      <td>1961</td>\n",
       "      <td>-27.3</td>\n",
       "      <td>-27.4</td>\n",
       "      <td>-19.4</td>\n",
       "      <td>-16.3</td>\n",
       "      <td>-11.8</td>\n",
       "      <td>-0.8</td>\n",
       "      <td>1.5</td>\n",
       "      <td>1.5</td>\n",
       "      <td>-3.3</td>\n",
       "      <td>-9.6</td>\n",
       "      <td>-19.9</td>\n",
       "      <td>-27.3</td>\n",
       "    </tr>\n",
       "  </tbody>\n",
       "</table>\n",
       "</div>"
      ]
     },
     "execution_count": 9,
     "metadata": {},
     "output_type": "execute_result"
    }
   ],
   "execution_count": 9
  },
  {
   "metadata": {
    "ExecuteTime": {
     "end_time": "2024-11-11T09:09:10.011024Z",
     "start_time": "2024-11-11T09:09:09.951727Z"
    }
   },
   "cell_type": "code",
   "source": "df.isnull().sum()",
   "id": "5e5249dd742bd06d",
   "outputs": [
    {
     "data": {
      "text/plain": [
       "station_id       0\n",
       "year             0\n",
       "jan           3597\n",
       "feb           3513\n",
       "mar           3452\n",
       "apr           3448\n",
       "may           3511\n",
       "june          3541\n",
       "july          3637\n",
       "aug           3646\n",
       "sept          3603\n",
       "oct           3618\n",
       "nov           3674\n",
       "dec           3860\n",
       "dtype: int64"
      ]
     },
     "execution_count": 10,
     "metadata": {},
     "output_type": "execute_result"
    }
   ],
   "execution_count": 10
  },
  {
   "metadata": {
    "ExecuteTime": {
     "end_time": "2024-11-11T09:09:10.506085Z",
     "start_time": "2024-11-11T09:09:10.461045Z"
    }
   },
   "cell_type": "code",
   "source": "df.dropna(inplace=True)",
   "id": "4178cec466fef1b9",
   "outputs": [],
   "execution_count": 11
  },
  {
   "metadata": {
    "ExecuteTime": {
     "end_time": "2024-11-11T09:09:10.771869Z",
     "start_time": "2024-11-11T09:09:10.723344Z"
    }
   },
   "cell_type": "code",
   "source": "df.info()",
   "id": "ecabb49fb7e0892",
   "outputs": [
    {
     "name": "stdout",
     "output_type": "stream",
     "text": [
      "<class 'pandas.core.frame.DataFrame'>\n",
      "Index: 45423 entries, 1 to 51494\n",
      "Data columns (total 14 columns):\n",
      " #   Column      Non-Null Count  Dtype  \n",
      "---  ------      --------------  -----  \n",
      " 0   station_id  45423 non-null  int64  \n",
      " 1   year        45423 non-null  int64  \n",
      " 2   jan         45423 non-null  float64\n",
      " 3   feb         45423 non-null  float64\n",
      " 4   mar         45423 non-null  float64\n",
      " 5   apr         45423 non-null  float64\n",
      " 6   may         45423 non-null  float64\n",
      " 7   june        45423 non-null  float64\n",
      " 8   july        45423 non-null  float64\n",
      " 9   aug         45423 non-null  float64\n",
      " 10  sept        45423 non-null  float64\n",
      " 11  oct         45423 non-null  float64\n",
      " 12  nov         45423 non-null  float64\n",
      " 13  dec         45423 non-null  float64\n",
      "dtypes: float64(12), int64(2)\n",
      "memory usage: 5.2 MB\n"
     ]
    }
   ],
   "execution_count": 12
  },
  {
   "metadata": {
    "ExecuteTime": {
     "end_time": "2024-11-11T09:09:11.602858Z",
     "start_time": "2024-11-11T09:09:11.566901Z"
    }
   },
   "cell_type": "code",
   "source": "df.head()",
   "id": "72cccfdc9685570f",
   "outputs": [
    {
     "data": {
      "text/plain": [
       "   station_id  year    jan   feb   mar   apr   may  june  july  aug  sept  \\\n",
       "1       20046  1958  -21.1 -25.4 -27.4 -19.9  -9.5  -1.8   1.0 -0.5  -4.0   \n",
       "2       20046  1959  -28.6 -26.3 -23.8 -16.6  -8.6  -0.9   1.1  0.8  -1.4   \n",
       "3       20046  1960 -205.0 -32.9 -27.2 -19.9  -7.3  -0.6   1.4 -0.1  -2.2   \n",
       "4       20046  1961  -27.3 -27.4 -19.4 -16.3 -11.8  -0.8   1.5  1.5  -3.3   \n",
       "5       20046  1962  -30.1 -29.9 -24.4 -20.1 -12.3  -1.6   0.5 -0.3  -4.1   \n",
       "\n",
       "    oct   nov   dec  \n",
       "1 -11.6 -19.3 -27.0  \n",
       "2  -5.2 -10.1 -17.9  \n",
       "3 -12.4 -21.9 -22.4  \n",
       "4  -9.6 -19.9 -27.3  \n",
       "5 -14.0 -11.2 -27.2  "
      ],
      "text/html": [
       "<div>\n",
       "<style scoped>\n",
       "    .dataframe tbody tr th:only-of-type {\n",
       "        vertical-align: middle;\n",
       "    }\n",
       "\n",
       "    .dataframe tbody tr th {\n",
       "        vertical-align: top;\n",
       "    }\n",
       "\n",
       "    .dataframe thead th {\n",
       "        text-align: right;\n",
       "    }\n",
       "</style>\n",
       "<table border=\"1\" class=\"dataframe\">\n",
       "  <thead>\n",
       "    <tr style=\"text-align: right;\">\n",
       "      <th></th>\n",
       "      <th>station_id</th>\n",
       "      <th>year</th>\n",
       "      <th>jan</th>\n",
       "      <th>feb</th>\n",
       "      <th>mar</th>\n",
       "      <th>apr</th>\n",
       "      <th>may</th>\n",
       "      <th>june</th>\n",
       "      <th>july</th>\n",
       "      <th>aug</th>\n",
       "      <th>sept</th>\n",
       "      <th>oct</th>\n",
       "      <th>nov</th>\n",
       "      <th>dec</th>\n",
       "    </tr>\n",
       "  </thead>\n",
       "  <tbody>\n",
       "    <tr>\n",
       "      <th>1</th>\n",
       "      <td>20046</td>\n",
       "      <td>1958</td>\n",
       "      <td>-21.1</td>\n",
       "      <td>-25.4</td>\n",
       "      <td>-27.4</td>\n",
       "      <td>-19.9</td>\n",
       "      <td>-9.5</td>\n",
       "      <td>-1.8</td>\n",
       "      <td>1.0</td>\n",
       "      <td>-0.5</td>\n",
       "      <td>-4.0</td>\n",
       "      <td>-11.6</td>\n",
       "      <td>-19.3</td>\n",
       "      <td>-27.0</td>\n",
       "    </tr>\n",
       "    <tr>\n",
       "      <th>2</th>\n",
       "      <td>20046</td>\n",
       "      <td>1959</td>\n",
       "      <td>-28.6</td>\n",
       "      <td>-26.3</td>\n",
       "      <td>-23.8</td>\n",
       "      <td>-16.6</td>\n",
       "      <td>-8.6</td>\n",
       "      <td>-0.9</td>\n",
       "      <td>1.1</td>\n",
       "      <td>0.8</td>\n",
       "      <td>-1.4</td>\n",
       "      <td>-5.2</td>\n",
       "      <td>-10.1</td>\n",
       "      <td>-17.9</td>\n",
       "    </tr>\n",
       "    <tr>\n",
       "      <th>3</th>\n",
       "      <td>20046</td>\n",
       "      <td>1960</td>\n",
       "      <td>-205.0</td>\n",
       "      <td>-32.9</td>\n",
       "      <td>-27.2</td>\n",
       "      <td>-19.9</td>\n",
       "      <td>-7.3</td>\n",
       "      <td>-0.6</td>\n",
       "      <td>1.4</td>\n",
       "      <td>-0.1</td>\n",
       "      <td>-2.2</td>\n",
       "      <td>-12.4</td>\n",
       "      <td>-21.9</td>\n",
       "      <td>-22.4</td>\n",
       "    </tr>\n",
       "    <tr>\n",
       "      <th>4</th>\n",
       "      <td>20046</td>\n",
       "      <td>1961</td>\n",
       "      <td>-27.3</td>\n",
       "      <td>-27.4</td>\n",
       "      <td>-19.4</td>\n",
       "      <td>-16.3</td>\n",
       "      <td>-11.8</td>\n",
       "      <td>-0.8</td>\n",
       "      <td>1.5</td>\n",
       "      <td>1.5</td>\n",
       "      <td>-3.3</td>\n",
       "      <td>-9.6</td>\n",
       "      <td>-19.9</td>\n",
       "      <td>-27.3</td>\n",
       "    </tr>\n",
       "    <tr>\n",
       "      <th>5</th>\n",
       "      <td>20046</td>\n",
       "      <td>1962</td>\n",
       "      <td>-30.1</td>\n",
       "      <td>-29.9</td>\n",
       "      <td>-24.4</td>\n",
       "      <td>-20.1</td>\n",
       "      <td>-12.3</td>\n",
       "      <td>-1.6</td>\n",
       "      <td>0.5</td>\n",
       "      <td>-0.3</td>\n",
       "      <td>-4.1</td>\n",
       "      <td>-14.0</td>\n",
       "      <td>-11.2</td>\n",
       "      <td>-27.2</td>\n",
       "    </tr>\n",
       "  </tbody>\n",
       "</table>\n",
       "</div>"
      ]
     },
     "execution_count": 13,
     "metadata": {},
     "output_type": "execute_result"
    }
   ],
   "execution_count": 13
  },
  {
   "metadata": {
    "ExecuteTime": {
     "end_time": "2024-11-11T09:09:12.106015Z",
     "start_time": "2024-11-11T09:09:12.078510Z"
    }
   },
   "cell_type": "code",
   "source": "df['station_id'].unique()",
   "id": "75fafd9a46c92e05",
   "outputs": [
    {
     "data": {
      "text/plain": [
       "array([20046, 20069, 20087, 20107, 20289, 20292, 20476, 20667, 20674,\n",
       "       20744, 20891, 20946, 20982, 21432, 21611, 21647, 21802, 21824,\n",
       "       21908, 21921, 21931, 21946, 21982, 22003, 22019, 22028, 22095,\n",
       "       22101, 22113, 22140, 22165, 22204, 22217, 22235, 22249, 22271,\n",
       "       22292, 22324, 22355, 22408, 22422, 22438, 22471, 22520, 22550,\n",
       "       22583, 22602, 22619, 22641, 22676, 22768, 22802, 22820, 22837,\n",
       "       22845, 22854, 22887, 22892, 22907, 22981, 23022, 23032, 23058,\n",
       "       23074, 23114, 23205, 23219, 23220, 23242, 23256, 23274, 23324,\n",
       "       23330, 23331, 23345, 23365, 23383, 23405, 23412, 23418, 23445,\n",
       "       23463, 23472, 23514, 23527, 23552, 23589, 23631, 23656, 23662,\n",
       "       23678, 23707, 23711, 23724, 23734, 23804, 23867, 23884, 23891,\n",
       "       23904, 23914, 23921, 23933, 23946, 23955, 23966, 23986, 24076,\n",
       "       24105, 24125, 24136, 24143, 24266, 24329, 24343, 24371, 24382,\n",
       "       24507, 24538, 24606, 24641, 24643, 24661, 24671, 24679, 24688,\n",
       "       24713, 24726, 24738, 24763, 24790, 24802, 24817, 24908, 24923,\n",
       "       24933, 24944, 24951, 24959, 24966, 24967, 24982, 25034, 25042,\n",
       "       25062, 25138, 25173, 25206, 25248, 25282, 25325, 25356, 25372,\n",
       "       25378, 25399, 25400, 25428, 25503, 25538, 25551, 25563, 25594,\n",
       "       25621, 25656, 25677, 25703, 25705, 25744, 25767, 25777, 25912,\n",
       "       25913, 25916, 25922, 25927, 25932, 25954, 25956, 26063, 26069,\n",
       "       26094, 26157, 26258, 26275, 26298, 26359, 26477, 26479, 26499,\n",
       "       26614, 26701, 26702, 26706, 26781, 26898, 26976, 26997, 27008,\n",
       "       27037, 27051, 27066, 27083, 27164, 27208, 27225, 27277, 27296,\n",
       "       27333, 27385, 27425, 27459, 27485, 27509, 27595, 27612, 27625,\n",
       "       27648, 27665, 27675, 27707, 27730, 27756, 27814, 27823, 27857,\n",
       "       27872, 27947, 27962, 27995, 28009, 28064, 28138, 28144, 28224,\n",
       "       28255, 28275, 28312, 28367, 28402, 28411, 28418, 28419, 28434,\n",
       "       28440, 28445, 28493, 28506, 28537, 28552, 28561, 28573, 28624,\n",
       "       28630, 28661, 28666, 28698, 28704, 28719, 28722, 28748, 28802,\n",
       "       28823, 28825, 28833, 28895, 29023, 29111, 29154, 29231, 29263,\n",
       "       29282, 29313, 29328, 29348, 29379, 29393, 29418, 29430, 29467,\n",
       "       29539, 29541, 29557, 29570, 29580, 29594, 29605, 29612, 29638,\n",
       "       29645, 29664, 29698, 29752, 29789, 29822, 29838, 29849, 29858,\n",
       "       29862, 29866, 29915, 29923, 29939, 29974, 29998, 30028, 30054,\n",
       "       30069, 30089, 30209, 30219, 30230, 30252, 30253, 30309, 30328,\n",
       "       30337, 30356, 30372, 30385, 30393, 30433, 30437, 30469, 30471,\n",
       "       30484, 30493, 30504, 30521, 30536, 30554, 30555, 30565, 30612,\n",
       "       30627, 30632, 30635, 30636, 30650, 30673, 30692, 30695, 30703,\n",
       "       30710, 30716, 30727, 30745, 30758, 30777, 30811, 30815, 30822,\n",
       "       30823, 30825, 30844, 30859, 30879, 30915, 30925, 30935, 30949,\n",
       "       30954, 30965, 31004, 31026, 31062, 31088, 31092, 31102, 31137,\n",
       "       31152, 31168, 31174, 31235, 31253, 31285, 31329, 31362, 31369,\n",
       "       31371, 31388, 31416, 31436, 31439, 31443, 31459, 31478, 31510,\n",
       "       31532, 31538, 31562, 31586, 31594, 31677, 31707, 31725, 31733,\n",
       "       31735, 31770, 31788, 31829, 31845, 31873, 31895, 31909, 31915,\n",
       "       31931, 31959, 31960, 31961, 31969, 31989, 32014, 32027, 32053,\n",
       "       32061, 32071, 32076, 32088, 32098, 32099, 32121, 32145, 32149,\n",
       "       32150, 32165, 32174, 32213, 32246, 32252, 32287, 32363, 32389,\n",
       "       32411, 32447, 32477, 32509, 32539, 32547, 32562, 32583, 32586,\n",
       "       32618, 33166, 34003, 34009, 34026, 34059, 34110, 34123, 34139,\n",
       "       34152, 34163, 34172, 34186, 34202, 34240, 34247, 34289, 34321,\n",
       "       34356, 34391, 34432, 34476, 34561, 34579, 34646, 34720, 34730,\n",
       "       34740, 34759, 34824, 34861, 34866, 34880, 34927, 34949, 34984,\n",
       "       35007, 35011, 35026, 35041, 35121, 35127, 35233, 36034, 36038,\n",
       "       36045, 36055, 36064, 36096, 36099, 36103, 36229, 36259, 36278,\n",
       "       36307, 36442, 37001, 37018, 37031, 37054, 37061, 37075, 37089,\n",
       "       37099, 37107, 37112, 37123, 37126, 37196, 37228, 37235, 37244,\n",
       "       37461, 37470, 37471, 37472, 37663])"
      ]
     },
     "execution_count": 14,
     "metadata": {},
     "output_type": "execute_result"
    }
   ],
   "execution_count": 14
  },
  {
   "metadata": {
    "ExecuteTime": {
     "end_time": "2024-11-11T09:09:23.460436Z",
     "start_time": "2024-11-11T09:09:23.442430Z"
    }
   },
   "cell_type": "code",
   "source": [
    "station1 = df[df['station_id'] == 20046].set_index('year')['feb']\n",
    "station1"
   ],
   "id": "2c1f14397b2380b2",
   "outputs": [
    {
     "data": {
      "text/plain": [
       "year\n",
       "1958   -25.4\n",
       "1959   -26.3\n",
       "1960   -32.9\n",
       "1961   -27.4\n",
       "1962   -29.9\n",
       "1963   -33.5\n",
       "1964   -21.2\n",
       "1965   -25.8\n",
       "1966   -27.3\n",
       "1967   -32.2\n",
       "1968   -23.6\n",
       "1969   -20.6\n",
       "1970   -25.2\n",
       "1971   -15.2\n",
       "1972   -26.1\n",
       "1973   -22.5\n",
       "1974   -24.1\n",
       "1975   -22.4\n",
       "1976   -20.4\n",
       "1977   -28.4\n",
       "1978   -30.6\n",
       "1979   -34.6\n",
       "1980   -23.1\n",
       "1981   -24.9\n",
       "1982   -29.0\n",
       "1983   -27.0\n",
       "1984   -15.6\n",
       "1985   -20.0\n",
       "1986   -27.4\n",
       "1987   -29.0\n",
       "1988   -20.4\n",
       "1989   -27.7\n",
       "1990   -18.0\n",
       "1991   -25.4\n",
       "1992   -26.2\n",
       "1995   -21.6\n",
       "1996   -25.9\n",
       "1997   -26.6\n",
       "2000   -21.4\n",
       "2005   -13.4\n",
       "2006   -18.4\n",
       "2009   -21.2\n",
       "2012    -9.5\n",
       "2015   -21.1\n",
       "Name: feb, dtype: float64"
      ]
     },
     "execution_count": 17,
     "metadata": {},
     "output_type": "execute_result"
    }
   ],
   "execution_count": 17
  },
  {
   "metadata": {
    "ExecuteTime": {
     "end_time": "2024-11-11T09:11:06.107649Z",
     "start_time": "2024-11-11T09:11:05.151497Z"
    }
   },
   "cell_type": "code",
   "source": [
    "plt.title('Температура для станции 20046 в феврале по годам')\n",
    "plt.xlabel('Годы')\n",
    "plt.ylabel('Температура')\n",
    "plt.plot(station1)\n",
    "plt.show()"
   ],
   "id": "19368fcc3a09ee93",
   "outputs": [
    {
     "data": {
      "text/plain": [
       "<Figure size 640x480 with 1 Axes>"
      ],
      "image/png": "[encoded data removed]"
     },
     "metadata": {},
     "output_type": "display_data"
    }
   ],
   "execution_count": 19
  },
  {
   "metadata": {
    "ExecuteTime": {
     "end_time": "2024-11-11T09:19:06.012913Z",
     "start_time": "2024-11-11T09:19:05.907067Z"
    }
   },
   "cell_type": "code",
   "source": [
    "station2 = df[df['station_id'] == 20046].set_index('year')[df.columns[2:]]\n",
    "station2.head()"
   ],
   "id": "99fb0d5d4fb97883",
   "outputs": [
    {
     "data": {
      "text/plain": [
       "        jan   feb   mar   apr   may  june  july  aug  sept   oct   nov   dec\n",
       "year                                                                        \n",
       "1958  -21.1 -25.4 -27.4 -19.9  -9.5  -1.8   1.0 -0.5  -4.0 -11.6 -19.3 -27.0\n",
       "1959  -28.6 -26.3 -23.8 -16.6  -8.6  -0.9   1.1  0.8  -1.4  -5.2 -10.1 -17.9\n",
       "1960 -205.0 -32.9 -27.2 -19.9  -7.3  -0.6   1.4 -0.1  -2.2 -12.4 -21.9 -22.4\n",
       "1961  -27.3 -27.4 -19.4 -16.3 -11.8  -0.8   1.5  1.5  -3.3  -9.6 -19.9 -27.3\n",
       "1962  -30.1 -29.9 -24.4 -20.1 -12.3  -1.6   0.5 -0.3  -4.1 -14.0 -11.2 -27.2"
      ],
      "text/html": [
       "<div>\n",
       "<style scoped>\n",
       "    .dataframe tbody tr th:only-of-type {\n",
       "        vertical-align: middle;\n",
       "    }\n",
       "\n",
       "    .dataframe tbody tr th {\n",
       "        vertical-align: top;\n",
       "    }\n",
       "\n",
       "    .dataframe thead th {\n",
       "        text-align: right;\n",
       "    }\n",
       "</style>\n",
       "<table border=\"1\" class=\"dataframe\">\n",
       "  <thead>\n",
       "    <tr style=\"text-align: right;\">\n",
       "      <th></th>\n",
       "      <th>jan</th>\n",
       "      <th>feb</th>\n",
       "      <th>mar</th>\n",
       "      <th>apr</th>\n",
       "      <th>may</th>\n",
       "      <th>june</th>\n",
       "      <th>july</th>\n",
       "      <th>aug</th>\n",
       "      <th>sept</th>\n",
       "      <th>oct</th>\n",
       "      <th>nov</th>\n",
       "      <th>dec</th>\n",
       "    </tr>\n",
       "    <tr>\n",
       "      <th>year</th>\n",
       "      <th></th>\n",
       "      <th></th>\n",
       "      <th></th>\n",
       "      <th></th>\n",
       "      <th></th>\n",
       "      <th></th>\n",
       "      <th></th>\n",
       "      <th></th>\n",
       "      <th></th>\n",
       "      <th></th>\n",
       "      <th></th>\n",
       "      <th></th>\n",
       "    </tr>\n",
       "  </thead>\n",
       "  <tbody>\n",
       "    <tr>\n",
       "      <th>1958</th>\n",
       "      <td>-21.1</td>\n",
       "      <td>-25.4</td>\n",
       "      <td>-27.4</td>\n",
       "      <td>-19.9</td>\n",
       "      <td>-9.5</td>\n",
       "      <td>-1.8</td>\n",
       "      <td>1.0</td>\n",
       "      <td>-0.5</td>\n",
       "      <td>-4.0</td>\n",
       "      <td>-11.6</td>\n",
       "      <td>-19.3</td>\n",
       "      <td>-27.0</td>\n",
       "    </tr>\n",
       "    <tr>\n",
       "      <th>1959</th>\n",
       "      <td>-28.6</td>\n",
       "      <td>-26.3</td>\n",
       "      <td>-23.8</td>\n",
       "      <td>-16.6</td>\n",
       "      <td>-8.6</td>\n",
       "      <td>-0.9</td>\n",
       "      <td>1.1</td>\n",
       "      <td>0.8</td>\n",
       "      <td>-1.4</td>\n",
       "      <td>-5.2</td>\n",
       "      <td>-10.1</td>\n",
       "      <td>-17.9</td>\n",
       "    </tr>\n",
       "    <tr>\n",
       "      <th>1960</th>\n",
       "      <td>-205.0</td>\n",
       "      <td>-32.9</td>\n",
       "      <td>-27.2</td>\n",
       "      <td>-19.9</td>\n",
       "      <td>-7.3</td>\n",
       "      <td>-0.6</td>\n",
       "      <td>1.4</td>\n",
       "      <td>-0.1</td>\n",
       "      <td>-2.2</td>\n",
       "      <td>-12.4</td>\n",
       "      <td>-21.9</td>\n",
       "      <td>-22.4</td>\n",
       "    </tr>\n",
       "    <tr>\n",
       "      <th>1961</th>\n",
       "      <td>-27.3</td>\n",
       "      <td>-27.4</td>\n",
       "      <td>-19.4</td>\n",
       "      <td>-16.3</td>\n",
       "      <td>-11.8</td>\n",
       "      <td>-0.8</td>\n",
       "      <td>1.5</td>\n",
       "      <td>1.5</td>\n",
       "      <td>-3.3</td>\n",
       "      <td>-9.6</td>\n",
       "      <td>-19.9</td>\n",
       "      <td>-27.3</td>\n",
       "    </tr>\n",
       "    <tr>\n",
       "      <th>1962</th>\n",
       "      <td>-30.1</td>\n",
       "      <td>-29.9</td>\n",
       "      <td>-24.4</td>\n",
       "      <td>-20.1</td>\n",
       "      <td>-12.3</td>\n",
       "      <td>-1.6</td>\n",
       "      <td>0.5</td>\n",
       "      <td>-0.3</td>\n",
       "      <td>-4.1</td>\n",
       "      <td>-14.0</td>\n",
       "      <td>-11.2</td>\n",
       "      <td>-27.2</td>\n",
       "    </tr>\n",
       "  </tbody>\n",
       "</table>\n",
       "</div>"
      ]
     },
     "execution_count": 24,
     "metadata": {},
     "output_type": "execute_result"
    }
   ],
   "execution_count": 24
  },
  {
   "metadata": {
    "ExecuteTime": {
     "end_time": "2024-11-11T09:19:33.482440Z",
     "start_time": "2024-11-11T09:19:33.468628Z"
    }
   },
   "cell_type": "code",
   "source": "station2.shape",
   "id": "f2ec1663e7eba365",
   "outputs": [
    {
     "data": {
      "text/plain": [
       "(44, 12)"
      ]
     },
     "execution_count": 25,
     "metadata": {},
     "output_type": "execute_result"
    }
   ],
   "execution_count": 25
  },
  {
   "metadata": {
    "ExecuteTime": {
     "end_time": "2024-11-11T09:19:42.202947Z",
     "start_time": "2024-11-11T09:19:42.174534Z"
    }
   },
   "cell_type": "code",
   "source": "station = station2.groupby('year')[station2.columns[2:]].mean()",
   "id": "6310a759c951f083",
   "outputs": [],
   "execution_count": 26
  },
  {
   "metadata": {
    "ExecuteTime": {
     "end_time": "2024-11-11T09:19:42.909533Z",
     "start_time": "2024-11-11T09:19:42.858492Z"
    }
   },
   "cell_type": "code",
   "source": "station.head()",
   "id": "3598aa6555ddc0c5",
   "outputs": [
    {
     "data": {
      "text/plain": [
       "       mar   apr   may  june  july  aug  sept   oct   nov   dec\n",
       "year                                                           \n",
       "1958 -27.4 -19.9  -9.5  -1.8   1.0 -0.5  -4.0 -11.6 -19.3 -27.0\n",
       "1959 -23.8 -16.6  -8.6  -0.9   1.1  0.8  -1.4  -5.2 -10.1 -17.9\n",
       "1960 -27.2 -19.9  -7.3  -0.6   1.4 -0.1  -2.2 -12.4 -21.9 -22.4\n",
       "1961 -19.4 -16.3 -11.8  -0.8   1.5  1.5  -3.3  -9.6 -19.9 -27.3\n",
       "1962 -24.4 -20.1 -12.3  -1.6   0.5 -0.3  -4.1 -14.0 -11.2 -27.2"
      ],
      "text/html": [
       "<div>\n",
       "<style scoped>\n",
       "    .dataframe tbody tr th:only-of-type {\n",
       "        vertical-align: middle;\n",
       "    }\n",
       "\n",
       "    .dataframe tbody tr th {\n",
       "        vertical-align: top;\n",
       "    }\n",
       "\n",
       "    .dataframe thead th {\n",
       "        text-align: right;\n",
       "    }\n",
       "</style>\n",
       "<table border=\"1\" class=\"dataframe\">\n",
       "  <thead>\n",
       "    <tr style=\"text-align: right;\">\n",
       "      <th></th>\n",
       "      <th>mar</th>\n",
       "      <th>apr</th>\n",
       "      <th>may</th>\n",
       "      <th>june</th>\n",
       "      <th>july</th>\n",
       "      <th>aug</th>\n",
       "      <th>sept</th>\n",
       "      <th>oct</th>\n",
       "      <th>nov</th>\n",
       "      <th>dec</th>\n",
       "    </tr>\n",
       "    <tr>\n",
       "      <th>year</th>\n",
       "      <th></th>\n",
       "      <th></th>\n",
       "      <th></th>\n",
       "      <th></th>\n",
       "      <th></th>\n",
       "      <th></th>\n",
       "      <th></th>\n",
       "      <th></th>\n",
       "      <th></th>\n",
       "      <th></th>\n",
       "    </tr>\n",
       "  </thead>\n",
       "  <tbody>\n",
       "    <tr>\n",
       "      <th>1958</th>\n",
       "      <td>-27.4</td>\n",
       "      <td>-19.9</td>\n",
       "      <td>-9.5</td>\n",
       "      <td>-1.8</td>\n",
       "      <td>1.0</td>\n",
       "      <td>-0.5</td>\n",
       "      <td>-4.0</td>\n",
       "      <td>-11.6</td>\n",
       "      <td>-19.3</td>\n",
       "      <td>-27.0</td>\n",
       "    </tr>\n",
       "    <tr>\n",
       "      <th>1959</th>\n",
       "      <td>-23.8</td>\n",
       "      <td>-16.6</td>\n",
       "      <td>-8.6</td>\n",
       "      <td>-0.9</td>\n",
       "      <td>1.1</td>\n",
       "      <td>0.8</td>\n",
       "      <td>-1.4</td>\n",
       "      <td>-5.2</td>\n",
       "      <td>-10.1</td>\n",
       "      <td>-17.9</td>\n",
       "    </tr>\n",
       "    <tr>\n",
       "      <th>1960</th>\n",
       "      <td>-27.2</td>\n",
       "      <td>-19.9</td>\n",
       "      <td>-7.3</td>\n",
       "      <td>-0.6</td>\n",
       "      <td>1.4</td>\n",
       "      <td>-0.1</td>\n",
       "      <td>-2.2</td>\n",
       "      <td>-12.4</td>\n",
       "      <td>-21.9</td>\n",
       "      <td>-22.4</td>\n",
       "    </tr>\n",
       "    <tr>\n",
       "      <th>1961</th>\n",
       "      <td>-19.4</td>\n",
       "      <td>-16.3</td>\n",
       "      <td>-11.8</td>\n",
       "      <td>-0.8</td>\n",
       "      <td>1.5</td>\n",
       "      <td>1.5</td>\n",
       "      <td>-3.3</td>\n",
       "      <td>-9.6</td>\n",
       "      <td>-19.9</td>\n",
       "      <td>-27.3</td>\n",
       "    </tr>\n",
       "    <tr>\n",
       "      <th>1962</th>\n",
       "      <td>-24.4</td>\n",
       "      <td>-20.1</td>\n",
       "      <td>-12.3</td>\n",
       "      <td>-1.6</td>\n",
       "      <td>0.5</td>\n",
       "      <td>-0.3</td>\n",
       "      <td>-4.1</td>\n",
       "      <td>-14.0</td>\n",
       "      <td>-11.2</td>\n",
       "      <td>-27.2</td>\n",
       "    </tr>\n",
       "  </tbody>\n",
       "</table>\n",
       "</div>"
      ]
     },
     "execution_count": 27,
     "metadata": {},
     "output_type": "execute_result"
    }
   ],
   "execution_count": 27
  },
  {
   "metadata": {
    "ExecuteTime": {
     "end_time": "2024-11-11T09:22:31.192102Z",
     "start_time": "2024-11-11T09:22:31.112090Z"
    }
   },
   "cell_type": "code",
   "source": "station2_mean = round(station2.mean(axis=1), 2)",
   "id": "7027d64a403b5fc",
   "outputs": [],
   "execution_count": 30
  },
  {
   "metadata": {
    "ExecuteTime": {
     "end_time": "2024-11-11T09:24:38.536551Z",
     "start_time": "2024-11-11T09:24:38.519078Z"
    }
   },
   "cell_type": "code",
   "source": "station2_mean.head()",
   "id": "1963798aa144b0e7",
   "outputs": [
    {
     "data": {
      "text/plain": [
       "year\n",
       "1958   -13.88\n",
       "1959   -11.46\n",
       "1960   -29.21\n",
       "1961   -13.34\n",
       "1962   -14.56\n",
       "dtype: float64"
      ]
     },
     "execution_count": 33,
     "metadata": {},
     "output_type": "execute_result"
    }
   ],
   "execution_count": 33
  },
  {
   "metadata": {
    "ExecuteTime": {
     "end_time": "2024-11-11T09:23:54.632089Z",
     "start_time": "2024-11-11T09:23:53.891980Z"
    }
   },
   "cell_type": "code",
   "source": [
    "plt.title('Температура для станции 20046 в феврале по годам')\n",
    "plt.xlabel('Годы')\n",
    "plt.ylabel('Температура')\n",
    "plt.plot(station2_mean)\n",
    "plt.show()"
   ],
   "id": "21db664e09a1d8f4",
   "outputs": [
    {
     "data": {
      "text/plain": [
       "<Figure size 640x480 with 1 Axes>"
      ],
      "image/png": "[encoded data removed]"
     },
     "metadata": {},
     "output_type": "display_data"
    }
   ],
   "execution_count": 32
  },
  {
   "metadata": {},
   "cell_type": "markdown",
   "source": "# Изменение меток осей",
   "id": "36e087d6f3675e05"
  },
  {
   "metadata": {
    "ExecuteTime": {
     "end_time": "2024-11-11T09:27:37.358233Z",
     "start_time": "2024-11-11T09:27:37.347044Z"
    }
   },
   "cell_type": "code",
   "source": "station2_mean.index.min()",
   "id": "50195b7e58117e0",
   "outputs": [
    {
     "data": {
      "text/plain": [
       "np.int64(1958)"
      ]
     },
     "execution_count": 37,
     "metadata": {},
     "output_type": "execute_result"
    }
   ],
   "execution_count": 37
  },
  {
   "metadata": {
    "ExecuteTime": {
     "end_time": "2024-11-11T09:27:49.084575Z",
     "start_time": "2024-11-11T09:27:49.054165Z"
    }
   },
   "cell_type": "code",
   "source": "station2_mean.index.max()",
   "id": "e3eb677a8a40907f",
   "outputs": [
    {
     "data": {
      "text/plain": [
       "np.int64(2015)"
      ]
     },
     "execution_count": 39,
     "metadata": {},
     "output_type": "execute_result"
    }
   ],
   "execution_count": 39
  },
  {
   "metadata": {
    "ExecuteTime": {
     "end_time": "2024-11-11T09:30:35.409383Z",
     "start_time": "2024-11-11T09:30:35.396038Z"
    }
   },
   "cell_type": "code",
   "source": [
    "x_range = list(range(station2_mean.index.min(), station2_mean.index.max() + 1, 10))\n",
    "x_range"
   ],
   "id": "8921f4ad2a46d98e",
   "outputs": [
    {
     "data": {
      "text/plain": [
       "[1958, 1968, 1978, 1988, 1998, 2008]"
      ]
     },
     "execution_count": 43,
     "metadata": {},
     "output_type": "execute_result"
    }
   ],
   "execution_count": 43
  },
  {
   "metadata": {
    "ExecuteTime": {
     "end_time": "2024-11-11T09:33:06.045016Z",
     "start_time": "2024-11-11T09:33:06.031961Z"
    }
   },
   "cell_type": "code",
   "source": [
    "x_range.append(station2_mean.index.max())\n",
    "x_range"
   ],
   "id": "3e36304fa2f15bf3",
   "outputs": [
    {
     "data": {
      "text/plain": [
       "[1958, 1968, 1978, 1988, 1998, 2008, np.int64(2015), np.int64(2015)]"
      ]
     },
     "execution_count": 45,
     "metadata": {},
     "output_type": "execute_result"
    }
   ],
   "execution_count": 45
  },
  {
   "metadata": {
    "ExecuteTime": {
     "end_time": "2024-11-11T09:33:59.462611Z",
     "start_time": "2024-11-11T09:33:59.011761Z"
    }
   },
   "cell_type": "code",
   "source": [
    "plt.title('Температура для станции 20046 в феврале по годам')\n",
    "plt.xlabel('Годы')\n",
    "plt.ylabel('Температура')\n",
    "plt.xticks(x_range)\n",
    "plt.plot(station2_mean)"
   ],
   "id": "887136ee86db89ee",
   "outputs": [
    {
     "data": {
      "text/plain": [
       "[<matplotlib.lines.Line2D at 0x1108cfe00>]"
      ]
     },
     "execution_count": 46,
     "metadata": {},
     "output_type": "execute_result"
    },
    {
     "data": {
      "text/plain": [
       "<Figure size 640x480 with 1 Axes>"
      ],
      "image/png": "[encoded data removed]"
     },
     "metadata": {},
     "output_type": "display_data"
    }
   ],
   "execution_count": 46
  },
  {
   "metadata": {},
   "cell_type": "code",
   "outputs": [],
   "execution_count": null,
   "source": "",
   "id": "212940d9b8f64f4c"
  }
 ],
 "metadata": {
  "kernelspec": {
   "display_name": "Python 3",
   "language": "python",
   "name": "python3"
  },
  "language_info": {
   "codemirror_mode": {
    "name": "ipython",
    "version": 2
   },
   "file_extension": ".py",
   "mimetype": "text/x-python",
   "name": "python",
   "nbconvert_exporter": "python",
   "pygments_lexer": "ipython2",
   "version": "2.7.6"
  }
 },
 "nbformat": 4,
 "nbformat_minor": 5
}
