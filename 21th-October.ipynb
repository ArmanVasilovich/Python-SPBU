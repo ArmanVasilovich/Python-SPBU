{
 "cells": [
  {
   "cell_type": "code",
   "id": "initial_id",
   "metadata": {
    "collapsed": true,
    "ExecuteTime": {
     "end_time": "2024-10-21T08:39:51.936140Z",
     "start_time": "2024-10-21T08:39:51.927869Z"
    }
   },
   "source": [
    "class Student:\n",
    "    def __init__(self, name, age):\n",
    "        self.name = name\n",
    "        self.age = age"
   ],
   "outputs": [],
   "execution_count": 24
  },
  {
   "metadata": {
    "ExecuteTime": {
     "end_time": "2024-10-21T08:39:51.984712Z",
     "start_time": "2024-10-21T08:39:51.958036Z"
    }
   },
   "cell_type": "code",
   "source": [
    "students = []\n",
    "students.append(Student('Петров', 18))\n",
    "students.append(Student('Иванов', 23))\n",
    "students.append(Student('Сидоров', 19))\n",
    "students.append(Student('Колмаков', 15))\n",
    "students.append(Student('Петраков', 27))\n",
    "students.append(Student('Smith', 32))\n",
    "students.append(Student('Stuart', 22))\n",
    "students.append(Student('Rassel', 17))"
   ],
   "id": "6327bb010bb05622",
   "outputs": [],
   "execution_count": 25
  },
  {
   "metadata": {
    "ExecuteTime": {
     "end_time": "2024-10-21T08:39:52.037578Z",
     "start_time": "2024-10-21T08:39:52.023592Z"
    }
   },
   "cell_type": "code",
   "source": [
    "for i in students:\n",
    "    if i.name.endswith('ов') and i.age >= 18:\n",
    "        print(i.name)"
   ],
   "id": "2086fb26b6098bc5",
   "outputs": [
    {
     "name": "stdout",
     "output_type": "stream",
     "text": [
      "Петров\n",
      "Иванов\n",
      "Сидоров\n",
      "Петраков\n"
     ]
    }
   ],
   "execution_count": 26
  },
  {
   "metadata": {},
   "cell_type": "markdown",
   "source": "# Наследование",
   "id": "e55be4f7ba045f3d"
  },
  {
   "metadata": {
    "ExecuteTime": {
     "end_time": "2024-10-21T08:39:52.268321Z",
     "start_time": "2024-10-21T08:39:52.254693Z"
    }
   },
   "cell_type": "code",
   "source": [
    "class Parent:\n",
    "    parent_attr = 100\n",
    "    \n",
    "    def __init__(self): \n",
    "        print('Вызов родительского конструктора')\n",
    "\n",
    "    def parent_method(self):\n",
    "        print('Вызов родительского метода')\n",
    "        \n",
    "    def set_attr(self, attr):\n",
    "        Parent.parent_attr = attr\n",
    "    \n",
    "    def get_attr(self):\n",
    "        print(f'Атрибут родителя: {Parent.parent_attr}')"
   ],
   "id": "71243f8579a3930e",
   "outputs": [],
   "execution_count": 27
  }
 ],
 "metadata": {
  "kernelspec": {
   "display_name": "Python 3",
   "language": "python",
   "name": "python3"
  },
  "language_info": {
   "codemirror_mode": {
    "name": "ipython",
    "version": 2
   },
   "file_extension": ".py",
   "mimetype": "text/x-python",
   "name": "python",
   "nbconvert_exporter": "python",
   "pygments_lexer": "ipython2",
   "version": "2.7.6"
  }
 },
 "nbformat": 4,
 "nbformat_minor": 5
}
