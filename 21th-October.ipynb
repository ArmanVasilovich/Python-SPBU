{
 "cells": [
  {
   "cell_type": "code",
   "id": "initial_id",
   "metadata": {
    "collapsed": true,
    "ExecuteTime": {
     "end_time": "2024-10-21T08:32:55.429110Z",
     "start_time": "2024-10-21T08:32:55.373373Z"
    }
   },
   "source": [
    "class Student:\n",
    "    def __init__(self, name, age):\n",
    "        self.name = name\n",
    "        self.age = age"
   ],
   "outputs": [],
   "execution_count": 18
  },
  {
   "metadata": {
    "ExecuteTime": {
     "end_time": "2024-10-21T08:32:55.491573Z",
     "start_time": "2024-10-21T08:32:55.478595Z"
    }
   },
   "cell_type": "code",
   "source": [
    "students = []\n",
    "students.append(Student('Петров', 18))\n",
    "students.append(Student('Иванов', 23))\n",
    "students.append(Student('Сидоров', 19))\n",
    "students.append(Student('Колмаков', 15))\n",
    "students.append(Student('Петраков', 27))\n",
    "students.append(Student('Smith', 32))\n",
    "students.append(Student('Stuart', 22))\n",
    "students.append(Student('Rassel', 17))"
   ],
   "id": "6327bb010bb05622",
   "outputs": [],
   "execution_count": 19
  },
  {
   "metadata": {
    "ExecuteTime": {
     "end_time": "2024-10-21T08:32:55.587508Z",
     "start_time": "2024-10-21T08:32:55.575418Z"
    }
   },
   "cell_type": "code",
   "source": [
    "for i in students:\n",
    "    if i.name.endswith('ов') and i.age >= 18:\n",
    "        print(i.name)"
   ],
   "id": "2086fb26b6098bc5",
   "outputs": [
    {
     "name": "stdout",
     "output_type": "stream",
     "text": [
      "Петров\n",
      "Иванов\n",
      "Сидоров\n",
      "Петраков\n"
     ]
    }
   ],
   "execution_count": 20
  },
  {
   "metadata": {},
   "cell_type": "markdown",
   "source": "# Наследование",
   "id": "e55be4f7ba045f3d"
  },
  {
   "metadata": {
    "ExecuteTime": {
     "end_time": "2024-10-21T08:32:55.803327Z",
     "start_time": "2024-10-21T08:32:55.796748Z"
    }
   },
   "cell_type": "code",
   "source": "",
   "id": "71243f8579a3930e",
   "outputs": [],
   "execution_count": null
  }
 ],
 "metadata": {
  "kernelspec": {
   "display_name": "Python 3",
   "language": "python",
   "name": "python3"
  },
  "language_info": {
   "codemirror_mode": {
    "name": "ipython",
    "version": 2
   },
   "file_extension": ".py",
   "mimetype": "text/x-python",
   "name": "python",
   "nbconvert_exporter": "python",
   "pygments_lexer": "ipython2",
   "version": "2.7.6"
  }
 },
 "nbformat": 4,
 "nbformat_minor": 5
}
