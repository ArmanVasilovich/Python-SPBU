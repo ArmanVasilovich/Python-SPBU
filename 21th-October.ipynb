{
 "cells": [
  {
   "cell_type": "code",
   "id": "initial_id",
   "metadata": {
    "collapsed": true,
    "ExecuteTime": {
     "end_time": "2024-10-21T08:45:38.038937Z",
     "start_time": "2024-10-21T08:45:38.031379Z"
    }
   },
   "source": [
    "class Student:\n",
    "    def __init__(self, name, age):\n",
    "        self.name = name\n",
    "        self.age = age"
   ],
   "outputs": [],
   "execution_count": 35
  },
  {
   "metadata": {
    "ExecuteTime": {
     "end_time": "2024-10-21T08:45:38.074899Z",
     "start_time": "2024-10-21T08:45:38.064459Z"
    }
   },
   "cell_type": "code",
   "source": [
    "students = []\n",
    "students.append(Student('Петров', 18))\n",
    "students.append(Student('Иванов', 23))\n",
    "students.append(Student('Сидоров', 19))\n",
    "students.append(Student('Колмаков', 15))\n",
    "students.append(Student('Петраков', 27))\n",
    "students.append(Student('Smith', 32))\n",
    "students.append(Student('Stuart', 22))\n",
    "students.append(Student('Rassel', 17))"
   ],
   "id": "6327bb010bb05622",
   "outputs": [],
   "execution_count": 36
  },
  {
   "metadata": {
    "ExecuteTime": {
     "end_time": "2024-10-21T08:45:38.128857Z",
     "start_time": "2024-10-21T08:45:38.120971Z"
    }
   },
   "cell_type": "code",
   "source": [
    "for i in students:\n",
    "    if i.name.endswith('ов') and i.age >= 18:\n",
    "        print(i.name)"
   ],
   "id": "2086fb26b6098bc5",
   "outputs": [
    {
     "name": "stdout",
     "output_type": "stream",
     "text": [
      "Петров\n",
      "Иванов\n",
      "Сидоров\n",
      "Петраков\n"
     ]
    }
   ],
   "execution_count": 37
  },
  {
   "metadata": {},
   "cell_type": "markdown",
   "source": "# Наследование",
   "id": "e55be4f7ba045f3d"
  },
  {
   "metadata": {
    "ExecuteTime": {
     "end_time": "2024-10-21T08:45:38.296374Z",
     "start_time": "2024-10-21T08:45:38.285479Z"
    }
   },
   "cell_type": "code",
   "source": [
    "class Parent:\n",
    "    parent_attr = 100\n",
    "    \n",
    "    def __init__(self): \n",
    "        print('Вызов родительского конструктора')\n",
    "\n",
    "    def parent_method(self):\n",
    "        print('Вызов родительского метода')\n",
    "        \n",
    "    def set_attr(self, attr):\n",
    "        Parent.parent_attr = attr\n",
    "    \n",
    "    def get_attr(self):\n",
    "        print(f'Атрибут родителя: {Parent.parent_attr}')"
   ],
   "id": "71243f8579a3930e",
   "outputs": [],
   "execution_count": 38
  },
  {
   "metadata": {
    "ExecuteTime": {
     "end_time": "2024-10-21T08:45:38.543564Z",
     "start_time": "2024-10-21T08:45:38.533805Z"
    }
   },
   "cell_type": "code",
   "source": [
    "class Child(Parent):\n",
    "    def child_method(self):\n",
    "        print('Вызов метода класса наследника')"
   ],
   "id": "3b354d4ec6a13436",
   "outputs": [],
   "execution_count": 39
  },
  {
   "metadata": {
    "ExecuteTime": {
     "end_time": "2024-10-21T08:45:38.618859Z",
     "start_time": "2024-10-21T08:45:38.604605Z"
    }
   },
   "cell_type": "code",
   "source": "myClass = Child()",
   "id": "d1b78f87c849b7f3",
   "outputs": [
    {
     "name": "stdout",
     "output_type": "stream",
     "text": [
      "Вызов родительского конструктора\n"
     ]
    }
   ],
   "execution_count": 40
  },
  {
   "metadata": {
    "ExecuteTime": {
     "end_time": "2024-10-21T08:45:38.833025Z",
     "start_time": "2024-10-21T08:45:38.827106Z"
    }
   },
   "cell_type": "code",
   "source": "myClass.child_method()",
   "id": "18feb03db5f34de4",
   "outputs": [
    {
     "name": "stdout",
     "output_type": "stream",
     "text": [
      "Вызов метода класса наследника\n"
     ]
    }
   ],
   "execution_count": 41
  },
  {
   "metadata": {
    "ExecuteTime": {
     "end_time": "2024-10-21T08:46:02.600212Z",
     "start_time": "2024-10-21T08:46:02.594070Z"
    }
   },
   "cell_type": "code",
   "source": "myClass.parent_method()",
   "id": "322a99ab7dbdef79",
   "outputs": [
    {
     "name": "stdout",
     "output_type": "stream",
     "text": [
      "Вызов родительского метода\n"
     ]
    }
   ],
   "execution_count": 42
  },
  {
   "metadata": {
    "ExecuteTime": {
     "end_time": "2024-10-21T08:46:42.249311Z",
     "start_time": "2024-10-21T08:46:42.236815Z"
    }
   },
   "cell_type": "code",
   "source": "myClass.set_attr(200)",
   "id": "25589be83bee3623",
   "outputs": [],
   "execution_count": 43
  },
  {
   "metadata": {
    "ExecuteTime": {
     "end_time": "2024-10-21T08:47:08.933334Z",
     "start_time": "2024-10-21T08:47:08.887565Z"
    }
   },
   "cell_type": "code",
   "source": "myClass.get_attr()",
   "id": "ba049cbee8e883a",
   "outputs": [
    {
     "name": "stdout",
     "output_type": "stream",
     "text": [
      "Атрибут родителя: 200\n"
     ]
    }
   ],
   "execution_count": 44
  },
  {
   "metadata": {
    "ExecuteTime": {
     "end_time": "2024-10-21T08:57:41.446451Z",
     "start_time": "2024-10-21T08:57:41.440080Z"
    }
   },
   "cell_type": "code",
   "source": [
    "class Person:\n",
    "    def __init__(self, name, age):\n",
    "        self.name = name\n",
    "        self.age = age\n",
    "        \n",
    "    def Introduce(self):\n",
    "        print(f'Мое имя - {self.name}, возраст - {self.age}')"
   ],
   "id": "af58f76a54af2b84",
   "outputs": [],
   "execution_count": 49
  },
  {
   "metadata": {
    "ExecuteTime": {
     "end_time": "2024-10-21T08:57:40.305427Z",
     "start_time": "2024-10-21T08:57:40.247187Z"
    }
   },
   "cell_type": "code",
   "source": [
    "class Student(Person):\n",
    "    def __init__(self, name, age, course):\n",
    "        super().__init__(name, age)\n",
    "        self.course = course\n",
    "    \n",
    "    def introduce(self):\n",
    "        super().Introduce()\n",
    "        print(f'Я на {self.course} курсе')"
   ],
   "id": "10ed71470b421f64",
   "outputs": [],
   "execution_count": 48
  },
  {
   "metadata": {
    "ExecuteTime": {
     "end_time": "2024-10-21T08:57:45.451011Z",
     "start_time": "2024-10-21T08:57:45.442615Z"
    }
   },
   "cell_type": "code",
   "source": [
    "student1 = Student('Иван', 20, 2)\n",
    "student1.Introduce()"
   ],
   "id": "750fe87ec4e4fd6b",
   "outputs": [
    {
     "name": "stdout",
     "output_type": "stream",
     "text": [
      "Мое имя - Иван, возраст - 20\n"
     ]
    }
   ],
   "execution_count": 50
  }
 ],
 "metadata": {
  "kernelspec": {
   "display_name": "Python 3",
   "language": "python",
   "name": "python3"
  },
  "language_info": {
   "codemirror_mode": {
    "name": "ipython",
    "version": 2
   },
   "file_extension": ".py",
   "mimetype": "text/x-python",
   "name": "python",
   "nbconvert_exporter": "python",
   "pygments_lexer": "ipython2",
   "version": "2.7.6"
  }
 },
 "nbformat": 4,
 "nbformat_minor": 5
}
