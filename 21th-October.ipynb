{
 "cells": [
  {
   "cell_type": "code",
   "id": "initial_id",
   "metadata": {
    "collapsed": true,
    "ExecuteTime": {
     "end_time": "2024-10-21T09:13:32.586847Z",
     "start_time": "2024-10-21T09:13:32.576122Z"
    }
   },
   "source": [
    "class Student:\n",
    "    def __init__(self, name, age):\n",
    "        self.name = name\n",
    "        self.age = age"
   ],
   "outputs": [],
   "execution_count": 56
  },
  {
   "metadata": {
    "ExecuteTime": {
     "end_time": "2024-10-21T09:13:32.637379Z",
     "start_time": "2024-10-21T09:13:32.616403Z"
    }
   },
   "cell_type": "code",
   "source": [
    "students = []\n",
    "students.append(Student('Петров', 18))\n",
    "students.append(Student('Иванов', 23))\n",
    "students.append(Student('Сидоров', 19))\n",
    "students.append(Student('Колмаков', 15))\n",
    "students.append(Student('Петраков', 27))\n",
    "students.append(Student('Smith', 32))\n",
    "students.append(Student('Stuart', 22))\n",
    "students.append(Student('Rassel', 17))"
   ],
   "id": "6327bb010bb05622",
   "outputs": [],
   "execution_count": 57
  },
  {
   "metadata": {
    "ExecuteTime": {
     "end_time": "2024-10-21T09:13:32.711198Z",
     "start_time": "2024-10-21T09:13:32.700359Z"
    }
   },
   "cell_type": "code",
   "source": [
    "for i in students:\n",
    "    if i.name.endswith('ов') and i.age >= 18:\n",
    "        print(i.name)"
   ],
   "id": "2086fb26b6098bc5",
   "outputs": [
    {
     "name": "stdout",
     "output_type": "stream",
     "text": [
      "Петров\n",
      "Иванов\n",
      "Сидоров\n",
      "Петраков\n"
     ]
    }
   ],
   "execution_count": 58
  },
  {
   "metadata": {},
   "cell_type": "markdown",
   "source": "# Наследование",
   "id": "e55be4f7ba045f3d"
  },
  {
   "metadata": {
    "ExecuteTime": {
     "end_time": "2024-10-21T09:13:32.808765Z",
     "start_time": "2024-10-21T09:13:32.792928Z"
    }
   },
   "cell_type": "code",
   "source": [
    "class Parent:\n",
    "    parent_attr = 100\n",
    "    \n",
    "    def __init__(self): \n",
    "        print('Вызов родительского конструктора')\n",
    "\n",
    "    def parent_method(self):\n",
    "        print('Вызов родительского метода')\n",
    "        \n",
    "    def set_attr(self, attr):\n",
    "        Parent.parent_attr = attr\n",
    "    \n",
    "    def get_attr(self):\n",
    "        print(f'Атрибут родителя: {Parent.parent_attr}')"
   ],
   "id": "71243f8579a3930e",
   "outputs": [],
   "execution_count": 59
  },
  {
   "metadata": {
    "ExecuteTime": {
     "end_time": "2024-10-21T09:13:32.969629Z",
     "start_time": "2024-10-21T09:13:32.951584Z"
    }
   },
   "cell_type": "code",
   "source": [
    "class Child(Parent):\n",
    "    def child_method(self):\n",
    "        print('Вызов метода класса наследника')"
   ],
   "id": "3b354d4ec6a13436",
   "outputs": [],
   "execution_count": 60
  },
  {
   "metadata": {
    "ExecuteTime": {
     "end_time": "2024-10-21T09:13:33.050050Z",
     "start_time": "2024-10-21T09:13:33.040505Z"
    }
   },
   "cell_type": "code",
   "source": "myClass = Child()",
   "id": "d1b78f87c849b7f3",
   "outputs": [
    {
     "name": "stdout",
     "output_type": "stream",
     "text": [
      "Вызов родительского конструктора\n"
     ]
    }
   ],
   "execution_count": 61
  },
  {
   "metadata": {
    "ExecuteTime": {
     "end_time": "2024-10-21T09:13:33.147085Z",
     "start_time": "2024-10-21T09:13:33.138150Z"
    }
   },
   "cell_type": "code",
   "source": "myClass.child_method()",
   "id": "18feb03db5f34de4",
   "outputs": [
    {
     "name": "stdout",
     "output_type": "stream",
     "text": [
      "Вызов метода класса наследника\n"
     ]
    }
   ],
   "execution_count": 62
  },
  {
   "metadata": {
    "ExecuteTime": {
     "end_time": "2024-10-21T09:13:33.255114Z",
     "start_time": "2024-10-21T09:13:33.245802Z"
    }
   },
   "cell_type": "code",
   "source": "myClass.parent_method()",
   "id": "322a99ab7dbdef79",
   "outputs": [
    {
     "name": "stdout",
     "output_type": "stream",
     "text": [
      "Вызов родительского метода\n"
     ]
    }
   ],
   "execution_count": 63
  },
  {
   "metadata": {
    "ExecuteTime": {
     "end_time": "2024-10-21T09:13:33.364235Z",
     "start_time": "2024-10-21T09:13:33.354849Z"
    }
   },
   "cell_type": "code",
   "source": "myClass.set_attr(200)",
   "id": "25589be83bee3623",
   "outputs": [],
   "execution_count": 64
  },
  {
   "metadata": {
    "ExecuteTime": {
     "end_time": "2024-10-21T09:13:33.404283Z",
     "start_time": "2024-10-21T09:13:33.396748Z"
    }
   },
   "cell_type": "code",
   "source": "myClass.get_attr()",
   "id": "ba049cbee8e883a",
   "outputs": [
    {
     "name": "stdout",
     "output_type": "stream",
     "text": [
      "Атрибут родителя: 200\n"
     ]
    }
   ],
   "execution_count": 65
  },
  {
   "metadata": {
    "ExecuteTime": {
     "end_time": "2024-10-21T09:13:33.636400Z",
     "start_time": "2024-10-21T09:13:33.621526Z"
    }
   },
   "cell_type": "code",
   "source": [
    "class Person:\n",
    "    def __init__(self, name, age):\n",
    "        self.__name = name\n",
    "        self.__age = age\n",
    "        \n",
    "    def Introduce(self):\n",
    "        print(f'Мое имя - {self.__name}, возраст - {self.__age}')"
   ],
   "id": "af58f76a54af2b84",
   "outputs": [],
   "execution_count": 66
  },
  {
   "metadata": {
    "ExecuteTime": {
     "end_time": "2024-10-21T09:13:33.730058Z",
     "start_time": "2024-10-21T09:13:33.710124Z"
    }
   },
   "cell_type": "code",
   "source": [
    "class Student(Person):\n",
    "    def __init__(self, name, age, course):\n",
    "        super().__init__(name, age)\n",
    "        self.course = course\n",
    "    \n",
    "    def introduce(self):\n",
    "        super().Introduce()\n",
    "        print(f'Я на {self.course} курсе')\n",
    "    \n",
    "    def set_age(self, age):\n",
    "        if age <= 18 and age >= 65:\n",
    "            self.__age = age\n",
    "        else:\n",
    "            raise ValueError('Вы ввели некорректный возраст')\n",
    "    def get_age(self):\n",
    "        return self.__age"
   ],
   "id": "10ed71470b421f64",
   "outputs": [],
   "execution_count": 67
  },
  {
   "metadata": {
    "ExecuteTime": {
     "end_time": "2024-10-21T09:13:33.812154Z",
     "start_time": "2024-10-21T09:13:33.801277Z"
    }
   },
   "cell_type": "code",
   "source": [
    "student1 = Student('Иван', 20, 2)\n",
    "student1.Introduce()"
   ],
   "id": "750fe87ec4e4fd6b",
   "outputs": [
    {
     "name": "stdout",
     "output_type": "stream",
     "text": [
      "Мое имя - Иван, возраст - 20\n"
     ]
    }
   ],
   "execution_count": 68
  },
  {
   "metadata": {},
   "cell_type": "markdown",
   "source": "# Инкапсуляция",
   "id": "84c0dabe491a1b16"
  },
  {
   "metadata": {
    "ExecuteTime": {
     "end_time": "2024-10-21T09:13:34.051416Z",
     "start_time": "2024-10-21T09:13:33.965126Z"
    }
   },
   "cell_type": "code",
   "source": [
    "p1 = Person('Vladimir', 20)\n",
    "print(p1.age)\n",
    "p1.age = 25\n",
    "p1.age"
   ],
   "id": "1644318c84a4a5b5",
   "outputs": [
    {
     "ename": "AttributeError",
     "evalue": "'Person' object has no attribute 'age'",
     "output_type": "error",
     "traceback": [
      "\u001B[0;31m---------------------------------------------------------------------------\u001B[0m",
      "\u001B[0;31mAttributeError\u001B[0m                            Traceback (most recent call last)",
      "Cell \u001B[0;32mIn[69], line 2\u001B[0m\n\u001B[1;32m      1\u001B[0m p1 \u001B[38;5;241m=\u001B[39m Person(\u001B[38;5;124m'\u001B[39m\u001B[38;5;124mVladimir\u001B[39m\u001B[38;5;124m'\u001B[39m, \u001B[38;5;241m20\u001B[39m)\n\u001B[0;32m----> 2\u001B[0m \u001B[38;5;28mprint\u001B[39m(\u001B[43mp1\u001B[49m\u001B[38;5;241;43m.\u001B[39;49m\u001B[43mage\u001B[49m)\n\u001B[1;32m      3\u001B[0m p1\u001B[38;5;241m.\u001B[39mage \u001B[38;5;241m=\u001B[39m \u001B[38;5;241m25\u001B[39m\n\u001B[1;32m      4\u001B[0m p1\u001B[38;5;241m.\u001B[39mage\n",
      "\u001B[0;31mAttributeError\u001B[0m: 'Person' object has no attribute 'age'"
     ]
    }
   ],
   "execution_count": 69
  },
  {
   "metadata": {
    "ExecuteTime": {
     "end_time": "2024-10-21T09:13:34.202898Z",
     "start_time": "2024-10-21T09:07:56.067296Z"
    }
   },
   "cell_type": "code",
   "source": "p1.__age",
   "id": "4bdb97d48f933e94",
   "outputs": [
    {
     "ename": "AttributeError",
     "evalue": "'Person' object has no attribute '__age'",
     "output_type": "error",
     "traceback": [
      "\u001B[0;31m---------------------------------------------------------------------------\u001B[0m",
      "\u001B[0;31mAttributeError\u001B[0m                            Traceback (most recent call last)",
      "Cell \u001B[0;32mIn[54], line 1\u001B[0m\n\u001B[0;32m----> 1\u001B[0m \u001B[43mp1\u001B[49m\u001B[38;5;241;43m.\u001B[39;49m\u001B[43m__age\u001B[49m\n",
      "\u001B[0;31mAttributeError\u001B[0m: 'Person' object has no attribute '__age'"
     ]
    }
   ],
   "execution_count": 54
  }
 ],
 "metadata": {
  "kernelspec": {
   "display_name": "Python 3",
   "language": "python",
   "name": "python3"
  },
  "language_info": {
   "codemirror_mode": {
    "name": "ipython",
    "version": 2
   },
   "file_extension": ".py",
   "mimetype": "text/x-python",
   "name": "python",
   "nbconvert_exporter": "python",
   "pygments_lexer": "ipython2",
   "version": "2.7.6"
  }
 },
 "nbformat": 4,
 "nbformat_minor": 5
}
