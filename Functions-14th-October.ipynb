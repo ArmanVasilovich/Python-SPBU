{
 "cells": [
  {
   "metadata": {},
   "cell_type": "markdown",
   "source": "# Функции",
   "id": "a96bf366d1b07395"
  },
  {
   "metadata": {
    "ExecuteTime": {
     "end_time": "2024-10-14T08:46:55.888712Z",
     "start_time": "2024-10-14T08:46:55.870910Z"
    }
   },
   "cell_type": "code",
   "source": [
    "def helloWorldFunction ():\n",
    "    return 'Hello World'\n",
    "helloWorldFunction()"
   ],
   "id": "9a5748105874e064",
   "outputs": [
    {
     "data": {
      "text/plain": [
       "'Hello World'"
      ]
     },
     "execution_count": 30,
     "metadata": {},
     "output_type": "execute_result"
    }
   ],
   "execution_count": 30
  },
  {
   "metadata": {
    "ExecuteTime": {
     "end_time": "2024-10-14T08:46:55.982430Z",
     "start_time": "2024-10-14T08:46:55.962991Z"
    }
   },
   "cell_type": "code",
   "source": [
    "# Функция для расчетов теоремы Пифагора a^2 = b^2 + с^2\n",
    "def pifagorTheoryFunction(leg1, leg2):\n",
    "    hypotenuse = leg1**2 + leg2**2\n",
    "    hypotenuse **= 0.5\n",
    "    return hypotenuse\n",
    "pifagorTheoryFunction(3, 4)"
   ],
   "id": "dd27e20d96077173",
   "outputs": [
    {
     "data": {
      "text/plain": [
       "5.0"
      ]
     },
     "execution_count": 31,
     "metadata": {},
     "output_type": "execute_result"
    }
   ],
   "execution_count": 31
  },
  {
   "metadata": {
    "ExecuteTime": {
     "end_time": "2024-10-14T08:50:22.118959Z",
     "start_time": "2024-10-14T08:50:22.110897Z"
    }
   },
   "cell_type": "code",
   "source": [
    "def introduceFunction(name, surname, age):\n",
    "    print(f'Hello, {name} {surname}! Your age is {age}!')\n",
    "\n",
    "introduceFunction('John', 'Smith', 22)"
   ],
   "id": "f33d39d85e42007d",
   "outputs": [
    {
     "name": "stdout",
     "output_type": "stream",
     "text": [
      "Hello, John Smith! Your age is 22!\n"
     ]
    }
   ],
   "execution_count": 35
  },
  {
   "metadata": {
    "ExecuteTime": {
     "end_time": "2024-10-14T08:53:38.575722Z",
     "start_time": "2024-10-14T08:53:38.553482Z"
    }
   },
   "cell_type": "code",
   "source": [
    "def sequenceFunction(start, stop):\n",
    "    myList = []\n",
    "    for i in range(start, stop + 1):\n",
    "        myList.append(i)\n",
    "    return myList\n",
    "\n",
    "sequenceFunction(10, 20)"
   ],
   "id": "9012c0897b288b4",
   "outputs": [
    {
     "data": {
      "text/plain": [
       "[10, 11, 12, 13, 14, 15, 16, 17, 18, 19, 20]"
      ]
     },
     "execution_count": 48,
     "metadata": {},
     "output_type": "execute_result"
    }
   ],
   "execution_count": 48
  }
 ],
 "metadata": {
  "kernelspec": {
   "display_name": "Python 3",
   "language": "python",
   "name": "python3"
  },
  "language_info": {
   "codemirror_mode": {
    "name": "ipython",
    "version": 2
   },
   "file_extension": ".py",
   "mimetype": "text/x-python",
   "name": "python",
   "nbconvert_exporter": "python",
   "pygments_lexer": "ipython2",
   "version": "2.7.6"
  }
 },
 "nbformat": 4,
 "nbformat_minor": 5
}
