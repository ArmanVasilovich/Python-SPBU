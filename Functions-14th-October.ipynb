{
 "cells": [
  {
   "metadata": {},
   "cell_type": "markdown",
   "source": "# Функции",
   "id": "a96bf366d1b07395"
  },
  {
   "metadata": {
    "ExecuteTime": {
     "end_time": "2024-10-14T08:30:09.923470Z",
     "start_time": "2024-10-14T08:30:09.907887Z"
    }
   },
   "cell_type": "code",
   "source": [
    "def helloWorldFunction ():\n",
    "    return 'Hello World'\n",
    "helloWorldFunction()"
   ],
   "id": "9a5748105874e064",
   "outputs": [
    {
     "data": {
      "text/plain": [
       "'Hello World'"
      ]
     },
     "execution_count": 5,
     "metadata": {},
     "output_type": "execute_result"
    }
   ],
   "execution_count": 5
  },
  {
   "metadata": {
    "ExecuteTime": {
     "end_time": "2024-10-14T08:37:49.253393Z",
     "start_time": "2024-10-14T08:37:49.242391Z"
    }
   },
   "cell_type": "code",
   "source": [
    "# Функция для расчетов теоремы Пифагора a^2 = b^2 + с^2\n",
    "def pifagorTheoryFunction(leg1, leg2):\n",
    "    hypotenuse = leg1**2 + leg2**2\n",
    "    hypotenuse **= 0.5\n",
    "    return hypotenuse\n",
    "pifagorTheoryFunction(3, 4)"
   ],
   "id": "dd27e20d96077173",
   "outputs": [
    {
     "data": {
      "text/plain": [
       "5.0"
      ]
     },
     "execution_count": 14,
     "metadata": {},
     "output_type": "execute_result"
    }
   ],
   "execution_count": 14
  }
 ],
 "metadata": {
  "kernelspec": {
   "display_name": "Python 3",
   "language": "python",
   "name": "python3"
  },
  "language_info": {
   "codemirror_mode": {
    "name": "ipython",
    "version": 2
   },
   "file_extension": ".py",
   "mimetype": "text/x-python",
   "name": "python",
   "nbconvert_exporter": "python",
   "pygments_lexer": "ipython2",
   "version": "2.7.6"
  }
 },
 "nbformat": 4,
 "nbformat_minor": 5
}
