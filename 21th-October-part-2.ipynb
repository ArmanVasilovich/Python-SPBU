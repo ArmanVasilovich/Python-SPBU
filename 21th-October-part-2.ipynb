{
 "cells": [
  {
   "metadata": {},
   "cell_type": "markdown",
   "source": "# Exceptions",
   "id": "24efbfc5cec4e269"
  },
  {
   "metadata": {
    "ExecuteTime": {
     "end_time": "2024-10-21T09:37:13.707747Z",
     "start_time": "2024-10-21T09:37:13.691404Z"
    }
   },
   "cell_type": "code",
   "source": "a, b = 1, 1",
   "id": "30436cec777aff62",
   "outputs": [],
   "execution_count": 4
  },
  {
   "metadata": {
    "ExecuteTime": {
     "end_time": "2024-10-21T09:37:47.143978Z",
     "start_time": "2024-10-21T09:37:47.126629Z"
    }
   },
   "cell_type": "code",
   "source": [
    "try:\n",
    "    result = a / b\n",
    "    print(result)\n",
    "except:\n",
    "    print('Делить на ноль нельзя!')\n",
    "else:\n",
    "    print('Этот блок выполняется, если ошибок не было')\n",
    "finally:\n",
    "    print('Были ошибки или неть - мне без разницы!')"
   ],
   "id": "5c6b1ca4a1ca6f85",
   "outputs": [
    {
     "name": "stdout",
     "output_type": "stream",
     "text": [
      "1.0\n",
      "Этот блок выполняется, если ошибок не было\n",
      "Были ошибки или неть - мне без разницы!\n"
     ]
    }
   ],
   "execution_count": 6
  }
 ],
 "metadata": {
  "kernelspec": {
   "display_name": "Python 3",
   "language": "python",
   "name": "python3"
  },
  "language_info": {
   "codemirror_mode": {
    "name": "ipython",
    "version": 2
   },
   "file_extension": ".py",
   "mimetype": "text/x-python",
   "name": "python",
   "nbconvert_exporter": "python",
   "pygments_lexer": "ipython2",
   "version": "2.7.6"
  }
 },
 "nbformat": 4,
 "nbformat_minor": 5
}
