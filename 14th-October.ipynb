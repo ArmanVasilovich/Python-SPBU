{
 "cells": [
  {
   "cell_type": "markdown",
   "id": "215aa4bc77c9a2e8",
   "metadata": {},
   "source": [
    "# This is the first file\n",
    "- Some description of code"
   ]
  },
  {
   "cell_type": "code",
   "id": "331f5b6630251a6e",
   "metadata": {
    "ExecuteTime": {
     "end_time": "2024-10-14T07:51:18.081620Z",
     "start_time": "2024-10-14T07:51:18.073755Z"
    }
   },
   "source": [
    "print('Hello, world')\n",
    "print('Second line')"
   ],
   "outputs": [
    {
     "name": "stdout",
     "output_type": "stream",
     "text": [
      "Hello, world\n",
      "Second line\n"
     ]
    }
   ],
   "execution_count": 375
  },
  {
   "cell_type": "markdown",
   "id": "51b42b1574a57b76",
   "metadata": {},
   "source": [
    "# Learning features of Jupiter Notebook in PyCharm\n",
    "- This one line\n",
    "- This is another line"
   ]
  },
  {
   "metadata": {
    "ExecuteTime": {
     "end_time": "2024-10-14T07:51:18.228351Z",
     "start_time": "2024-10-14T07:51:18.218632Z"
    }
   },
   "cell_type": "code",
   "source": [
    "import pandas as pd\n",
    "print(pd)\n",
    "print(pd.__version__)"
   ],
   "id": "6837791ab383c512",
   "outputs": [
    {
     "name": "stdout",
     "output_type": "stream",
     "text": [
      "<module 'pandas' from '/Users/arman/Desktop/Projects/Python/Test-1/.venv/lib/python3.12/site-packages/pandas/__init__.py'>\n",
      "2.2.3\n"
     ]
    }
   ],
   "execution_count": 376
  },
  {
   "metadata": {
    "ExecuteTime": {
     "end_time": "2024-10-14T07:51:18.314218Z",
     "start_time": "2024-10-14T07:51:18.306996Z"
    }
   },
   "cell_type": "code",
   "source": [
    "a = 12 \n",
    "print(a)"
   ],
   "id": "b2c06c5daf1e6da7",
   "outputs": [
    {
     "name": "stdout",
     "output_type": "stream",
     "text": [
      "12\n"
     ]
    }
   ],
   "execution_count": 377
  },
  {
   "metadata": {
    "ExecuteTime": {
     "end_time": "2024-10-14T07:51:18.424661Z",
     "start_time": "2024-10-14T07:51:18.411629Z"
    }
   },
   "cell_type": "code",
   "source": "print('Hola, my boy')",
   "id": "34bad05cacc0a306",
   "outputs": [
    {
     "name": "stdout",
     "output_type": "stream",
     "text": [
      "Hola, my boy\n"
     ]
    }
   ],
   "execution_count": 378
  },
  {
   "metadata": {
    "ExecuteTime": {
     "end_time": "2024-10-14T07:51:18.534036Z",
     "start_time": "2024-10-14T07:51:18.516878Z"
    }
   },
   "cell_type": "code",
   "source": [
    "data = [1, 2, 3, 4, 5, 6]\n",
    "pd.Series(data=data)"
   ],
   "id": "58bc1e9ef9b51cd0",
   "outputs": [
    {
     "data": {
      "text/plain": [
       "0    1\n",
       "1    2\n",
       "2    3\n",
       "3    4\n",
       "4    5\n",
       "5    6\n",
       "dtype: int64"
      ]
     },
     "execution_count": 379,
     "metadata": {},
     "output_type": "execute_result"
    }
   ],
   "execution_count": 379
  },
  {
   "metadata": {},
   "cell_type": "markdown",
   "source": [
    "# Lesson 14th of October\n",
    "- Константин Арсеньевич Панцерев - преподаватель"
   ],
   "id": "52d7be0cc4789127"
  },
  {
   "metadata": {},
   "cell_type": "markdown",
   "source": "# Метод Get",
   "id": "86fbd252a2875c15"
  },
  {
   "metadata": {
    "ExecuteTime": {
     "end_time": "2024-10-14T07:51:18.685889Z",
     "start_time": "2024-10-14T07:51:18.671198Z"
    }
   },
   "cell_type": "code",
   "source": [
    "myDict = {\n",
    "    'Pavel': 12,\n",
    "    'Roma': 13,\n",
    "    'Andrew': 22,\n",
    "    'Artem': 27\n",
    "}\n",
    "# Возвращает значение \n",
    "myDict.get('Nikolay', 'такого ключа нет')"
   ],
   "id": "872832526431b717",
   "outputs": [
    {
     "data": {
      "text/plain": [
       "'такого ключа нет'"
      ]
     },
     "execution_count": 380,
     "metadata": {},
     "output_type": "execute_result"
    }
   ],
   "execution_count": 380
  },
  {
   "metadata": {},
   "cell_type": "markdown",
   "source": "# Объединенеие словарей",
   "id": "da3324f706942586"
  },
  {
   "metadata": {
    "ExecuteTime": {
     "end_time": "2024-10-14T07:51:18.864830Z",
     "start_time": "2024-10-14T07:51:18.858320Z"
    }
   },
   "cell_type": "code",
   "source": [
    "storage_1 = {\n",
    "    'гвозди': 4_230,\n",
    "    'шурупы': 12_200,\n",
    "    'саморезы': 1_000_000\n",
    "}\n",
    "storage_2 = {\n",
    "    'доски': 10_000,\n",
    "    'балки': 1_564,\n",
    "    'рейки': 890\n",
    "}"
   ],
   "id": "cf2f1b9f8f051da6",
   "outputs": [],
   "execution_count": 381
  },
  {
   "metadata": {
    "ExecuteTime": {
     "end_time": "2024-10-14T07:51:18.948342Z",
     "start_time": "2024-10-14T07:51:18.932553Z"
    }
   },
   "cell_type": "code",
   "source": [
    "storage_2.update(storage_1)\n",
    "storage_2"
   ],
   "id": "c1f51f8a3380c657",
   "outputs": [
    {
     "data": {
      "text/plain": [
       "{'доски': 10000, 'балки': 1564, 'рейки': 890, 'гвозди': 4230, 'шурупы': 12200, 'саморезы': 1000000}"
      ]
     },
     "execution_count": 382,
     "metadata": {},
     "output_type": "execute_result"
    }
   ],
   "execution_count": 382
  },
  {
   "metadata": {
    "ExecuteTime": {
     "end_time": "2024-10-14T07:51:19.094750Z",
     "start_time": "2024-10-14T07:51:19.087580Z"
    }
   },
   "cell_type": "code",
   "source": [
    "storage_2.pop('доски')\n",
    "storage_2"
   ],
   "id": "f4939cdc9bd597cd",
   "outputs": [
    {
     "data": {
      "text/plain": [
       "{'балки': 1564, 'рейки': 890, 'гвозди': 4230, 'шурупы': 12200, 'саморезы': 1000000}"
      ]
     },
     "execution_count": 383,
     "metadata": {},
     "output_type": "execute_result"
    }
   ],
   "execution_count": 383
  },
  {
   "metadata": {
    "ExecuteTime": {
     "end_time": "2024-10-14T07:51:19.196073Z",
     "start_time": "2024-10-14T07:51:19.188937Z"
    }
   },
   "cell_type": "code",
   "source": [
    "storage_2['брусья'] = storage_2.pop('балки')\n",
    "storage_2"
   ],
   "id": "6b2346a6e0a741c7",
   "outputs": [
    {
     "data": {
      "text/plain": [
       "{'рейки': 890, 'гвозди': 4230, 'шурупы': 12200, 'саморезы': 1000000, 'брусья': 1564}"
      ]
     },
     "execution_count": 384,
     "metadata": {},
     "output_type": "execute_result"
    }
   ],
   "execution_count": 384
  },
  {
   "metadata": {
    "ExecuteTime": {
     "end_time": "2024-10-14T07:51:21.450654Z",
     "start_time": "2024-10-14T07:51:19.340205Z"
    }
   },
   "cell_type": "code",
   "source": "item = input('Введите товар: ').lower()",
   "id": "ce96abda355063b",
   "outputs": [],
   "execution_count": 385
  },
  {
   "metadata": {
    "ExecuteTime": {
     "end_time": "2024-10-14T07:51:21.534282Z",
     "start_time": "2024-10-14T07:51:21.529489Z"
    }
   },
   "cell_type": "code",
   "source": "storage_2.get(item)",
   "id": "bf734dde0fc89bb0",
   "outputs": [],
   "execution_count": 386
  },
  {
   "metadata": {
    "ExecuteTime": {
     "end_time": "2024-10-14T07:51:21.606352Z",
     "start_time": "2024-10-14T07:51:21.597792Z"
    }
   },
   "cell_type": "code",
   "source": [
    "if item not in storage_2:\n",
    "    print('Такого товара на складе нет')\n",
    "else:\n",
    "    print(storage_2.get(item))\n",
    "    \n",
    "data = {1, 2, 3}\n",
    "data2 = [1, 2, 3]"
   ],
   "id": "61011458f10b29e3",
   "outputs": [
    {
     "name": "stdout",
     "output_type": "stream",
     "text": [
      "Такого товара на складе нет\n"
     ]
    }
   ],
   "execution_count": 387
  },
  {
   "metadata": {},
   "cell_type": "markdown",
   "source": [
    "# Коллекция - Множество\n",
    "Колекция неповторяющихся (уникальных) элементов"
   ],
   "id": "300509e7bed5c0da"
  },
  {
   "metadata": {
    "ExecuteTime": {
     "end_time": "2024-10-14T07:51:21.661810Z",
     "start_time": "2024-10-14T07:51:21.654332Z"
    }
   },
   "cell_type": "code",
   "source": [
    "words = [1, 2, 3, 4, 5, 5, 5, 5]\n",
    "mySet_1 = set(words)"
   ],
   "id": "26df99f378e28ad0",
   "outputs": [],
   "execution_count": 388
  },
  {
   "metadata": {
    "ExecuteTime": {
     "end_time": "2024-10-14T07:51:21.749232Z",
     "start_time": "2024-10-14T07:51:21.741714Z"
    }
   },
   "cell_type": "code",
   "source": "mySet_2 = {4, 5, 6, 7, 8, 9}",
   "id": "fab4e26a3a654720",
   "outputs": [],
   "execution_count": 389
  },
  {
   "metadata": {},
   "cell_type": "markdown",
   "source": "# Поиск пересечения множества",
   "id": "1b7a42b2f58d8bc2"
  },
  {
   "metadata": {
    "ExecuteTime": {
     "end_time": "2024-10-14T07:51:21.792198Z",
     "start_time": "2024-10-14T07:51:21.782503Z"
    }
   },
   "cell_type": "code",
   "source": [
    "# intersection - находит общие жлементы\n",
    "mySet_1.intersection(mySet_2)"
   ],
   "id": "7a0b197901014d24",
   "outputs": [
    {
     "data": {
      "text/plain": [
       "{4, 5}"
      ]
     },
     "execution_count": 390,
     "metadata": {},
     "output_type": "execute_result"
    }
   ],
   "execution_count": 390
  },
  {
   "metadata": {
    "ExecuteTime": {
     "end_time": "2024-10-14T07:51:21.902284Z",
     "start_time": "2024-10-14T07:51:21.888939Z"
    }
   },
   "cell_type": "code",
   "source": [
    "# Объединение множеств\n",
    "mySet_1.union(mySet_2)"
   ],
   "id": "1813cb0daa9daac9",
   "outputs": [
    {
     "data": {
      "text/plain": [
       "{1, 2, 3, 4, 5, 6, 7, 8, 9}"
      ]
     },
     "execution_count": 391,
     "metadata": {},
     "output_type": "execute_result"
    }
   ],
   "execution_count": 391
  },
  {
   "metadata": {
    "ExecuteTime": {
     "end_time": "2024-10-14T07:51:22.010873Z",
     "start_time": "2024-10-14T07:51:22.002432Z"
    }
   },
   "cell_type": "code",
   "source": "mySet_1 | mySet_2",
   "id": "2c5d5293c8b9d113",
   "outputs": [
    {
     "data": {
      "text/plain": [
       "{1, 2, 3, 4, 5, 6, 7, 8, 9}"
      ]
     },
     "execution_count": 392,
     "metadata": {},
     "output_type": "execute_result"
    }
   ],
   "execution_count": 392
  },
  {
   "metadata": {
    "ExecuteTime": {
     "end_time": "2024-10-14T07:51:22.109244Z",
     "start_time": "2024-10-14T07:51:22.097251Z"
    }
   },
   "cell_type": "code",
   "source": [
    "# Показывает разницу\n",
    "mySet_1.difference(mySet_2)"
   ],
   "id": "ebcd06390dc12b34",
   "outputs": [
    {
     "data": {
      "text/plain": [
       "{1, 2, 3}"
      ]
     },
     "execution_count": 393,
     "metadata": {},
     "output_type": "execute_result"
    }
   ],
   "execution_count": 393
  },
  {
   "metadata": {
    "ExecuteTime": {
     "end_time": "2024-10-14T07:51:22.182456Z",
     "start_time": "2024-10-14T07:51:22.172330Z"
    }
   },
   "cell_type": "code",
   "source": "mySet_1 - mySet_2",
   "id": "4393cb5e81fa2d2f",
   "outputs": [
    {
     "data": {
      "text/plain": [
       "{1, 2, 3}"
      ]
     },
     "execution_count": 394,
     "metadata": {},
     "output_type": "execute_result"
    }
   ],
   "execution_count": 394
  },
  {
   "metadata": {},
   "cell_type": "markdown",
   "source": "# Кортежи",
   "id": "5b4771b92974f77e"
  },
  {
   "metadata": {
    "ExecuteTime": {
     "end_time": "2024-10-14T07:51:22.274386Z",
     "start_time": "2024-10-14T07:51:22.265568Z"
    }
   },
   "cell_type": "code",
   "source": [
    "myTuple = ('Павел', 'Евгения', 'Александр', 'Мария')\n",
    "type(myTuple)\n",
    "# myTuple[1]\n",
    "myTuple[1:3]"
   ],
   "id": "e4f33a04ce45f323",
   "outputs": [
    {
     "data": {
      "text/plain": [
       "('Евгения', 'Александр')"
      ]
     },
     "execution_count": 395,
     "metadata": {},
     "output_type": "execute_result"
    }
   ],
   "execution_count": 395
  },
  {
   "metadata": {
    "ExecuteTime": {
     "end_time": "2024-10-14T07:51:22.379896Z",
     "start_time": "2024-10-14T07:51:22.369396Z"
    }
   },
   "cell_type": "code",
   "source": [
    "numList = [1, 2, 3, 4, 5]\n",
    "tuple(numList)"
   ],
   "id": "b7e0c8042d26af9f",
   "outputs": [
    {
     "data": {
      "text/plain": [
       "(1, 2, 3, 4, 5)"
      ]
     },
     "execution_count": 396,
     "metadata": {},
     "output_type": "execute_result"
    }
   ],
   "execution_count": 396
  },
  {
   "metadata": {},
   "cell_type": "markdown",
   "source": [
    "# Enumerate\n",
    "Enumerate возвращает кортеж - (Индекс: Значение)"
   ],
   "id": "1678315156560dbc"
  },
  {
   "metadata": {
    "ExecuteTime": {
     "end_time": "2024-10-14T07:51:22.485163Z",
     "start_time": "2024-10-14T07:51:22.476887Z"
    }
   },
   "cell_type": "code",
   "source": [
    "myList = [54, 60, 70, 80, 95]\n",
    "for i, j in enumerate(myList):\n",
    "    print(i, j)"
   ],
   "id": "350e470a4e48fe2d",
   "outputs": [
    {
     "name": "stdout",
     "output_type": "stream",
     "text": [
      "0 54\n",
      "1 60\n",
      "2 70\n",
      "3 80\n",
      "4 95\n"
     ]
    }
   ],
   "execution_count": 397
  },
  {
   "metadata": {},
   "cell_type": "markdown",
   "source": "# Перебор значений словаря",
   "id": "90afa5611b89abc5"
  },
  {
   "metadata": {
    "ExecuteTime": {
     "end_time": "2024-10-14T07:51:22.643763Z",
     "start_time": "2024-10-14T07:51:22.630887Z"
    }
   },
   "cell_type": "code",
   "source": [
    "for i, j in storage_2.items():\n",
    "    print(i, j)"
   ],
   "id": "d4b312b70b9a75bb",
   "outputs": [
    {
     "name": "stdout",
     "output_type": "stream",
     "text": [
      "рейки 890\n",
      "гвозди 4230\n",
      "шурупы 12200\n",
      "саморезы 1000000\n",
      "брусья 1564\n"
     ]
    }
   ],
   "execution_count": 398
  },
  {
   "metadata": {},
   "cell_type": "markdown",
   "source": "# Функция zip()",
   "id": "35bb51fe19b3cfe4"
  },
  {
   "metadata": {
    "ExecuteTime": {
     "end_time": "2024-10-14T07:51:22.724950Z",
     "start_time": "2024-10-14T07:51:22.712223Z"
    }
   },
   "cell_type": "code",
   "source": [
    "myList_1 = ['Ivan', 'Yan', 'Olga']\n",
    "myList_2 = [18, 20, 22]"
   ],
   "id": "c6c6d9ba23baf8a7",
   "outputs": [],
   "execution_count": 399
  },
  {
   "metadata": {
    "ExecuteTime": {
     "end_time": "2024-10-14T07:51:22.794080Z",
     "start_time": "2024-10-14T07:51:22.783360Z"
    }
   },
   "cell_type": "code",
   "source": [
    "for i, j in zip(myList_1, myList_2):\n",
    "    print(i, j)"
   ],
   "id": "1036dab69fe705b5",
   "outputs": [
    {
     "name": "stdout",
     "output_type": "stream",
     "text": [
      "Ivan 18\n",
      "Yan 20\n",
      "Olga 22\n"
     ]
    }
   ],
   "execution_count": 400
  },
  {
   "metadata": {
    "ExecuteTime": {
     "end_time": "2024-10-14T07:51:22.885737Z",
     "start_time": "2024-10-14T07:51:22.876493Z"
    }
   },
   "cell_type": "code",
   "source": "zip(myList_1, myList_2)",
   "id": "3b6d7b417130671a",
   "outputs": [
    {
     "data": {
      "text/plain": [
       "<zip object at 0x115c50ec0>"
      ]
     },
     "execution_count": 401,
     "metadata": {},
     "output_type": "execute_result"
    }
   ],
   "execution_count": 401
  },
  {
   "metadata": {
    "ExecuteTime": {
     "end_time": "2024-10-14T07:51:22.981529Z",
     "start_time": "2024-10-14T07:51:22.972756Z"
    }
   },
   "cell_type": "code",
   "source": [
    "# Zip возвразает кортеж\n",
    "list(zip(myList_1, myList_2))"
   ],
   "id": "b8e6fa5c78b84bb3",
   "outputs": [
    {
     "data": {
      "text/plain": [
       "[('Ivan', 18), ('Yan', 20), ('Olga', 22)]"
      ]
     },
     "execution_count": 402,
     "metadata": {},
     "output_type": "execute_result"
    }
   ],
   "execution_count": 402
  },
  {
   "metadata": {
    "ExecuteTime": {
     "end_time": "2024-10-14T07:51:23.166121Z",
     "start_time": "2024-10-14T07:51:23.154390Z"
    }
   },
   "cell_type": "code",
   "source": "dict(zip(myList_1, myList_2))",
   "id": "83c13aff0d6bc3ce",
   "outputs": [
    {
     "data": {
      "text/plain": [
       "{'Ivan': 18, 'Yan': 20, 'Olga': 22}"
      ]
     },
     "execution_count": 403,
     "metadata": {},
     "output_type": "execute_result"
    }
   ],
   "execution_count": 403
  },
  {
   "metadata": {
    "ExecuteTime": {
     "end_time": "2024-10-14T07:51:23.332353Z",
     "start_time": "2024-10-14T07:51:23.326901Z"
    }
   },
   "cell_type": "code",
   "source": [
    "myDict_1 = {\n",
    "    1: 1.29,\n",
    "    2: 0.33\n",
    "}"
   ],
   "id": "3ae3f36d6f8c5271",
   "outputs": [],
   "execution_count": 404
  },
  {
   "metadata": {
    "ExecuteTime": {
     "end_time": "2024-10-14T07:51:23.395985Z",
     "start_time": "2024-10-14T07:51:23.383791Z"
    }
   },
   "cell_type": "code",
   "source": [
    "myDict_1.setdefault(3, myDict_1[1] * myDict_1[2])\n",
    "print(myDict_1)"
   ],
   "id": "96f458fb9c6d6338",
   "outputs": [
    {
     "name": "stdout",
     "output_type": "stream",
     "text": [
      "{1: 1.29, 2: 0.33, 3: 0.4257}\n"
     ]
    }
   ],
   "execution_count": 405
  }
 ],
 "metadata": {
  "kernelspec": {
   "display_name": "Python 3 (ipykernel)",
   "language": "python",
   "name": "python3"
  },
  "language_info": {
   "codemirror_mode": {
    "name": "ipython",
    "version": 3
   },
   "file_extension": ".py",
   "mimetype": "text/x-python",
   "name": "python",
   "nbconvert_exporter": "python",
   "pygments_lexer": "ipython3",
   "version": "3.12.6"
  }
 },
 "nbformat": 4,
 "nbformat_minor": 5
}
