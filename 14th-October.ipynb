{
 "cells": [
  {
   "cell_type": "markdown",
   "id": "215aa4bc77c9a2e8",
   "metadata": {},
   "source": [
    "# This is the first file\n",
    "Some description of code"
   ]
  },
  {
   "cell_type": "code",
   "id": "331f5b6630251a6e",
   "metadata": {
    "ExecuteTime": {
     "end_time": "2024-10-14T05:13:56.692511Z",
     "start_time": "2024-10-14T05:13:56.650770Z"
    }
   },
   "source": [
    "print('Hello, world')\n",
    "print('Second line')"
   ],
   "outputs": [
    {
     "name": "stdout",
     "output_type": "stream",
     "text": [
      "Hello, world\n",
      "Second line\n"
     ]
    }
   ],
   "execution_count": 13
  },
  {
   "cell_type": "markdown",
   "id": "51b42b1574a57b76",
   "metadata": {
    "jp-MarkdownHeadingCollapsed": true
   },
   "source": [
    "# Second line of documentation\n",
    "- This one line\n",
    "- This is another line"
   ]
  },
  {
   "metadata": {
    "ExecuteTime": {
     "end_time": "2024-10-14T05:13:56.880398Z",
     "start_time": "2024-10-14T05:13:56.869019Z"
    }
   },
   "cell_type": "code",
   "source": [
    "import pandas as pd\n",
    "print(pd)\n",
    "print(pd.__version__)"
   ],
   "id": "6837791ab383c512",
   "outputs": [
    {
     "name": "stdout",
     "output_type": "stream",
     "text": [
      "<module 'pandas' from '/Users/arman/Desktop/Projects/Python/Test-1/.venv/lib/python3.12/site-packages/pandas/__init__.py'>\n",
      "2.2.3\n"
     ]
    }
   ],
   "execution_count": 14
  }
 ],
 "metadata": {
  "kernelspec": {
   "display_name": "Python 3 (ipykernel)",
   "language": "python",
   "name": "python3"
  },
  "language_info": {
   "codemirror_mode": {
    "name": "ipython",
    "version": 3
   },
   "file_extension": ".py",
   "mimetype": "text/x-python",
   "name": "python",
   "nbconvert_exporter": "python",
   "pygments_lexer": "ipython3",
   "version": "3.12.6"
  }
 },
 "nbformat": 4,
 "nbformat_minor": 5
}
