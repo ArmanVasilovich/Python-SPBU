{
 "cells": [
  {
   "cell_type": "markdown",
   "id": "215aa4bc77c9a2e8",
   "metadata": {},
   "source": [
    "# This is the first file\n",
    "Some description of code"
   ]
  },
  {
   "cell_type": "code",
   "id": "331f5b6630251a6e",
   "metadata": {
    "ExecuteTime": {
     "end_time": "2024-10-14T05:39:03.125762Z",
     "start_time": "2024-10-14T05:39:03.112931Z"
    }
   },
   "source": [
    "print('Hello, world')\n",
    "print('Second line')"
   ],
   "outputs": [
    {
     "name": "stdout",
     "output_type": "stream",
     "text": [
      "Hello, world\n",
      "Second line\n"
     ]
    }
   ],
   "execution_count": 51
  },
  {
   "cell_type": "markdown",
   "id": "51b42b1574a57b76",
   "metadata": {},
   "source": [
    "# Learning features of Jupiter Notebook in PyCharm\n",
    "- This one line\n",
    "- This is another line"
   ]
  },
  {
   "metadata": {
    "ExecuteTime": {
     "end_time": "2024-10-14T05:39:03.271319Z",
     "start_time": "2024-10-14T05:39:03.252865Z"
    }
   },
   "cell_type": "code",
   "source": [
    "import pandas as pd\n",
    "print(pd)\n",
    "print(pd.__version__)"
   ],
   "id": "6837791ab383c512",
   "outputs": [
    {
     "name": "stdout",
     "output_type": "stream",
     "text": [
      "<module 'pandas' from '/Users/arman/Desktop/Projects/Python/Test-1/.venv/lib/python3.12/site-packages/pandas/__init__.py'>\n",
      "2.2.3\n"
     ]
    }
   ],
   "execution_count": 52
  },
  {
   "metadata": {
    "ExecuteTime": {
     "end_time": "2024-10-14T05:39:03.439773Z",
     "start_time": "2024-10-14T05:39:03.428817Z"
    }
   },
   "cell_type": "code",
   "source": [
    "a = 12 \n",
    "print(a)"
   ],
   "id": "b2c06c5daf1e6da7",
   "outputs": [
    {
     "name": "stdout",
     "output_type": "stream",
     "text": [
      "12\n"
     ]
    }
   ],
   "execution_count": 53
  },
  {
   "metadata": {
    "ExecuteTime": {
     "end_time": "2024-10-14T05:39:03.539181Z",
     "start_time": "2024-10-14T05:39:03.529204Z"
    }
   },
   "cell_type": "code",
   "source": "print('Hola, my boy')",
   "id": "34bad05cacc0a306",
   "outputs": [
    {
     "name": "stdout",
     "output_type": "stream",
     "text": [
      "Hola, my boy\n"
     ]
    }
   ],
   "execution_count": 54
  },
  {
   "metadata": {
    "ExecuteTime": {
     "end_time": "2024-10-14T05:39:03.712117Z",
     "start_time": "2024-10-14T05:39:03.695827Z"
    }
   },
   "cell_type": "code",
   "source": [
    "data = [1, 2, 3, 4, 5, 6]\n",
    "pd.Series(data=data)"
   ],
   "id": "58bc1e9ef9b51cd0",
   "outputs": [
    {
     "data": {
      "text/plain": [
       "0    1\n",
       "1    2\n",
       "2    3\n",
       "3    4\n",
       "4    5\n",
       "5    6\n",
       "dtype: int64"
      ]
     },
     "execution_count": 55,
     "metadata": {},
     "output_type": "execute_result"
    }
   ],
   "execution_count": 55
  },
  {
   "metadata": {},
   "cell_type": "markdown",
   "source": "# Lesson 14th of October",
   "id": "52d7be0cc4789127"
  }
 ],
 "metadata": {
  "kernelspec": {
   "display_name": "Python 3 (ipykernel)",
   "language": "python",
   "name": "python3"
  },
  "language_info": {
   "codemirror_mode": {
    "name": "ipython",
    "version": 3
   },
   "file_extension": ".py",
   "mimetype": "text/x-python",
   "name": "python",
   "nbconvert_exporter": "python",
   "pygments_lexer": "ipython3",
   "version": "3.12.6"
  }
 },
 "nbformat": 4,
 "nbformat_minor": 5
}
