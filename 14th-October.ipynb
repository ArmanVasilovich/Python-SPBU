{
 "cells": [
  {
   "cell_type": "markdown",
   "id": "215aa4bc77c9a2e8",
   "metadata": {},
   "source": [
    "# This is the first file\n",
    "Some description of code"
   ]
  },
  {
   "cell_type": "code",
   "id": "331f5b6630251a6e",
   "metadata": {
    "ExecuteTime": {
     "end_time": "2024-10-14T07:17:22.712659Z",
     "start_time": "2024-10-14T07:17:22.700066Z"
    }
   },
   "source": [
    "print('Hello, world')\n",
    "print('Second line')"
   ],
   "outputs": [
    {
     "name": "stdout",
     "output_type": "stream",
     "text": [
      "Hello, world\n",
      "Second line\n"
     ]
    }
   ],
   "execution_count": 262
  },
  {
   "cell_type": "markdown",
   "id": "51b42b1574a57b76",
   "metadata": {},
   "source": [
    "# Learning features of Jupiter Notebook in PyCharm\n",
    "- This one line\n",
    "- This is another line"
   ]
  },
  {
   "metadata": {
    "ExecuteTime": {
     "end_time": "2024-10-14T07:17:22.824291Z",
     "start_time": "2024-10-14T07:17:22.805035Z"
    }
   },
   "cell_type": "code",
   "source": [
    "import pandas as pd\n",
    "print(pd)\n",
    "print(pd.__version__)"
   ],
   "id": "6837791ab383c512",
   "outputs": [
    {
     "name": "stdout",
     "output_type": "stream",
     "text": [
      "<module 'pandas' from '/Users/arman/Desktop/Projects/Python/Test-1/.venv/lib/python3.12/site-packages/pandas/__init__.py'>\n",
      "2.2.3\n"
     ]
    }
   ],
   "execution_count": 263
  },
  {
   "metadata": {
    "ExecuteTime": {
     "end_time": "2024-10-14T07:17:22.917738Z",
     "start_time": "2024-10-14T07:17:22.909056Z"
    }
   },
   "cell_type": "code",
   "source": [
    "a = 12 \n",
    "print(a)"
   ],
   "id": "b2c06c5daf1e6da7",
   "outputs": [
    {
     "name": "stdout",
     "output_type": "stream",
     "text": [
      "12\n"
     ]
    }
   ],
   "execution_count": 264
  },
  {
   "metadata": {
    "ExecuteTime": {
     "end_time": "2024-10-14T07:17:23.022827Z",
     "start_time": "2024-10-14T07:17:23.012217Z"
    }
   },
   "cell_type": "code",
   "source": "print('Hola, my boy')",
   "id": "34bad05cacc0a306",
   "outputs": [
    {
     "name": "stdout",
     "output_type": "stream",
     "text": [
      "Hola, my boy\n"
     ]
    }
   ],
   "execution_count": 265
  },
  {
   "metadata": {
    "ExecuteTime": {
     "end_time": "2024-10-14T07:17:23.122009Z",
     "start_time": "2024-10-14T07:17:23.109702Z"
    }
   },
   "cell_type": "code",
   "source": [
    "data = [1, 2, 3, 4, 5, 6]\n",
    "pd.Series(data=data)"
   ],
   "id": "58bc1e9ef9b51cd0",
   "outputs": [
    {
     "data": {
      "text/plain": [
       "0    1\n",
       "1    2\n",
       "2    3\n",
       "3    4\n",
       "4    5\n",
       "5    6\n",
       "dtype: int64"
      ]
     },
     "execution_count": 266,
     "metadata": {},
     "output_type": "execute_result"
    }
   ],
   "execution_count": 266
  },
  {
   "metadata": {},
   "cell_type": "markdown",
   "source": "# Lesson 14th of October",
   "id": "52d7be0cc4789127"
  },
  {
   "metadata": {},
   "cell_type": "markdown",
   "source": "# Метод Get",
   "id": "86fbd252a2875c15"
  },
  {
   "metadata": {
    "ExecuteTime": {
     "end_time": "2024-10-14T07:17:23.263336Z",
     "start_time": "2024-10-14T07:17:23.250633Z"
    }
   },
   "cell_type": "code",
   "source": [
    "myDict = {\n",
    "    'Pavel': 12,\n",
    "    'Roma': 13,\n",
    "    'Andrew': 22,\n",
    "    'Artem': 27\n",
    "}\n",
    "# Возвращает значение \n",
    "myDict.get('Nikolay', 'такого ключа нет')"
   ],
   "id": "872832526431b717",
   "outputs": [
    {
     "data": {
      "text/plain": [
       "'такого ключа нет'"
      ]
     },
     "execution_count": 267,
     "metadata": {},
     "output_type": "execute_result"
    }
   ],
   "execution_count": 267
  },
  {
   "metadata": {},
   "cell_type": "markdown",
   "source": "# Объединенеие словарей",
   "id": "da3324f706942586"
  },
  {
   "metadata": {
    "ExecuteTime": {
     "end_time": "2024-10-14T07:17:23.359953Z",
     "start_time": "2024-10-14T07:17:23.354422Z"
    }
   },
   "cell_type": "code",
   "source": [
    "storage_1 = {\n",
    "    'гвозди': 4_230,\n",
    "    'шурупы': 12_200,\n",
    "    'саморезы': 1_000_000\n",
    "}\n",
    "storage_2 = {\n",
    "    'доски': 10_000,\n",
    "    'балки': 1_564,\n",
    "    'рейки': 890\n",
    "}"
   ],
   "id": "cf2f1b9f8f051da6",
   "outputs": [],
   "execution_count": 268
  },
  {
   "metadata": {
    "ExecuteTime": {
     "end_time": "2024-10-14T07:17:23.432644Z",
     "start_time": "2024-10-14T07:17:23.422316Z"
    }
   },
   "cell_type": "code",
   "source": [
    "storage_2.update(storage_1)\n",
    "storage_2"
   ],
   "id": "c1f51f8a3380c657",
   "outputs": [
    {
     "data": {
      "text/plain": [
       "{'доски': 10000, 'балки': 1564, 'рейки': 890, 'гвозди': 4230, 'шурупы': 12200, 'саморезы': 1000000}"
      ]
     },
     "execution_count": 269,
     "metadata": {},
     "output_type": "execute_result"
    }
   ],
   "execution_count": 269
  },
  {
   "metadata": {
    "ExecuteTime": {
     "end_time": "2024-10-14T07:17:23.542878Z",
     "start_time": "2024-10-14T07:17:23.531825Z"
    }
   },
   "cell_type": "code",
   "source": [
    "storage_2.pop('доски')\n",
    "storage_2"
   ],
   "id": "f4939cdc9bd597cd",
   "outputs": [
    {
     "data": {
      "text/plain": [
       "{'балки': 1564, 'рейки': 890, 'гвозди': 4230, 'шурупы': 12200, 'саморезы': 1000000}"
      ]
     },
     "execution_count": 270,
     "metadata": {},
     "output_type": "execute_result"
    }
   ],
   "execution_count": 270
  },
  {
   "metadata": {
    "ExecuteTime": {
     "end_time": "2024-10-14T07:17:23.611896Z",
     "start_time": "2024-10-14T07:17:23.600620Z"
    }
   },
   "cell_type": "code",
   "source": [
    "storage_2['брусья'] = storage_2.pop('балки')\n",
    "storage_2"
   ],
   "id": "6b2346a6e0a741c7",
   "outputs": [
    {
     "data": {
      "text/plain": [
       "{'рейки': 890, 'гвозди': 4230, 'шурупы': 12200, 'саморезы': 1000000, 'брусья': 1564}"
      ]
     },
     "execution_count": 271,
     "metadata": {},
     "output_type": "execute_result"
    }
   ],
   "execution_count": 271
  },
  {
   "metadata": {
    "ExecuteTime": {
     "end_time": "2024-10-14T07:17:24.500909Z",
     "start_time": "2024-10-14T07:17:23.717213Z"
    }
   },
   "cell_type": "code",
   "source": "item = input('Введите товар: ').lower()",
   "id": "ce96abda355063b",
   "outputs": [],
   "execution_count": 272
  },
  {
   "metadata": {
    "ExecuteTime": {
     "end_time": "2024-10-14T07:17:24.543079Z",
     "start_time": "2024-10-14T07:17:24.534421Z"
    }
   },
   "cell_type": "code",
   "source": "storage_2.get(item)",
   "id": "bf734dde0fc89bb0",
   "outputs": [],
   "execution_count": 273
  },
  {
   "metadata": {
    "ExecuteTime": {
     "end_time": "2024-10-14T07:17:24.656493Z",
     "start_time": "2024-10-14T07:17:24.648260Z"
    }
   },
   "cell_type": "code",
   "source": [
    "if item not in storage_2:\n",
    "    print('Такого товара на складе нет')\n",
    "else:\n",
    "    print(storage_2.get(item))\n",
    "    \n",
    "data = {1, 2, 3}\n",
    "data2 = [1, 2, 3]"
   ],
   "id": "61011458f10b29e3",
   "outputs": [
    {
     "name": "stdout",
     "output_type": "stream",
     "text": [
      "Такого товара на складе нет\n"
     ]
    }
   ],
   "execution_count": 274
  },
  {
   "metadata": {},
   "cell_type": "markdown",
   "source": [
    "# Коллекция - Множество\n",
    "Колекция неповторяющихся (уникальных) элементов"
   ],
   "id": "300509e7bed5c0da"
  },
  {
   "metadata": {
    "ExecuteTime": {
     "end_time": "2024-10-14T07:17:24.717182Z",
     "start_time": "2024-10-14T07:17:24.710685Z"
    }
   },
   "cell_type": "code",
   "source": [
    "words = [1, 2, 3, 4, 5, 5, 5, 5]\n",
    "mySet_1 = set(words)"
   ],
   "id": "26df99f378e28ad0",
   "outputs": [],
   "execution_count": 275
  },
  {
   "metadata": {
    "ExecuteTime": {
     "end_time": "2024-10-14T07:17:24.783419Z",
     "start_time": "2024-10-14T07:17:24.776609Z"
    }
   },
   "cell_type": "code",
   "source": "mySet_2 = {4, 5, 6, 7, 8, 9}",
   "id": "fab4e26a3a654720",
   "outputs": [],
   "execution_count": 276
  },
  {
   "metadata": {},
   "cell_type": "markdown",
   "source": "# Поиск пересечения множества",
   "id": "1b7a42b2f58d8bc2"
  },
  {
   "metadata": {
    "ExecuteTime": {
     "end_time": "2024-10-14T07:17:24.865634Z",
     "start_time": "2024-10-14T07:17:24.842476Z"
    }
   },
   "cell_type": "code",
   "source": [
    "# intersection - находит общие жлементы\n",
    "mySet_1.intersection(mySet_2)"
   ],
   "id": "7a0b197901014d24",
   "outputs": [
    {
     "data": {
      "text/plain": [
       "{4, 5}"
      ]
     },
     "execution_count": 277,
     "metadata": {},
     "output_type": "execute_result"
    }
   ],
   "execution_count": 277
  },
  {
   "metadata": {
    "ExecuteTime": {
     "end_time": "2024-10-14T07:17:25.030239Z",
     "start_time": "2024-10-14T07:17:25.018931Z"
    }
   },
   "cell_type": "code",
   "source": [
    "# Объединение множеств\n",
    "mySet_1.union(mySet_2)"
   ],
   "id": "1813cb0daa9daac9",
   "outputs": [
    {
     "data": {
      "text/plain": [
       "{1, 2, 3, 4, 5, 6, 7, 8, 9}"
      ]
     },
     "execution_count": 278,
     "metadata": {},
     "output_type": "execute_result"
    }
   ],
   "execution_count": 278
  },
  {
   "metadata": {},
   "cell_type": "code",
   "outputs": [],
   "execution_count": null,
   "source": "",
   "id": "2c5d5293c8b9d113"
  }
 ],
 "metadata": {
  "kernelspec": {
   "display_name": "Python 3 (ipykernel)",
   "language": "python",
   "name": "python3"
  },
  "language_info": {
   "codemirror_mode": {
    "name": "ipython",
    "version": 3
   },
   "file_extension": ".py",
   "mimetype": "text/x-python",
   "name": "python",
   "nbconvert_exporter": "python",
   "pygments_lexer": "ipython3",
   "version": "3.12.6"
  }
 },
 "nbformat": 4,
 "nbformat_minor": 5
}
