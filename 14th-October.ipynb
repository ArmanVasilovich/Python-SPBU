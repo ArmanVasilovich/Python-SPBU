{
 "cells": [
  {
   "cell_type": "markdown",
   "id": "215aa4bc77c9a2e8",
   "metadata": {},
   "source": [
    "# This is the first file\n",
    "Some description of code"
   ]
  },
  {
   "cell_type": "code",
   "id": "331f5b6630251a6e",
   "metadata": {
    "ExecuteTime": {
     "end_time": "2024-10-14T07:19:38.919464Z",
     "start_time": "2024-10-14T07:19:38.913358Z"
    }
   },
   "source": [
    "print('Hello, world')\n",
    "print('Second line')"
   ],
   "outputs": [
    {
     "name": "stdout",
     "output_type": "stream",
     "text": [
      "Hello, world\n",
      "Second line\n"
     ]
    }
   ],
   "execution_count": 316
  },
  {
   "cell_type": "markdown",
   "id": "51b42b1574a57b76",
   "metadata": {},
   "source": [
    "# Learning features of Jupiter Notebook in PyCharm\n",
    "- This one line\n",
    "- This is another line"
   ]
  },
  {
   "metadata": {
    "ExecuteTime": {
     "end_time": "2024-10-14T07:19:39.056932Z",
     "start_time": "2024-10-14T07:19:39.048229Z"
    }
   },
   "cell_type": "code",
   "source": [
    "import pandas as pd\n",
    "print(pd)\n",
    "print(pd.__version__)"
   ],
   "id": "6837791ab383c512",
   "outputs": [
    {
     "name": "stdout",
     "output_type": "stream",
     "text": [
      "<module 'pandas' from '/Users/arman/Desktop/Projects/Python/Test-1/.venv/lib/python3.12/site-packages/pandas/__init__.py'>\n",
      "2.2.3\n"
     ]
    }
   ],
   "execution_count": 317
  },
  {
   "metadata": {
    "ExecuteTime": {
     "end_time": "2024-10-14T07:19:39.155692Z",
     "start_time": "2024-10-14T07:19:39.137877Z"
    }
   },
   "cell_type": "code",
   "source": [
    "a = 12 \n",
    "print(a)"
   ],
   "id": "b2c06c5daf1e6da7",
   "outputs": [
    {
     "name": "stdout",
     "output_type": "stream",
     "text": [
      "12\n"
     ]
    }
   ],
   "execution_count": 318
  },
  {
   "metadata": {
    "ExecuteTime": {
     "end_time": "2024-10-14T07:19:39.339079Z",
     "start_time": "2024-10-14T07:19:39.329550Z"
    }
   },
   "cell_type": "code",
   "source": "print('Hola, my boy')",
   "id": "34bad05cacc0a306",
   "outputs": [
    {
     "name": "stdout",
     "output_type": "stream",
     "text": [
      "Hola, my boy\n"
     ]
    }
   ],
   "execution_count": 319
  },
  {
   "metadata": {
    "ExecuteTime": {
     "end_time": "2024-10-14T07:19:39.448653Z",
     "start_time": "2024-10-14T07:19:39.433620Z"
    }
   },
   "cell_type": "code",
   "source": [
    "data = [1, 2, 3, 4, 5, 6]\n",
    "pd.Series(data=data)"
   ],
   "id": "58bc1e9ef9b51cd0",
   "outputs": [
    {
     "data": {
      "text/plain": [
       "0    1\n",
       "1    2\n",
       "2    3\n",
       "3    4\n",
       "4    5\n",
       "5    6\n",
       "dtype: int64"
      ]
     },
     "execution_count": 320,
     "metadata": {},
     "output_type": "execute_result"
    }
   ],
   "execution_count": 320
  },
  {
   "metadata": {},
   "cell_type": "markdown",
   "source": "# Lesson 14th of October",
   "id": "52d7be0cc4789127"
  },
  {
   "metadata": {},
   "cell_type": "markdown",
   "source": "# Метод Get",
   "id": "86fbd252a2875c15"
  },
  {
   "metadata": {
    "ExecuteTime": {
     "end_time": "2024-10-14T07:19:39.625819Z",
     "start_time": "2024-10-14T07:19:39.612939Z"
    }
   },
   "cell_type": "code",
   "source": [
    "myDict = {\n",
    "    'Pavel': 12,\n",
    "    'Roma': 13,\n",
    "    'Andrew': 22,\n",
    "    'Artem': 27\n",
    "}\n",
    "# Возвращает значение \n",
    "myDict.get('Nikolay', 'такого ключа нет')"
   ],
   "id": "872832526431b717",
   "outputs": [
    {
     "data": {
      "text/plain": [
       "'такого ключа нет'"
      ]
     },
     "execution_count": 321,
     "metadata": {},
     "output_type": "execute_result"
    }
   ],
   "execution_count": 321
  },
  {
   "metadata": {},
   "cell_type": "markdown",
   "source": "# Объединенеие словарей",
   "id": "da3324f706942586"
  },
  {
   "metadata": {
    "ExecuteTime": {
     "end_time": "2024-10-14T07:19:39.817946Z",
     "start_time": "2024-10-14T07:19:39.807150Z"
    }
   },
   "cell_type": "code",
   "source": [
    "storage_1 = {\n",
    "    'гвозди': 4_230,\n",
    "    'шурупы': 12_200,\n",
    "    'саморезы': 1_000_000\n",
    "}\n",
    "storage_2 = {\n",
    "    'доски': 10_000,\n",
    "    'балки': 1_564,\n",
    "    'рейки': 890\n",
    "}"
   ],
   "id": "cf2f1b9f8f051da6",
   "outputs": [],
   "execution_count": 322
  },
  {
   "metadata": {
    "ExecuteTime": {
     "end_time": "2024-10-14T07:19:39.929450Z",
     "start_time": "2024-10-14T07:19:39.915878Z"
    }
   },
   "cell_type": "code",
   "source": [
    "storage_2.update(storage_1)\n",
    "storage_2"
   ],
   "id": "c1f51f8a3380c657",
   "outputs": [
    {
     "data": {
      "text/plain": [
       "{'доски': 10000, 'балки': 1564, 'рейки': 890, 'гвозди': 4230, 'шурупы': 12200, 'саморезы': 1000000}"
      ]
     },
     "execution_count": 323,
     "metadata": {},
     "output_type": "execute_result"
    }
   ],
   "execution_count": 323
  },
  {
   "metadata": {
    "ExecuteTime": {
     "end_time": "2024-10-14T07:19:40.068288Z",
     "start_time": "2024-10-14T07:19:40.057497Z"
    }
   },
   "cell_type": "code",
   "source": [
    "storage_2.pop('доски')\n",
    "storage_2"
   ],
   "id": "f4939cdc9bd597cd",
   "outputs": [
    {
     "data": {
      "text/plain": [
       "{'балки': 1564, 'рейки': 890, 'гвозди': 4230, 'шурупы': 12200, 'саморезы': 1000000}"
      ]
     },
     "execution_count": 324,
     "metadata": {},
     "output_type": "execute_result"
    }
   ],
   "execution_count": 324
  },
  {
   "metadata": {
    "ExecuteTime": {
     "end_time": "2024-10-14T07:19:40.242558Z",
     "start_time": "2024-10-14T07:19:40.229794Z"
    }
   },
   "cell_type": "code",
   "source": [
    "storage_2['брусья'] = storage_2.pop('балки')\n",
    "storage_2"
   ],
   "id": "6b2346a6e0a741c7",
   "outputs": [
    {
     "data": {
      "text/plain": [
       "{'рейки': 890, 'гвозди': 4230, 'шурупы': 12200, 'саморезы': 1000000, 'брусья': 1564}"
      ]
     },
     "execution_count": 325,
     "metadata": {},
     "output_type": "execute_result"
    }
   ],
   "execution_count": 325
  },
  {
   "metadata": {
    "ExecuteTime": {
     "end_time": "2024-10-14T07:19:41.051863Z",
     "start_time": "2024-10-14T07:19:40.327936Z"
    }
   },
   "cell_type": "code",
   "source": "item = input('Введите товар: ').lower()",
   "id": "ce96abda355063b",
   "outputs": [],
   "execution_count": 326
  },
  {
   "metadata": {
    "ExecuteTime": {
     "end_time": "2024-10-14T07:19:41.095761Z",
     "start_time": "2024-10-14T07:19:41.087304Z"
    }
   },
   "cell_type": "code",
   "source": "storage_2.get(item)",
   "id": "bf734dde0fc89bb0",
   "outputs": [],
   "execution_count": 327
  },
  {
   "metadata": {
    "ExecuteTime": {
     "end_time": "2024-10-14T07:19:41.200077Z",
     "start_time": "2024-10-14T07:19:41.187976Z"
    }
   },
   "cell_type": "code",
   "source": [
    "if item not in storage_2:\n",
    "    print('Такого товара на складе нет')\n",
    "else:\n",
    "    print(storage_2.get(item))\n",
    "    \n",
    "data = {1, 2, 3}\n",
    "data2 = [1, 2, 3]"
   ],
   "id": "61011458f10b29e3",
   "outputs": [
    {
     "name": "stdout",
     "output_type": "stream",
     "text": [
      "Такого товара на складе нет\n"
     ]
    }
   ],
   "execution_count": 328
  },
  {
   "metadata": {},
   "cell_type": "markdown",
   "source": [
    "# Коллекция - Множество\n",
    "Колекция неповторяющихся (уникальных) элементов"
   ],
   "id": "300509e7bed5c0da"
  },
  {
   "metadata": {
    "ExecuteTime": {
     "end_time": "2024-10-14T07:19:41.288762Z",
     "start_time": "2024-10-14T07:19:41.276224Z"
    }
   },
   "cell_type": "code",
   "source": [
    "words = [1, 2, 3, 4, 5, 5, 5, 5]\n",
    "mySet_1 = set(words)"
   ],
   "id": "26df99f378e28ad0",
   "outputs": [],
   "execution_count": 329
  },
  {
   "metadata": {
    "ExecuteTime": {
     "end_time": "2024-10-14T07:19:41.367113Z",
     "start_time": "2024-10-14T07:19:41.355565Z"
    }
   },
   "cell_type": "code",
   "source": "mySet_2 = {4, 5, 6, 7, 8, 9}",
   "id": "fab4e26a3a654720",
   "outputs": [],
   "execution_count": 330
  },
  {
   "metadata": {},
   "cell_type": "markdown",
   "source": "# Поиск пересечения множества",
   "id": "1b7a42b2f58d8bc2"
  },
  {
   "metadata": {
    "ExecuteTime": {
     "end_time": "2024-10-14T07:19:41.438117Z",
     "start_time": "2024-10-14T07:19:41.422064Z"
    }
   },
   "cell_type": "code",
   "source": [
    "# intersection - находит общие жлементы\n",
    "mySet_1.intersection(mySet_2)"
   ],
   "id": "7a0b197901014d24",
   "outputs": [
    {
     "data": {
      "text/plain": [
       "{4, 5}"
      ]
     },
     "execution_count": 331,
     "metadata": {},
     "output_type": "execute_result"
    }
   ],
   "execution_count": 331
  },
  {
   "metadata": {
    "ExecuteTime": {
     "end_time": "2024-10-14T07:19:41.585905Z",
     "start_time": "2024-10-14T07:19:41.568215Z"
    }
   },
   "cell_type": "code",
   "source": [
    "# Объединение множеств\n",
    "mySet_1.union(mySet_2)"
   ],
   "id": "1813cb0daa9daac9",
   "outputs": [
    {
     "data": {
      "text/plain": [
       "{1, 2, 3, 4, 5, 6, 7, 8, 9}"
      ]
     },
     "execution_count": 332,
     "metadata": {},
     "output_type": "execute_result"
    }
   ],
   "execution_count": 332
  },
  {
   "metadata": {
    "ExecuteTime": {
     "end_time": "2024-10-14T07:19:41.782117Z",
     "start_time": "2024-10-14T07:19:41.771020Z"
    }
   },
   "cell_type": "code",
   "source": "mySet_1 | mySet_2",
   "id": "2c5d5293c8b9d113",
   "outputs": [
    {
     "data": {
      "text/plain": [
       "{1, 2, 3, 4, 5, 6, 7, 8, 9}"
      ]
     },
     "execution_count": 333,
     "metadata": {},
     "output_type": "execute_result"
    }
   ],
   "execution_count": 333
  },
  {
   "metadata": {
    "ExecuteTime": {
     "end_time": "2024-10-14T07:19:41.951988Z",
     "start_time": "2024-10-14T07:19:41.941403Z"
    }
   },
   "cell_type": "code",
   "source": [
    "# Показывает разницу\n",
    "mySet_1.difference(mySet_2)"
   ],
   "id": "ebcd06390dc12b34",
   "outputs": [
    {
     "data": {
      "text/plain": [
       "{1, 2, 3}"
      ]
     },
     "execution_count": 334,
     "metadata": {},
     "output_type": "execute_result"
    }
   ],
   "execution_count": 334
  },
  {
   "metadata": {
    "ExecuteTime": {
     "end_time": "2024-10-14T07:19:42.146730Z",
     "start_time": "2024-10-14T07:19:42.133518Z"
    }
   },
   "cell_type": "code",
   "source": "mySet_1 - mySet_2",
   "id": "4393cb5e81fa2d2f",
   "outputs": [
    {
     "data": {
      "text/plain": [
       "{1, 2, 3}"
      ]
     },
     "execution_count": 335,
     "metadata": {},
     "output_type": "execute_result"
    }
   ],
   "execution_count": 335
  },
  {
   "metadata": {},
   "cell_type": "markdown",
   "source": "# Кортежи",
   "id": "5b4771b92974f77e"
  },
  {
   "metadata": {
    "ExecuteTime": {
     "end_time": "2024-10-14T07:24:19.493520Z",
     "start_time": "2024-10-14T07:24:19.480229Z"
    }
   },
   "cell_type": "code",
   "source": [
    "myTuple = ('Павел', 'Евгения', 'Александр', 'Мария')\n",
    "type(myTuple)\n",
    "# myTuple[1]\n",
    "myTuple[1:3]"
   ],
   "id": "e4f33a04ce45f323",
   "outputs": [
    {
     "data": {
      "text/plain": [
       "('Евгения', 'Александр')"
      ]
     },
     "execution_count": 339,
     "metadata": {},
     "output_type": "execute_result"
    }
   ],
   "execution_count": 339
  },
  {
   "metadata": {
    "ExecuteTime": {
     "end_time": "2024-10-14T07:26:05.724909Z",
     "start_time": "2024-10-14T07:26:05.714252Z"
    }
   },
   "cell_type": "code",
   "source": [
    "numList = [1, 2, 3, 4, 5]\n",
    "tuple(numList)"
   ],
   "id": "b7e0c8042d26af9f",
   "outputs": [
    {
     "data": {
      "text/plain": [
       "(1, 2, 3, 4, 5)"
      ]
     },
     "execution_count": 344,
     "metadata": {},
     "output_type": "execute_result"
    }
   ],
   "execution_count": 344
  },
  {
   "metadata": {},
   "cell_type": "markdown",
   "source": [
    "# Enumerate\n",
    "Enumerate возвращает кортеж - (Индекс: Значение)"
   ],
   "id": "1678315156560dbc"
  },
  {
   "metadata": {
    "ExecuteTime": {
     "end_time": "2024-10-14T07:30:39.230742Z",
     "start_time": "2024-10-14T07:30:39.220858Z"
    }
   },
   "cell_type": "code",
   "source": [
    "myList = [54, 60, 70, 80, 95]\n",
    "for i, j in enumerate(myList):\n",
    "    print(i, j)"
   ],
   "id": "350e470a4e48fe2d",
   "outputs": [
    {
     "name": "stdout",
     "output_type": "stream",
     "text": [
      "0 54\n",
      "1 60\n",
      "2 70\n",
      "3 80\n",
      "4 95\n"
     ]
    }
   ],
   "execution_count": 347
  }
 ],
 "metadata": {
  "kernelspec": {
   "display_name": "Python 3 (ipykernel)",
   "language": "python",
   "name": "python3"
  },
  "language_info": {
   "codemirror_mode": {
    "name": "ipython",
    "version": 3
   },
   "file_extension": ".py",
   "mimetype": "text/x-python",
   "name": "python",
   "nbconvert_exporter": "python",
   "pygments_lexer": "ipython3",
   "version": "3.12.6"
  }
 },
 "nbformat": 4,
 "nbformat_minor": 5
}
