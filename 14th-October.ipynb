{
 "cells": [
  {
   "cell_type": "markdown",
   "id": "215aa4bc77c9a2e8",
   "metadata": {},
   "source": [
    "# This is the first file\n",
    "Some description of code"
   ]
  },
  {
   "cell_type": "code",
   "id": "331f5b6630251a6e",
   "metadata": {
    "ExecuteTime": {
     "end_time": "2024-10-14T06:38:55.846030Z",
     "start_time": "2024-10-14T06:38:55.837956Z"
    }
   },
   "source": [
    "print('Hello, world')\n",
    "print('Second line')"
   ],
   "outputs": [
    {
     "name": "stdout",
     "output_type": "stream",
     "text": [
      "Hello, world\n",
      "Second line\n"
     ]
    }
   ],
   "execution_count": 58
  },
  {
   "cell_type": "markdown",
   "id": "51b42b1574a57b76",
   "metadata": {},
   "source": [
    "# Learning features of Jupiter Notebook in PyCharm\n",
    "- This one line\n",
    "- This is another line"
   ]
  },
  {
   "metadata": {
    "ExecuteTime": {
     "end_time": "2024-10-14T06:38:55.950057Z",
     "start_time": "2024-10-14T06:38:55.941147Z"
    }
   },
   "cell_type": "code",
   "source": [
    "import pandas as pd\n",
    "print(pd)\n",
    "print(pd.__version__)"
   ],
   "id": "6837791ab383c512",
   "outputs": [
    {
     "name": "stdout",
     "output_type": "stream",
     "text": [
      "<module 'pandas' from '/Users/arman/Desktop/Projects/Python/Test-1/.venv/lib/python3.12/site-packages/pandas/__init__.py'>\n",
      "2.2.3\n"
     ]
    }
   ],
   "execution_count": 59
  },
  {
   "metadata": {
    "ExecuteTime": {
     "end_time": "2024-10-14T06:38:56.056292Z",
     "start_time": "2024-10-14T06:38:56.048739Z"
    }
   },
   "cell_type": "code",
   "source": [
    "a = 12 \n",
    "print(a)"
   ],
   "id": "b2c06c5daf1e6da7",
   "outputs": [
    {
     "name": "stdout",
     "output_type": "stream",
     "text": [
      "12\n"
     ]
    }
   ],
   "execution_count": 60
  },
  {
   "metadata": {
    "ExecuteTime": {
     "end_time": "2024-10-14T06:38:56.191439Z",
     "start_time": "2024-10-14T06:38:56.176171Z"
    }
   },
   "cell_type": "code",
   "source": "print('Hola, my boy')",
   "id": "34bad05cacc0a306",
   "outputs": [
    {
     "name": "stdout",
     "output_type": "stream",
     "text": [
      "Hola, my boy\n"
     ]
    }
   ],
   "execution_count": 61
  },
  {
   "metadata": {
    "ExecuteTime": {
     "end_time": "2024-10-14T06:38:56.305788Z",
     "start_time": "2024-10-14T06:38:56.273242Z"
    }
   },
   "cell_type": "code",
   "source": [
    "data = [1, 2, 3, 4, 5, 6]\n",
    "pd.Series(data=data)"
   ],
   "id": "58bc1e9ef9b51cd0",
   "outputs": [
    {
     "data": {
      "text/plain": [
       "0    1\n",
       "1    2\n",
       "2    3\n",
       "3    4\n",
       "4    5\n",
       "5    6\n",
       "dtype: int64"
      ]
     },
     "execution_count": 62,
     "metadata": {},
     "output_type": "execute_result"
    }
   ],
   "execution_count": 62
  },
  {
   "metadata": {},
   "cell_type": "markdown",
   "source": "# Lesson 14th of October",
   "id": "52d7be0cc4789127"
  },
  {
   "metadata": {},
   "cell_type": "markdown",
   "source": "# Метод Get",
   "id": "86fbd252a2875c15"
  },
  {
   "metadata": {
    "ExecuteTime": {
     "end_time": "2024-10-14T06:43:11.607375Z",
     "start_time": "2024-10-14T06:43:11.591454Z"
    }
   },
   "cell_type": "code",
   "source": [
    "myDict = {\n",
    "    'Pavel': 12,\n",
    "    'Roma': 13,\n",
    "    'Andrew': 22,\n",
    "    'Artem': 27\n",
    "}\n",
    "# Возвращает значение \n",
    "myDict.get('Nikolay', 'такого ключа нет')"
   ],
   "id": "872832526431b717",
   "outputs": [
    {
     "data": {
      "text/plain": [
       "27"
      ]
     },
     "execution_count": 66,
     "metadata": {},
     "output_type": "execute_result"
    }
   ],
   "execution_count": 66
  },
  {
   "metadata": {},
   "cell_type": "code",
   "outputs": [],
   "execution_count": null,
   "source": [
    "storage_1 = {\n",
    "    'гвозди': 4_230,\n",
    "    'шурупы': 12_200,\n",
    "    'саморезы': 1_000_000\n",
    "}\n",
    "storage_2 = {\n",
    "    'Доски': 10_000,\n",
    "    'Балки': 1_564,\n",
    "    'рейки': 890\n",
    "}"
   ],
   "id": "cf2f1b9f8f051da6"
  }
 ],
 "metadata": {
  "kernelspec": {
   "display_name": "Python 3 (ipykernel)",
   "language": "python",
   "name": "python3"
  },
  "language_info": {
   "codemirror_mode": {
    "name": "ipython",
    "version": 3
   },
   "file_extension": ".py",
   "mimetype": "text/x-python",
   "name": "python",
   "nbconvert_exporter": "python",
   "pygments_lexer": "ipython3",
   "version": "3.12.6"
  }
 },
 "nbformat": 4,
 "nbformat_minor": 5
}
