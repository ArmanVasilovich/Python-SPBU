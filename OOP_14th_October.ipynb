{
 "cells": [
  {
   "metadata": {},
   "cell_type": "markdown",
   "source": [
    "# Объектно-ориентированное программирование | ООП\n",
    "- Абстракция\n",
    "- Инкапсуляция\n",
    "- Полиморфизм\n",
    "- Наследование"
   ],
   "id": "fcdb37aca3f7a115"
  },
  {
   "metadata": {
    "ExecuteTime": {
     "end_time": "2024-10-14T11:39:05.936884Z",
     "start_time": "2024-10-14T11:39:05.927838Z"
    }
   },
   "cell_type": "code",
   "source": [
    "class User:\n",
    "    userName:str = 'admin'\n",
    "    userSurname:str = 'surname'\n",
    "    password:str = '1q2w3e4r5t'\n",
    "\n",
    "    def info(self):\n",
    "        print(f' Имя: {self.userName} Фамилия: {self.userSurname} Пароль: {self.password}')\n",
    "user_1 = User()\n",
    "user_1.userName = 'Oleg'\n",
    "user_1.userSurname = 'Tinkoff'\n",
    "user_1.password = 'Oleg1967'\n",
    "user_1.info()"
   ],
   "id": "309faa749eedcf58",
   "outputs": [
    {
     "name": "stdout",
     "output_type": "stream",
     "text": [
      " Имя: Oleg Фамилия: Tinkoff Пароль: Oleg1967\n"
     ]
    }
   ],
   "execution_count": 43
  }
 ],
 "metadata": {
  "kernelspec": {
   "display_name": "Python 3",
   "language": "python",
   "name": "python3"
  },
  "language_info": {
   "codemirror_mode": {
    "name": "ipython",
    "version": 2
   },
   "file_extension": ".py",
   "mimetype": "text/x-python",
   "name": "python",
   "nbconvert_exporter": "python",
   "pygments_lexer": "ipython2",
   "version": "2.7.6"
  }
 },
 "nbformat": 4,
 "nbformat_minor": 5
}
