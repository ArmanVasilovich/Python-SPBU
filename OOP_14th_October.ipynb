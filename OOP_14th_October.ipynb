{
 "cells": [
  {
   "metadata": {},
   "cell_type": "markdown",
   "source": [
    "# Объектно-ориентированное программирование | ООП\n",
    "- Абстракция\n",
    "- Инкапсуляция\n",
    "- Полиморфизм\n",
    "- Наследование"
   ],
   "id": "fcdb37aca3f7a115"
  },
  {
   "metadata": {
    "ExecuteTime": {
     "end_time": "2024-10-14T11:39:05.936884Z",
     "start_time": "2024-10-14T11:39:05.927838Z"
    }
   },
   "cell_type": "code",
   "source": [
    "class User:\n",
    "    userName:str = 'admin'\n",
    "    userSurname:str = 'surname'\n",
    "    password:str = '1q2w3e4r5t'\n",
    "\n",
    "    def info(self):\n",
    "        print(f' Имя: {self.userName} Фамилия: {self.userSurname} Пароль: {self.password}')\n",
    "user_1 = User()\n",
    "user_1.userName = 'Oleg'\n",
    "user_1.userSurname = 'Tinkoff'\n",
    "user_1.password = 'Oleg1967'\n",
    "user_1.info()"
   ],
   "id": "309faa749eedcf58",
   "outputs": [
    {
     "name": "stdout",
     "output_type": "stream",
     "text": [
      " Имя: Oleg Фамилия: Tinkoff Пароль: Oleg1967\n"
     ]
    }
   ],
   "execution_count": 43
  },
  {
   "metadata": {},
   "cell_type": "markdown",
   "source": "# Конструктор класса",
   "id": "b0e5e1d1a6c163a1"
  },
  {
   "metadata": {
    "ExecuteTime": {
     "end_time": "2024-10-14T11:47:50.899076Z",
     "start_time": "2024-10-14T11:47:50.840441Z"
    }
   },
   "cell_type": "code",
   "source": [
    "class Student:\n",
    "    def __init__(self, name, surname, age, group):\n",
    "        self.name = name\n",
    "        self.surname = surname\n",
    "        self.age = age\n",
    "        self.group = group\n",
    "    \n",
    "    def info(self):\n",
    "        print(f'Имя: {self.name} '\n",
    "              f'Фаимлия: {self.surname} '\n",
    "              f'Возраст: {self.age} '\n",
    "              f'Группа: {self.group}')"
   ],
   "id": "c0d625d555a35d9",
   "outputs": [
    {
     "ename": "TypeError",
     "evalue": "Student.info() missing 1 required positional argument: 'self'",
     "output_type": "error",
     "traceback": [
      "\u001B[0;31m---------------------------------------------------------------------------\u001B[0m",
      "\u001B[0;31mTypeError\u001B[0m                                 Traceback (most recent call last)",
      "Cell \u001B[0;32mIn[49], line 1\u001B[0m\n\u001B[0;32m----> 1\u001B[0m \u001B[38;5;28;43;01mclass\u001B[39;49;00m\u001B[43m \u001B[49m\u001B[38;5;21;43;01mStudent\u001B[39;49;00m\u001B[43m:\u001B[49m\n\u001B[1;32m      2\u001B[0m \u001B[43m    \u001B[49m\u001B[38;5;28;43;01mdef\u001B[39;49;00m\u001B[43m \u001B[49m\u001B[38;5;21;43m__init__\u001B[39;49m\u001B[43m(\u001B[49m\u001B[38;5;28;43mself\u001B[39;49m\u001B[43m,\u001B[49m\u001B[43m \u001B[49m\u001B[43mname\u001B[49m\u001B[43m,\u001B[49m\u001B[43m \u001B[49m\u001B[43msurname\u001B[49m\u001B[43m,\u001B[49m\u001B[43m \u001B[49m\u001B[43mage\u001B[49m\u001B[43m,\u001B[49m\u001B[43m \u001B[49m\u001B[43mgroup\u001B[49m\u001B[43m)\u001B[49m\u001B[43m:\u001B[49m\n\u001B[1;32m      3\u001B[0m \u001B[43m        \u001B[49m\u001B[38;5;28;43mself\u001B[39;49m\u001B[38;5;241;43m.\u001B[39;49m\u001B[43mname\u001B[49m\u001B[43m \u001B[49m\u001B[38;5;241;43m=\u001B[39;49m\u001B[43m \u001B[49m\u001B[43mname\u001B[49m\n",
      "Cell \u001B[0;32mIn[49], line 13\u001B[0m, in \u001B[0;36mStudent\u001B[0;34m()\u001B[0m\n\u001B[1;32m      8\u001B[0m \u001B[38;5;28;01mdef\u001B[39;00m \u001B[38;5;21minfo\u001B[39m(\u001B[38;5;28mself\u001B[39m):\n\u001B[1;32m      9\u001B[0m     \u001B[38;5;28mprint\u001B[39m(\u001B[38;5;124mf\u001B[39m\u001B[38;5;124m'\u001B[39m\u001B[38;5;124mИмя: \u001B[39m\u001B[38;5;132;01m{\u001B[39;00m\u001B[38;5;28mself\u001B[39m\u001B[38;5;241m.\u001B[39mname\u001B[38;5;132;01m}\u001B[39;00m\u001B[38;5;124m \u001B[39m\u001B[38;5;124m'\u001B[39m\n\u001B[1;32m     10\u001B[0m           \u001B[38;5;124mf\u001B[39m\u001B[38;5;124m'\u001B[39m\u001B[38;5;124mФаимлия: \u001B[39m\u001B[38;5;132;01m{\u001B[39;00m\u001B[38;5;28mself\u001B[39m\u001B[38;5;241m.\u001B[39msurname\u001B[38;5;132;01m}\u001B[39;00m\u001B[38;5;124m \u001B[39m\u001B[38;5;124m'\u001B[39m\n\u001B[1;32m     11\u001B[0m           \u001B[38;5;124mf\u001B[39m\u001B[38;5;124m'\u001B[39m\u001B[38;5;124mВозраст: \u001B[39m\u001B[38;5;132;01m{\u001B[39;00m\u001B[38;5;28mself\u001B[39m\u001B[38;5;241m.\u001B[39mage\u001B[38;5;132;01m}\u001B[39;00m\u001B[38;5;124m \u001B[39m\u001B[38;5;124m'\u001B[39m\n\u001B[1;32m     12\u001B[0m           \u001B[38;5;124mf\u001B[39m\u001B[38;5;124m'\u001B[39m\u001B[38;5;124mГруппа: \u001B[39m\u001B[38;5;132;01m{\u001B[39;00m\u001B[38;5;28mself\u001B[39m\u001B[38;5;241m.\u001B[39mgroup\u001B[38;5;132;01m}\u001B[39;00m\u001B[38;5;124m'\u001B[39m)\n\u001B[0;32m---> 13\u001B[0m \u001B[43minfo\u001B[49m\u001B[43m(\u001B[49m\u001B[43m)\u001B[49m\n",
      "\u001B[0;31mTypeError\u001B[0m: Student.info() missing 1 required positional argument: 'self'"
     ]
    }
   ],
   "execution_count": 49
  }
 ],
 "metadata": {
  "kernelspec": {
   "display_name": "Python 3",
   "language": "python",
   "name": "python3"
  },
  "language_info": {
   "codemirror_mode": {
    "name": "ipython",
    "version": 2
   },
   "file_extension": ".py",
   "mimetype": "text/x-python",
   "name": "python",
   "nbconvert_exporter": "python",
   "pygments_lexer": "ipython2",
   "version": "2.7.6"
  }
 },
 "nbformat": 4,
 "nbformat_minor": 5
}
