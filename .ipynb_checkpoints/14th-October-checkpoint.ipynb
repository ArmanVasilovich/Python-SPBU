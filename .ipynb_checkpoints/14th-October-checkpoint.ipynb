{
 "cells": [
  {
   "metadata": {},
   "cell_type": "markdown",
   "source": [
    "# This is the first file\n",
    "Some description of code"
   ],
   "id": "215aa4bc77c9a2e8"
  },
  {
   "metadata": {
    "ExecuteTime": {
     "end_time": "2024-10-14T05:09:18.269961Z",
     "start_time": "2024-10-14T05:09:18.240111Z"
    }
   },
   "cell_type": "code",
   "source": [
    "print('Hello, world')\n",
    "print('Second line')"
   ],
   "id": "331f5b6630251a6e",
   "outputs": [
    {
     "name": "stdout",
     "output_type": "stream",
     "text": [
      "Hello, world\n",
      "Second line\n"
     ]
    }
   ],
   "execution_count": 3
  },
  {
   "metadata": {},
   "cell_type": "markdown",
   "source": [
    "# Second line of documentation\n",
    "- This one line\n",
    "- This is another line"
   ],
   "id": "51b42b1574a57b76"
  }
 ],
 "metadata": {
  "kernelspec": {
   "display_name": "Python 3 (ipykernel)",
   "language": "python",
   "name": "python3"
  },
  "language_info": {
   "codemirror_mode": {
    "name": "ipython",
    "version": 3
   },
   "file_extension": ".py",
   "mimetype": "text/x-python",
   "name": "python",
   "nbconvert_exporter": "python",
   "pygments_lexer": "ipython3",
   "version": "3.12.6"
  }
 },
 "nbformat": 4,
 "nbformat_minor": 5
}
