{
 "cells": [
  {
   "metadata": {},
   "cell_type": "markdown",
   "source": "# NumPy",
   "id": "5c2b4427c59de69f"
  },
  {
   "metadata": {
    "ExecuteTime": {
     "end_time": "2024-10-21T11:11:58.565260Z",
     "start_time": "2024-10-21T11:11:58.555175Z"
    }
   },
   "cell_type": "code",
   "source": "import numpy as np",
   "id": "9203ce34e4b3edd7",
   "outputs": [],
   "execution_count": 23
  },
  {
   "metadata": {
    "ExecuteTime": {
     "end_time": "2024-10-21T11:11:58.613911Z",
     "start_time": "2024-10-21T11:11:58.592623Z"
    }
   },
   "cell_type": "code",
   "source": "np.sqrt(16)",
   "id": "31dddf891a3892da",
   "outputs": [
    {
     "data": {
      "text/plain": [
       "np.float64(4.0)"
      ]
     },
     "execution_count": 24,
     "metadata": {},
     "output_type": "execute_result"
    }
   ],
   "execution_count": 24
  },
  {
   "metadata": {
    "ExecuteTime": {
     "end_time": "2024-10-21T11:11:58.717596Z",
     "start_time": "2024-10-21T11:11:58.706003Z"
    }
   },
   "cell_type": "code",
   "source": "np.log(4)",
   "id": "1ee835afb167c75f",
   "outputs": [
    {
     "data": {
      "text/plain": [
       "np.float64(1.3862943611198906)"
      ]
     },
     "execution_count": 25,
     "metadata": {},
     "output_type": "execute_result"
    }
   ],
   "execution_count": 25
  },
  {
   "metadata": {
    "ExecuteTime": {
     "end_time": "2024-10-21T11:11:58.892412Z",
     "start_time": "2024-10-21T11:11:58.876241Z"
    }
   },
   "cell_type": "code",
   "source": "np.mean([20, 40, 30, 450, 45, 30])",
   "id": "5360938f6c21d6a4",
   "outputs": [
    {
     "data": {
      "text/plain": [
       "np.float64(102.5)"
      ]
     },
     "execution_count": 26,
     "metadata": {},
     "output_type": "execute_result"
    }
   ],
   "execution_count": 26
  },
  {
   "metadata": {
    "ExecuteTime": {
     "end_time": "2024-10-21T11:11:59.063340Z",
     "start_time": "2024-10-21T11:11:59.045626Z"
    }
   },
   "cell_type": "code",
   "source": "np.median([20, 40, 30, 450, 45, 30])",
   "id": "c81f4ff1a7790bdc",
   "outputs": [
    {
     "data": {
      "text/plain": [
       "np.float64(35.0)"
      ]
     },
     "execution_count": 27,
     "metadata": {},
     "output_type": "execute_result"
    }
   ],
   "execution_count": 27
  },
  {
   "metadata": {
    "ExecuteTime": {
     "end_time": "2024-10-21T11:11:59.234797Z",
     "start_time": "2024-10-21T11:11:59.212112Z"
    }
   },
   "cell_type": "code",
   "source": "np.array([[2, 3, 4], [1, 2, 3.0]])",
   "id": "d7cd9ae3ba4f299d",
   "outputs": [
    {
     "data": {
      "text/plain": [
       "array([[2., 3., 4.],\n",
       "       [1., 2., 3.]])"
      ]
     },
     "execution_count": 28,
     "metadata": {},
     "output_type": "execute_result"
    }
   ],
   "execution_count": 28
  },
  {
   "metadata": {
    "ExecuteTime": {
     "end_time": "2024-10-21T11:11:59.391149Z",
     "start_time": "2024-10-21T11:11:59.377595Z"
    }
   },
   "cell_type": "code",
   "source": "np.array([[2, 3, '4'], [1, 2, 3.0]])",
   "id": "ec1c758929e3034b",
   "outputs": [
    {
     "data": {
      "text/plain": [
       "array([['2', '3', '4'],\n",
       "       ['1', '2', '3.0']], dtype='<U32')"
      ]
     },
     "execution_count": 29,
     "metadata": {},
     "output_type": "execute_result"
    }
   ],
   "execution_count": 29
  },
  {
   "metadata": {
    "ExecuteTime": {
     "end_time": "2024-10-21T11:11:59.988837Z",
     "start_time": "2024-10-21T11:11:59.978733Z"
    }
   },
   "cell_type": "code",
   "source": "np.array([2, 3, 4])**2",
   "id": "5f5b3937300ec3fa",
   "outputs": [
    {
     "data": {
      "text/plain": [
       "array([ 4,  9, 16])"
      ]
     },
     "execution_count": 30,
     "metadata": {},
     "output_type": "execute_result"
    }
   ],
   "execution_count": 30
  },
  {
   "metadata": {
    "ExecuteTime": {
     "end_time": "2024-10-21T11:12:00.311273Z",
     "start_time": "2024-10-21T11:12:00.292380Z"
    }
   },
   "cell_type": "code",
   "source": "np.array([2, 3, 4])*100",
   "id": "669441d7c1c51dc1",
   "outputs": [
    {
     "data": {
      "text/plain": [
       "array([200, 300, 400])"
      ]
     },
     "execution_count": 31,
     "metadata": {},
     "output_type": "execute_result"
    }
   ],
   "execution_count": 31
  },
  {
   "metadata": {
    "ExecuteTime": {
     "end_time": "2024-10-21T11:12:00.671628Z",
     "start_time": "2024-10-21T11:12:00.648841Z"
    }
   },
   "cell_type": "code",
   "source": "np.array([2, 3, 4]) + np.array([7, 12, 8])",
   "id": "f0beee52df52e668",
   "outputs": [
    {
     "data": {
      "text/plain": [
       "array([ 9, 15, 12])"
      ]
     },
     "execution_count": 32,
     "metadata": {},
     "output_type": "execute_result"
    }
   ],
   "execution_count": 32
  },
  {
   "metadata": {
    "ExecuteTime": {
     "end_time": "2024-10-21T11:12:00.952516Z",
     "start_time": "2024-10-21T11:12:00.938205Z"
    }
   },
   "cell_type": "code",
   "source": "(np.array([2, 3, 4]) + np.array([7, 12, 8])) / 2",
   "id": "95560a892e96db4a",
   "outputs": [
    {
     "data": {
      "text/plain": [
       "array([4.5, 7.5, 6. ])"
      ]
     },
     "execution_count": 33,
     "metadata": {},
     "output_type": "execute_result"
    }
   ],
   "execution_count": 33
  },
  {
   "metadata": {
    "ExecuteTime": {
     "end_time": "2024-10-21T11:12:16.704624Z",
     "start_time": "2024-10-21T11:12:16.690077Z"
    }
   },
   "cell_type": "code",
   "source": [
    "m = np.array([[2, 5], \n",
    "              [6, 8],\n",
    "              [1, 3]])"
   ],
   "id": "a9b22e765eaec0b1",
   "outputs": [],
   "execution_count": 35
  },
  {
   "metadata": {
    "ExecuteTime": {
     "end_time": "2024-10-21T11:12:41.689045Z",
     "start_time": "2024-10-21T11:12:41.675349Z"
    }
   },
   "cell_type": "code",
   "source": [
    "# Количество измерений\n",
    "m.ndim"
   ],
   "id": "10b7338af35e83b2",
   "outputs": [
    {
     "data": {
      "text/plain": [
       "2"
      ]
     },
     "execution_count": 36,
     "metadata": {},
     "output_type": "execute_result"
    }
   ],
   "execution_count": 36
  },
  {
   "metadata": {
    "ExecuteTime": {
     "end_time": "2024-10-21T11:13:00.848135Z",
     "start_time": "2024-10-21T11:13:00.834751Z"
    }
   },
   "cell_type": "code",
   "source": [
    "# Форма массива\n",
    "m.shape"
   ],
   "id": "fb9171b49e170077",
   "outputs": [
    {
     "data": {
      "text/plain": [
       "(3, 2)"
      ]
     },
     "execution_count": 37,
     "metadata": {},
     "output_type": "execute_result"
    }
   ],
   "execution_count": 37
  },
  {
   "metadata": {
    "ExecuteTime": {
     "end_time": "2024-10-21T11:13:26.867933Z",
     "start_time": "2024-10-21T11:13:26.855978Z"
    }
   },
   "cell_type": "code",
   "source": [
    "# Размер массива\n",
    "m.size"
   ],
   "id": "ce641a2cc08a2a0d",
   "outputs": [
    {
     "data": {
      "text/plain": [
       "6"
      ]
     },
     "execution_count": 38,
     "metadata": {},
     "output_type": "execute_result"
    }
   ],
   "execution_count": 38
  },
  {
   "metadata": {
    "ExecuteTime": {
     "end_time": "2024-10-21T11:14:11.599723Z",
     "start_time": "2024-10-21T11:14:11.588399Z"
    }
   },
   "cell_type": "code",
   "source": "m[1][0]",
   "id": "a2bb2f5f2cf7405",
   "outputs": [
    {
     "data": {
      "text/plain": [
       "np.int64(6)"
      ]
     },
     "execution_count": 39,
     "metadata": {},
     "output_type": "execute_result"
    }
   ],
   "execution_count": 39
  },
  {
   "metadata": {
    "ExecuteTime": {
     "end_time": "2024-10-21T11:15:14.448574Z",
     "start_time": "2024-10-21T11:15:14.435238Z"
    }
   },
   "cell_type": "code",
   "source": "m[1,0]",
   "id": "76399742b251822c",
   "outputs": [
    {
     "data": {
      "text/plain": [
       "np.int64(6)"
      ]
     },
     "execution_count": 42,
     "metadata": {},
     "output_type": "execute_result"
    }
   ],
   "execution_count": 42
  },
  {
   "metadata": {
    "ExecuteTime": {
     "end_time": "2024-10-21T11:15:16.620314Z",
     "start_time": "2024-10-21T11:15:16.609517Z"
    }
   },
   "cell_type": "code",
   "source": "m[1]",
   "id": "bcd128cf4396776b",
   "outputs": [
    {
     "data": {
      "text/plain": [
       "array([6, 8])"
      ]
     },
     "execution_count": 43,
     "metadata": {},
     "output_type": "execute_result"
    }
   ],
   "execution_count": 43
  },
  {
   "metadata": {
    "ExecuteTime": {
     "end_time": "2024-10-21T11:15:37.608679Z",
     "start_time": "2024-10-21T11:15:37.602006Z"
    }
   },
   "cell_type": "code",
   "source": "m[0:2]",
   "id": "962a06ef5cb587c8",
   "outputs": [
    {
     "data": {
      "text/plain": [
       "array([[2, 5],\n",
       "       [6, 8]])"
      ]
     },
     "execution_count": 45,
     "metadata": {},
     "output_type": "execute_result"
    }
   ],
   "execution_count": 45
  },
  {
   "metadata": {
    "ExecuteTime": {
     "end_time": "2024-10-21T11:15:56.295427Z",
     "start_time": "2024-10-21T11:15:56.282627Z"
    }
   },
   "cell_type": "code",
   "source": "m[1:]",
   "id": "79d9dfd59ca984aa",
   "outputs": [
    {
     "data": {
      "text/plain": [
       "array([[6, 8],\n",
       "       [1, 3]])"
      ]
     },
     "execution_count": 46,
     "metadata": {},
     "output_type": "execute_result"
    }
   ],
   "execution_count": 46
  },
  {
   "metadata": {},
   "cell_type": "code",
   "outputs": [],
   "execution_count": null,
   "source": "",
   "id": "57470c832850380b"
  }
 ],
 "metadata": {
  "kernelspec": {
   "display_name": "Python 3",
   "language": "python",
   "name": "python3"
  },
  "language_info": {
   "codemirror_mode": {
    "name": "ipython",
    "version": 2
   },
   "file_extension": ".py",
   "mimetype": "text/x-python",
   "name": "python",
   "nbconvert_exporter": "python",
   "pygments_lexer": "ipython2",
   "version": "2.7.6"
  }
 },
 "nbformat": 4,
 "nbformat_minor": 5
}
