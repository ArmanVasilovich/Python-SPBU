{
 "cells": [
  {
   "metadata": {},
   "cell_type": "markdown",
   "source": "# NumPy",
   "id": "5c2b4427c59de69f"
  },
  {
   "metadata": {
    "ExecuteTime": {
     "end_time": "2024-10-21T11:21:48.552056Z",
     "start_time": "2024-10-21T11:21:48.543788Z"
    }
   },
   "cell_type": "code",
   "source": "import numpy as np",
   "id": "9203ce34e4b3edd7",
   "outputs": [],
   "execution_count": 81
  },
  {
   "metadata": {
    "ExecuteTime": {
     "end_time": "2024-10-21T11:21:48.598316Z",
     "start_time": "2024-10-21T11:21:48.589531Z"
    }
   },
   "cell_type": "code",
   "source": "np.sqrt(16)",
   "id": "31dddf891a3892da",
   "outputs": [
    {
     "data": {
      "text/plain": [
       "np.float64(4.0)"
      ]
     },
     "execution_count": 82,
     "metadata": {},
     "output_type": "execute_result"
    }
   ],
   "execution_count": 82
  },
  {
   "metadata": {
    "ExecuteTime": {
     "end_time": "2024-10-21T11:21:48.673928Z",
     "start_time": "2024-10-21T11:21:48.665341Z"
    }
   },
   "cell_type": "code",
   "source": "np.log(4)",
   "id": "1ee835afb167c75f",
   "outputs": [
    {
     "data": {
      "text/plain": [
       "np.float64(1.3862943611198906)"
      ]
     },
     "execution_count": 83,
     "metadata": {},
     "output_type": "execute_result"
    }
   ],
   "execution_count": 83
  },
  {
   "metadata": {
    "ExecuteTime": {
     "end_time": "2024-10-21T11:21:48.799548Z",
     "start_time": "2024-10-21T11:21:48.785133Z"
    }
   },
   "cell_type": "code",
   "source": "np.mean([20, 40, 30, 450, 45, 30])",
   "id": "5360938f6c21d6a4",
   "outputs": [
    {
     "data": {
      "text/plain": [
       "np.float64(102.5)"
      ]
     },
     "execution_count": 84,
     "metadata": {},
     "output_type": "execute_result"
    }
   ],
   "execution_count": 84
  },
  {
   "metadata": {
    "ExecuteTime": {
     "end_time": "2024-10-21T11:21:48.975315Z",
     "start_time": "2024-10-21T11:21:48.953814Z"
    }
   },
   "cell_type": "code",
   "source": "np.median([20, 40, 30, 450, 45, 30])",
   "id": "c81f4ff1a7790bdc",
   "outputs": [
    {
     "data": {
      "text/plain": [
       "np.float64(35.0)"
      ]
     },
     "execution_count": 85,
     "metadata": {},
     "output_type": "execute_result"
    }
   ],
   "execution_count": 85
  },
  {
   "metadata": {
    "ExecuteTime": {
     "end_time": "2024-10-21T11:21:49.106837Z",
     "start_time": "2024-10-21T11:21:49.094818Z"
    }
   },
   "cell_type": "code",
   "source": "np.array([[2, 3, 4], [1, 2, 3.0]])",
   "id": "d7cd9ae3ba4f299d",
   "outputs": [
    {
     "data": {
      "text/plain": [
       "array([[2., 3., 4.],\n",
       "       [1., 2., 3.]])"
      ]
     },
     "execution_count": 86,
     "metadata": {},
     "output_type": "execute_result"
    }
   ],
   "execution_count": 86
  },
  {
   "metadata": {
    "ExecuteTime": {
     "end_time": "2024-10-21T11:21:49.260946Z",
     "start_time": "2024-10-21T11:21:49.238571Z"
    }
   },
   "cell_type": "code",
   "source": "np.array([[2, 3, '4'], [1, 2, 3.0]])",
   "id": "ec1c758929e3034b",
   "outputs": [
    {
     "data": {
      "text/plain": [
       "array([['2', '3', '4'],\n",
       "       ['1', '2', '3.0']], dtype='<U32')"
      ]
     },
     "execution_count": 87,
     "metadata": {},
     "output_type": "execute_result"
    }
   ],
   "execution_count": 87
  },
  {
   "metadata": {
    "ExecuteTime": {
     "end_time": "2024-10-21T11:21:49.468647Z",
     "start_time": "2024-10-21T11:21:49.453965Z"
    }
   },
   "cell_type": "code",
   "source": "np.array([2, 3, 4])**2",
   "id": "5f5b3937300ec3fa",
   "outputs": [
    {
     "data": {
      "text/plain": [
       "array([ 4,  9, 16])"
      ]
     },
     "execution_count": 88,
     "metadata": {},
     "output_type": "execute_result"
    }
   ],
   "execution_count": 88
  },
  {
   "metadata": {
    "ExecuteTime": {
     "end_time": "2024-10-21T11:21:49.703107Z",
     "start_time": "2024-10-21T11:21:49.684181Z"
    }
   },
   "cell_type": "code",
   "source": "np.array([2, 3, 4])*100",
   "id": "669441d7c1c51dc1",
   "outputs": [
    {
     "data": {
      "text/plain": [
       "array([200, 300, 400])"
      ]
     },
     "execution_count": 89,
     "metadata": {},
     "output_type": "execute_result"
    }
   ],
   "execution_count": 89
  },
  {
   "metadata": {
    "ExecuteTime": {
     "end_time": "2024-10-21T11:21:49.935195Z",
     "start_time": "2024-10-21T11:21:49.926617Z"
    }
   },
   "cell_type": "code",
   "source": "np.array([2, 3, 4]) + np.array([7, 12, 8])",
   "id": "f0beee52df52e668",
   "outputs": [
    {
     "data": {
      "text/plain": [
       "array([ 9, 15, 12])"
      ]
     },
     "execution_count": 90,
     "metadata": {},
     "output_type": "execute_result"
    }
   ],
   "execution_count": 90
  },
  {
   "metadata": {
    "ExecuteTime": {
     "end_time": "2024-10-21T11:21:50.051330Z",
     "start_time": "2024-10-21T11:21:50.040959Z"
    }
   },
   "cell_type": "code",
   "source": "(np.array([2, 3, 4]) + np.array([7, 12, 8])) / 2",
   "id": "95560a892e96db4a",
   "outputs": [
    {
     "data": {
      "text/plain": [
       "array([4.5, 7.5, 6. ])"
      ]
     },
     "execution_count": 91,
     "metadata": {},
     "output_type": "execute_result"
    }
   ],
   "execution_count": 91
  },
  {
   "metadata": {
    "ExecuteTime": {
     "end_time": "2024-10-21T11:21:50.100666Z",
     "start_time": "2024-10-21T11:21:50.094301Z"
    }
   },
   "cell_type": "code",
   "source": [
    "m = np.array([[2, 5], \n",
    "              [6, 8],\n",
    "              [1, 3]])"
   ],
   "id": "a9b22e765eaec0b1",
   "outputs": [],
   "execution_count": 92
  },
  {
   "metadata": {
    "ExecuteTime": {
     "end_time": "2024-10-21T11:21:50.287959Z",
     "start_time": "2024-10-21T11:21:50.262854Z"
    }
   },
   "cell_type": "code",
   "source": [
    "# Количество измерений\n",
    "m.ndim"
   ],
   "id": "10b7338af35e83b2",
   "outputs": [
    {
     "data": {
      "text/plain": [
       "2"
      ]
     },
     "execution_count": 93,
     "metadata": {},
     "output_type": "execute_result"
    }
   ],
   "execution_count": 93
  },
  {
   "metadata": {
    "ExecuteTime": {
     "end_time": "2024-10-21T11:21:50.403202Z",
     "start_time": "2024-10-21T11:21:50.392593Z"
    }
   },
   "cell_type": "code",
   "source": [
    "# Форма массива\n",
    "m.shape"
   ],
   "id": "fb9171b49e170077",
   "outputs": [
    {
     "data": {
      "text/plain": [
       "(3, 2)"
      ]
     },
     "execution_count": 94,
     "metadata": {},
     "output_type": "execute_result"
    }
   ],
   "execution_count": 94
  },
  {
   "metadata": {
    "ExecuteTime": {
     "end_time": "2024-10-21T11:21:50.516660Z",
     "start_time": "2024-10-21T11:21:50.505835Z"
    }
   },
   "cell_type": "code",
   "source": [
    "# Размер массива\n",
    "m.size"
   ],
   "id": "ce641a2cc08a2a0d",
   "outputs": [
    {
     "data": {
      "text/plain": [
       "6"
      ]
     },
     "execution_count": 95,
     "metadata": {},
     "output_type": "execute_result"
    }
   ],
   "execution_count": 95
  },
  {
   "metadata": {
    "ExecuteTime": {
     "end_time": "2024-10-21T11:21:50.654401Z",
     "start_time": "2024-10-21T11:21:50.640806Z"
    }
   },
   "cell_type": "code",
   "source": "m[1][0]",
   "id": "a2bb2f5f2cf7405",
   "outputs": [
    {
     "data": {
      "text/plain": [
       "np.int64(6)"
      ]
     },
     "execution_count": 96,
     "metadata": {},
     "output_type": "execute_result"
    }
   ],
   "execution_count": 96
  },
  {
   "metadata": {
    "ExecuteTime": {
     "end_time": "2024-10-21T11:21:50.778382Z",
     "start_time": "2024-10-21T11:21:50.767398Z"
    }
   },
   "cell_type": "code",
   "source": "m[1,0]",
   "id": "76399742b251822c",
   "outputs": [
    {
     "data": {
      "text/plain": [
       "np.int64(6)"
      ]
     },
     "execution_count": 97,
     "metadata": {},
     "output_type": "execute_result"
    }
   ],
   "execution_count": 97
  },
  {
   "metadata": {
    "ExecuteTime": {
     "end_time": "2024-10-21T11:21:50.889447Z",
     "start_time": "2024-10-21T11:21:50.877259Z"
    }
   },
   "cell_type": "code",
   "source": "m[1]",
   "id": "bcd128cf4396776b",
   "outputs": [
    {
     "data": {
      "text/plain": [
       "array([6, 8])"
      ]
     },
     "execution_count": 98,
     "metadata": {},
     "output_type": "execute_result"
    }
   ],
   "execution_count": 98
  },
  {
   "metadata": {
    "ExecuteTime": {
     "end_time": "2024-10-21T11:21:51.007795Z",
     "start_time": "2024-10-21T11:21:50.993542Z"
    }
   },
   "cell_type": "code",
   "source": "m[0:2]",
   "id": "962a06ef5cb587c8",
   "outputs": [
    {
     "data": {
      "text/plain": [
       "array([[2, 5],\n",
       "       [6, 8]])"
      ]
     },
     "execution_count": 99,
     "metadata": {},
     "output_type": "execute_result"
    }
   ],
   "execution_count": 99
  },
  {
   "metadata": {
    "ExecuteTime": {
     "end_time": "2024-10-21T11:21:51.217923Z",
     "start_time": "2024-10-21T11:21:51.204328Z"
    }
   },
   "cell_type": "code",
   "source": "m[1:]",
   "id": "79d9dfd59ca984aa",
   "outputs": [
    {
     "data": {
      "text/plain": [
       "array([[6, 8],\n",
       "       [1, 3]])"
      ]
     },
     "execution_count": 100,
     "metadata": {},
     "output_type": "execute_result"
    }
   ],
   "execution_count": 100
  },
  {
   "metadata": {
    "ExecuteTime": {
     "end_time": "2024-10-21T11:21:51.441512Z",
     "start_time": "2024-10-21T11:21:51.423772Z"
    }
   },
   "cell_type": "code",
   "source": "m[::2]",
   "id": "57470c832850380b",
   "outputs": [
    {
     "data": {
      "text/plain": [
       "array([[2, 5],\n",
       "       [1, 3]])"
      ]
     },
     "execution_count": 101,
     "metadata": {},
     "output_type": "execute_result"
    }
   ],
   "execution_count": 101
  },
  {
   "metadata": {
    "ExecuteTime": {
     "end_time": "2024-10-21T11:21:51.672080Z",
     "start_time": "2024-10-21T11:21:51.660226Z"
    }
   },
   "cell_type": "code",
   "source": "m[::-1]",
   "id": "ea72f908f2284ead",
   "outputs": [
    {
     "data": {
      "text/plain": [
       "array([[1, 3],\n",
       "       [6, 8],\n",
       "       [2, 5]])"
      ]
     },
     "execution_count": 102,
     "metadata": {},
     "output_type": "execute_result"
    }
   ],
   "execution_count": 102
  },
  {
   "metadata": {
    "ExecuteTime": {
     "end_time": "2024-10-21T11:21:51.955689Z",
     "start_time": "2024-10-21T11:21:51.940964Z"
    }
   },
   "cell_type": "code",
   "source": "marks = np.array([5, 4, 3, 5, 5, 4, 3, 4])",
   "id": "416819cb8e04b96f",
   "outputs": [],
   "execution_count": 103
  },
  {
   "metadata": {
    "ExecuteTime": {
     "end_time": "2024-10-21T11:21:52.661356Z",
     "start_time": "2024-10-21T11:21:52.642877Z"
    }
   },
   "cell_type": "code",
   "source": "marks.min()",
   "id": "a947d37229f26b74",
   "outputs": [
    {
     "data": {
      "text/plain": [
       "np.int64(3)"
      ]
     },
     "execution_count": 104,
     "metadata": {},
     "output_type": "execute_result"
    }
   ],
   "execution_count": 104
  },
  {
   "metadata": {
    "ExecuteTime": {
     "end_time": "2024-10-21T11:21:52.835685Z",
     "start_time": "2024-10-21T11:21:52.825326Z"
    }
   },
   "cell_type": "code",
   "source": "marks.max()",
   "id": "bab36c1dce8f8835",
   "outputs": [
    {
     "data": {
      "text/plain": [
       "np.int64(5)"
      ]
     },
     "execution_count": 105,
     "metadata": {},
     "output_type": "execute_result"
    }
   ],
   "execution_count": 105
  },
  {
   "metadata": {
    "ExecuteTime": {
     "end_time": "2024-10-21T11:21:53.024456Z",
     "start_time": "2024-10-21T11:21:53.014384Z"
    }
   },
   "cell_type": "code",
   "source": [
    "# Выдает индекс элемента с наибольшим значением\n",
    "marks.argmax()"
   ],
   "id": "8143117d0e8d2f59",
   "outputs": [
    {
     "data": {
      "text/plain": [
       "np.int64(0)"
      ]
     },
     "execution_count": 106,
     "metadata": {},
     "output_type": "execute_result"
    }
   ],
   "execution_count": 106
  },
  {
   "metadata": {
    "ExecuteTime": {
     "end_time": "2024-10-21T11:21:53.179771Z",
     "start_time": "2024-10-21T11:21:53.168498Z"
    }
   },
   "cell_type": "code",
   "source": [
    "# Выдает индекс элемента с наименьшим значением\n",
    "marks.argmin()"
   ],
   "id": "1e21eb77aaa714d3",
   "outputs": [
    {
     "data": {
      "text/plain": [
       "np.int64(2)"
      ]
     },
     "execution_count": 107,
     "metadata": {},
     "output_type": "execute_result"
    }
   ],
   "execution_count": 107
  },
  {
   "metadata": {
    "ExecuteTime": {
     "end_time": "2024-10-21T11:22:19.938577Z",
     "start_time": "2024-10-21T11:22:19.925744Z"
    }
   },
   "cell_type": "code",
   "source": "m",
   "id": "2174bfa8d2a61281",
   "outputs": [
    {
     "data": {
      "text/plain": [
       "array([[2, 5],\n",
       "       [6, 8],\n",
       "       [1, 3]])"
      ]
     },
     "execution_count": 108,
     "metadata": {},
     "output_type": "execute_result"
    }
   ],
   "execution_count": 108
  },
  {
   "metadata": {
    "ExecuteTime": {
     "end_time": "2024-10-21T11:22:43.467591Z",
     "start_time": "2024-10-21T11:22:43.454748Z"
    }
   },
   "cell_type": "code",
   "source": "m.mean(axis = 1)",
   "id": "495dbb865039fc96",
   "outputs": [
    {
     "data": {
      "text/plain": [
       "array([3.5, 7. , 2. ])"
      ]
     },
     "execution_count": 109,
     "metadata": {},
     "output_type": "execute_result"
    }
   ],
   "execution_count": 109
  },
  {
   "metadata": {
    "ExecuteTime": {
     "end_time": "2024-10-21T11:23:01.660552Z",
     "start_time": "2024-10-21T11:23:01.650398Z"
    }
   },
   "cell_type": "code",
   "source": "m.max(axis = 1)",
   "id": "cc7930660ac4b548",
   "outputs": [
    {
     "data": {
      "text/plain": [
       "array([5, 8, 3])"
      ]
     },
     "execution_count": 110,
     "metadata": {},
     "output_type": "execute_result"
    }
   ],
   "execution_count": 110
  },
  {
   "metadata": {
    "ExecuteTime": {
     "end_time": "2024-10-21T11:23:36.044377Z",
     "start_time": "2024-10-21T11:23:36.031806Z"
    }
   },
   "cell_type": "code",
   "source": [
    "# По стобцам\n",
    "m.min(axis = 0)"
   ],
   "id": "6153769849c463b0",
   "outputs": [
    {
     "data": {
      "text/plain": [
       "array([1, 3])"
      ]
     },
     "execution_count": 111,
     "metadata": {},
     "output_type": "execute_result"
    }
   ],
   "execution_count": 111
  },
  {
   "metadata": {
    "ExecuteTime": {
     "end_time": "2024-10-21T11:25:41.864305Z",
     "start_time": "2024-10-21T11:25:41.806704Z"
    }
   },
   "cell_type": "code",
   "source": "np.arange(1, 10)",
   "id": "8d3d860cec814886",
   "outputs": [
    {
     "data": {
      "text/plain": [
       "array([1, 2, 3, 4, 5, 6, 7, 8, 9])"
      ]
     },
     "execution_count": 112,
     "metadata": {},
     "output_type": "execute_result"
    }
   ],
   "execution_count": 112
  },
  {
   "metadata": {
    "ExecuteTime": {
     "end_time": "2024-10-21T11:26:12.610095Z",
     "start_time": "2024-10-21T11:26:12.600587Z"
    }
   },
   "cell_type": "code",
   "source": "np.arange(1, 10, 2)",
   "id": "65aa91b581f3931f",
   "outputs": [
    {
     "data": {
      "text/plain": [
       "array([1, 3, 5, 7, 9])"
      ]
     },
     "execution_count": 113,
     "metadata": {},
     "output_type": "execute_result"
    }
   ],
   "execution_count": 113
  },
  {
   "metadata": {
    "ExecuteTime": {
     "end_time": "2024-10-21T11:27:21.100690Z",
     "start_time": "2024-10-21T11:27:21.090700Z"
    }
   },
   "cell_type": "code",
   "source": [
    "# Генерирует рандомные числа в заданном диапазоне\n",
    "np.linspace(50, 80, 20)"
   ],
   "id": "d342ad05a908b18e",
   "outputs": [
    {
     "data": {
      "text/plain": [
       "array([50.        , 51.57894737, 53.15789474, 54.73684211, 56.31578947,\n",
       "       57.89473684, 59.47368421, 61.05263158, 62.63157895, 64.21052632,\n",
       "       65.78947368, 67.36842105, 68.94736842, 70.52631579, 72.10526316,\n",
       "       73.68421053, 75.26315789, 76.84210526, 78.42105263, 80.        ])"
      ]
     },
     "execution_count": 114,
     "metadata": {},
     "output_type": "execute_result"
    }
   ],
   "execution_count": 114
  },
  {
   "metadata": {
    "ExecuteTime": {
     "end_time": "2024-10-21T11:29:14.681973Z",
     "start_time": "2024-10-21T11:29:14.611736Z"
    }
   },
   "cell_type": "code",
   "source": "np.zeros((3,3))",
   "id": "35f224f83d308814",
   "outputs": [
    {
     "data": {
      "text/plain": [
       "array([[0., 0., 0.],\n",
       "       [0., 0., 0.],\n",
       "       [0., 0., 0.]])"
      ]
     },
     "execution_count": 115,
     "metadata": {},
     "output_type": "execute_result"
    }
   ],
   "execution_count": 115
  },
  {
   "metadata": {
    "ExecuteTime": {
     "end_time": "2024-10-21T11:30:13.516914Z",
     "start_time": "2024-10-21T11:30:13.506131Z"
    }
   },
   "cell_type": "code",
   "source": "np.ones((4,2))",
   "id": "4d235e044ee8808a",
   "outputs": [
    {
     "data": {
      "text/plain": [
       "array([[1., 1.],\n",
       "       [1., 1.],\n",
       "       [1., 1.],\n",
       "       [1., 1.]])"
      ]
     },
     "execution_count": 117,
     "metadata": {},
     "output_type": "execute_result"
    }
   ],
   "execution_count": 117
  },
  {
   "metadata": {
    "ExecuteTime": {
     "end_time": "2024-10-21T11:30:37.047066Z",
     "start_time": "2024-10-21T11:30:37.035682Z"
    }
   },
   "cell_type": "code",
   "source": "np.eye(5)",
   "id": "63dc87fbee1e722a",
   "outputs": [
    {
     "data": {
      "text/plain": [
       "array([[1., 0., 0., 0., 0.],\n",
       "       [0., 1., 0., 0., 0.],\n",
       "       [0., 0., 1., 0., 0.],\n",
       "       [0., 0., 0., 1., 0.],\n",
       "       [0., 0., 0., 0., 1.]])"
      ]
     },
     "execution_count": 118,
     "metadata": {},
     "output_type": "execute_result"
    }
   ],
   "execution_count": 118
  },
  {
   "metadata": {
    "ExecuteTime": {
     "end_time": "2024-10-21T11:33:31.878274Z",
     "start_time": "2024-10-21T11:33:31.844731Z"
    }
   },
   "cell_type": "code",
   "source": [
    "ages = np.array(([15, 23, 32, 45, 52],\n",
    "                 [58, 34, 55, 78, 20],\n",
    "                 [25, 67, 33, 45, 14]))\n",
    "\n",
    "ages"
   ],
   "id": "c901d7250d387dc6",
   "outputs": [
    {
     "data": {
      "text/plain": [
       "array([[15, 23, 32, 45, 52],\n",
       "       [58, 34, 55, 78, 20],\n",
       "       [25, 67, 33, 45, 14]])"
      ]
     },
     "execution_count": 119,
     "metadata": {},
     "output_type": "execute_result"
    }
   ],
   "execution_count": 119
  },
  {
   "metadata": {
    "ExecuteTime": {
     "end_time": "2024-10-21T11:34:02.183073Z",
     "start_time": "2024-10-21T11:34:02.165531Z"
    }
   },
   "cell_type": "code",
   "source": "ages > 20",
   "id": "ba9ee726b2f27e73",
   "outputs": [
    {
     "data": {
      "text/plain": [
       "array([[False,  True,  True,  True,  True],\n",
       "       [ True,  True,  True,  True, False],\n",
       "       [ True,  True,  True,  True, False]])"
      ]
     },
     "execution_count": 120,
     "metadata": {},
     "output_type": "execute_result"
    }
   ],
   "execution_count": 120
  },
  {
   "metadata": {
    "ExecuteTime": {
     "end_time": "2024-10-21T11:36:21.555747Z",
     "start_time": "2024-10-21T11:36:21.524451Z"
    }
   },
   "cell_type": "code",
   "source": [
    "new_arr = (ages > 17) & (ages < 60)\n",
    "new_arr"
   ],
   "id": "fdc839b02aaaf60b",
   "outputs": [
    {
     "data": {
      "text/plain": [
       "array([[False,  True,  True,  True,  True],\n",
       "       [ True,  True,  True, False,  True],\n",
       "       [ True, False,  True,  True, False]])"
      ]
     },
     "execution_count": 123,
     "metadata": {},
     "output_type": "execute_result"
    }
   ],
   "execution_count": 123
  },
  {
   "metadata": {
    "ExecuteTime": {
     "end_time": "2024-10-21T11:36:47.503826Z",
     "start_time": "2024-10-21T11:36:47.485951Z"
    }
   },
   "cell_type": "code",
   "source": "new_arr.sum()",
   "id": "4461af2ebcd043ab",
   "outputs": [
    {
     "data": {
      "text/plain": [
       "np.int64(11)"
      ]
     },
     "execution_count": 124,
     "metadata": {},
     "output_type": "execute_result"
    }
   ],
   "execution_count": 124
  }
 ],
 "metadata": {
  "kernelspec": {
   "display_name": "Python 3",
   "language": "python",
   "name": "python3"
  },
  "language_info": {
   "codemirror_mode": {
    "name": "ipython",
    "version": 2
   },
   "file_extension": ".py",
   "mimetype": "text/x-python",
   "name": "python",
   "nbconvert_exporter": "python",
   "pygments_lexer": "ipython2",
   "version": "2.7.6"
  }
 },
 "nbformat": 4,
 "nbformat_minor": 5
}
