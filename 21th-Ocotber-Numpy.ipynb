{
 "cells": [
  {
   "metadata": {},
   "cell_type": "markdown",
   "source": "# NumPy",
   "id": "5c2b4427c59de69f"
  },
  {
   "metadata": {
    "ExecuteTime": {
     "end_time": "2024-10-21T11:41:04.000231Z",
     "start_time": "2024-10-21T11:41:03.986832Z"
    }
   },
   "cell_type": "code",
   "source": "import numpy as np",
   "id": "9203ce34e4b3edd7",
   "outputs": [],
   "execution_count": 127
  },
  {
   "metadata": {
    "ExecuteTime": {
     "end_time": "2024-10-21T11:41:04.057864Z",
     "start_time": "2024-10-21T11:41:04.043236Z"
    }
   },
   "cell_type": "code",
   "source": "np.sqrt(16)",
   "id": "31dddf891a3892da",
   "outputs": [
    {
     "data": {
      "text/plain": [
       "np.float64(4.0)"
      ]
     },
     "execution_count": 128,
     "metadata": {},
     "output_type": "execute_result"
    }
   ],
   "execution_count": 128
  },
  {
   "metadata": {
    "ExecuteTime": {
     "end_time": "2024-10-21T11:41:04.126958Z",
     "start_time": "2024-10-21T11:41:04.115646Z"
    }
   },
   "cell_type": "code",
   "source": "np.log(4)",
   "id": "1ee835afb167c75f",
   "outputs": [
    {
     "data": {
      "text/plain": [
       "np.float64(1.3862943611198906)"
      ]
     },
     "execution_count": 129,
     "metadata": {},
     "output_type": "execute_result"
    }
   ],
   "execution_count": 129
  },
  {
   "metadata": {
    "ExecuteTime": {
     "end_time": "2024-10-21T11:41:04.372521Z",
     "start_time": "2024-10-21T11:41:04.360951Z"
    }
   },
   "cell_type": "code",
   "source": "np.mean([20, 40, 30, 450, 45, 30])",
   "id": "5360938f6c21d6a4",
   "outputs": [
    {
     "data": {
      "text/plain": [
       "np.float64(102.5)"
      ]
     },
     "execution_count": 130,
     "metadata": {},
     "output_type": "execute_result"
    }
   ],
   "execution_count": 130
  },
  {
   "metadata": {
    "ExecuteTime": {
     "end_time": "2024-10-21T11:41:04.543297Z",
     "start_time": "2024-10-21T11:41:04.531491Z"
    }
   },
   "cell_type": "code",
   "source": "np.median([20, 40, 30, 450, 45, 30])",
   "id": "c81f4ff1a7790bdc",
   "outputs": [
    {
     "data": {
      "text/plain": [
       "np.float64(35.0)"
      ]
     },
     "execution_count": 131,
     "metadata": {},
     "output_type": "execute_result"
    }
   ],
   "execution_count": 131
  },
  {
   "metadata": {
    "ExecuteTime": {
     "end_time": "2024-10-21T11:41:05.069286Z",
     "start_time": "2024-10-21T11:41:05.059405Z"
    }
   },
   "cell_type": "code",
   "source": "np.array([[2, 3, 4], [1, 2, 3.0]])",
   "id": "d7cd9ae3ba4f299d",
   "outputs": [
    {
     "data": {
      "text/plain": [
       "array([[2., 3., 4.],\n",
       "       [1., 2., 3.]])"
      ]
     },
     "execution_count": 132,
     "metadata": {},
     "output_type": "execute_result"
    }
   ],
   "execution_count": 132
  },
  {
   "metadata": {
    "ExecuteTime": {
     "end_time": "2024-10-21T11:41:05.521199Z",
     "start_time": "2024-10-21T11:41:05.511220Z"
    }
   },
   "cell_type": "code",
   "source": "np.array([[2, 3, '4'], [1, 2, 3.0]])",
   "id": "ec1c758929e3034b",
   "outputs": [
    {
     "data": {
      "text/plain": [
       "array([['2', '3', '4'],\n",
       "       ['1', '2', '3.0']], dtype='<U32')"
      ]
     },
     "execution_count": 133,
     "metadata": {},
     "output_type": "execute_result"
    }
   ],
   "execution_count": 133
  },
  {
   "metadata": {
    "ExecuteTime": {
     "end_time": "2024-10-21T11:41:05.682800Z",
     "start_time": "2024-10-21T11:41:05.670070Z"
    }
   },
   "cell_type": "code",
   "source": "np.array([2, 3, 4])**2",
   "id": "5f5b3937300ec3fa",
   "outputs": [
    {
     "data": {
      "text/plain": [
       "array([ 4,  9, 16])"
      ]
     },
     "execution_count": 134,
     "metadata": {},
     "output_type": "execute_result"
    }
   ],
   "execution_count": 134
  },
  {
   "metadata": {
    "ExecuteTime": {
     "end_time": "2024-10-21T11:41:05.924754Z",
     "start_time": "2024-10-21T11:41:05.917263Z"
    }
   },
   "cell_type": "code",
   "source": "np.array([2, 3, 4])*100",
   "id": "669441d7c1c51dc1",
   "outputs": [
    {
     "data": {
      "text/plain": [
       "array([200, 300, 400])"
      ]
     },
     "execution_count": 135,
     "metadata": {},
     "output_type": "execute_result"
    }
   ],
   "execution_count": 135
  },
  {
   "metadata": {
    "ExecuteTime": {
     "end_time": "2024-10-21T11:41:06.109996Z",
     "start_time": "2024-10-21T11:41:06.097918Z"
    }
   },
   "cell_type": "code",
   "source": "np.array([2, 3, 4]) + np.array([7, 12, 8])",
   "id": "f0beee52df52e668",
   "outputs": [
    {
     "data": {
      "text/plain": [
       "array([ 9, 15, 12])"
      ]
     },
     "execution_count": 136,
     "metadata": {},
     "output_type": "execute_result"
    }
   ],
   "execution_count": 136
  },
  {
   "metadata": {
    "ExecuteTime": {
     "end_time": "2024-10-21T11:41:06.247206Z",
     "start_time": "2024-10-21T11:41:06.239404Z"
    }
   },
   "cell_type": "code",
   "source": "(np.array([2, 3, 4]) + np.array([7, 12, 8])) / 2",
   "id": "95560a892e96db4a",
   "outputs": [
    {
     "data": {
      "text/plain": [
       "array([4.5, 7.5, 6. ])"
      ]
     },
     "execution_count": 137,
     "metadata": {},
     "output_type": "execute_result"
    }
   ],
   "execution_count": 137
  },
  {
   "metadata": {
    "ExecuteTime": {
     "end_time": "2024-10-21T11:41:06.376468Z",
     "start_time": "2024-10-21T11:41:06.367430Z"
    }
   },
   "cell_type": "code",
   "source": [
    "m = np.array([[2, 5], \n",
    "              [6, 8],\n",
    "              [1, 3]])"
   ],
   "id": "a9b22e765eaec0b1",
   "outputs": [],
   "execution_count": 138
  },
  {
   "metadata": {
    "ExecuteTime": {
     "end_time": "2024-10-21T11:41:06.469871Z",
     "start_time": "2024-10-21T11:41:06.456593Z"
    }
   },
   "cell_type": "code",
   "source": [
    "# Количество измерений\n",
    "m.ndim"
   ],
   "id": "10b7338af35e83b2",
   "outputs": [
    {
     "data": {
      "text/plain": [
       "2"
      ]
     },
     "execution_count": 139,
     "metadata": {},
     "output_type": "execute_result"
    }
   ],
   "execution_count": 139
  },
  {
   "metadata": {
    "ExecuteTime": {
     "end_time": "2024-10-21T11:41:06.654738Z",
     "start_time": "2024-10-21T11:41:06.645039Z"
    }
   },
   "cell_type": "code",
   "source": [
    "# Форма массива\n",
    "m.shape"
   ],
   "id": "fb9171b49e170077",
   "outputs": [
    {
     "data": {
      "text/plain": [
       "(3, 2)"
      ]
     },
     "execution_count": 140,
     "metadata": {},
     "output_type": "execute_result"
    }
   ],
   "execution_count": 140
  },
  {
   "metadata": {
    "ExecuteTime": {
     "end_time": "2024-10-21T11:41:06.798560Z",
     "start_time": "2024-10-21T11:41:06.789127Z"
    }
   },
   "cell_type": "code",
   "source": [
    "# Размер массива\n",
    "m.size"
   ],
   "id": "ce641a2cc08a2a0d",
   "outputs": [
    {
     "data": {
      "text/plain": [
       "6"
      ]
     },
     "execution_count": 141,
     "metadata": {},
     "output_type": "execute_result"
    }
   ],
   "execution_count": 141
  },
  {
   "metadata": {
    "ExecuteTime": {
     "end_time": "2024-10-21T11:41:06.971759Z",
     "start_time": "2024-10-21T11:41:06.964850Z"
    }
   },
   "cell_type": "code",
   "source": "m[1][0]",
   "id": "a2bb2f5f2cf7405",
   "outputs": [
    {
     "data": {
      "text/plain": [
       "np.int64(6)"
      ]
     },
     "execution_count": 142,
     "metadata": {},
     "output_type": "execute_result"
    }
   ],
   "execution_count": 142
  },
  {
   "metadata": {
    "ExecuteTime": {
     "end_time": "2024-10-21T11:41:07.103574Z",
     "start_time": "2024-10-21T11:41:07.093865Z"
    }
   },
   "cell_type": "code",
   "source": "m[1,0]",
   "id": "76399742b251822c",
   "outputs": [
    {
     "data": {
      "text/plain": [
       "np.int64(6)"
      ]
     },
     "execution_count": 143,
     "metadata": {},
     "output_type": "execute_result"
    }
   ],
   "execution_count": 143
  },
  {
   "metadata": {
    "ExecuteTime": {
     "end_time": "2024-10-21T11:41:07.246355Z",
     "start_time": "2024-10-21T11:41:07.235672Z"
    }
   },
   "cell_type": "code",
   "source": "m[1]",
   "id": "bcd128cf4396776b",
   "outputs": [
    {
     "data": {
      "text/plain": [
       "array([6, 8])"
      ]
     },
     "execution_count": 144,
     "metadata": {},
     "output_type": "execute_result"
    }
   ],
   "execution_count": 144
  },
  {
   "metadata": {
    "ExecuteTime": {
     "end_time": "2024-10-21T11:41:07.371685Z",
     "start_time": "2024-10-21T11:41:07.361203Z"
    }
   },
   "cell_type": "code",
   "source": "m[0:2]",
   "id": "962a06ef5cb587c8",
   "outputs": [
    {
     "data": {
      "text/plain": [
       "array([[2, 5],\n",
       "       [6, 8]])"
      ]
     },
     "execution_count": 145,
     "metadata": {},
     "output_type": "execute_result"
    }
   ],
   "execution_count": 145
  },
  {
   "metadata": {
    "ExecuteTime": {
     "end_time": "2024-10-21T11:41:07.593026Z",
     "start_time": "2024-10-21T11:41:07.581334Z"
    }
   },
   "cell_type": "code",
   "source": "m[1:]",
   "id": "79d9dfd59ca984aa",
   "outputs": [
    {
     "data": {
      "text/plain": [
       "array([[6, 8],\n",
       "       [1, 3]])"
      ]
     },
     "execution_count": 146,
     "metadata": {},
     "output_type": "execute_result"
    }
   ],
   "execution_count": 146
  },
  {
   "metadata": {
    "ExecuteTime": {
     "end_time": "2024-10-21T11:41:07.826231Z",
     "start_time": "2024-10-21T11:41:07.815426Z"
    }
   },
   "cell_type": "code",
   "source": "m[::2]",
   "id": "57470c832850380b",
   "outputs": [
    {
     "data": {
      "text/plain": [
       "array([[2, 5],\n",
       "       [1, 3]])"
      ]
     },
     "execution_count": 147,
     "metadata": {},
     "output_type": "execute_result"
    }
   ],
   "execution_count": 147
  },
  {
   "metadata": {
    "ExecuteTime": {
     "end_time": "2024-10-21T11:41:08.170439Z",
     "start_time": "2024-10-21T11:41:08.161517Z"
    }
   },
   "cell_type": "code",
   "source": "m[::-1]",
   "id": "ea72f908f2284ead",
   "outputs": [
    {
     "data": {
      "text/plain": [
       "array([[1, 3],\n",
       "       [6, 8],\n",
       "       [2, 5]])"
      ]
     },
     "execution_count": 148,
     "metadata": {},
     "output_type": "execute_result"
    }
   ],
   "execution_count": 148
  },
  {
   "metadata": {
    "ExecuteTime": {
     "end_time": "2024-10-21T11:41:08.500757Z",
     "start_time": "2024-10-21T11:41:08.494090Z"
    }
   },
   "cell_type": "code",
   "source": "marks = np.array([5, 4, 3, 5, 5, 4, 3, 4])",
   "id": "416819cb8e04b96f",
   "outputs": [],
   "execution_count": 149
  },
  {
   "metadata": {
    "ExecuteTime": {
     "end_time": "2024-10-21T11:41:08.693230Z",
     "start_time": "2024-10-21T11:41:08.674727Z"
    }
   },
   "cell_type": "code",
   "source": "marks.min()",
   "id": "a947d37229f26b74",
   "outputs": [
    {
     "data": {
      "text/plain": [
       "np.int64(3)"
      ]
     },
     "execution_count": 150,
     "metadata": {},
     "output_type": "execute_result"
    }
   ],
   "execution_count": 150
  },
  {
   "metadata": {
    "ExecuteTime": {
     "end_time": "2024-10-21T11:41:08.887156Z",
     "start_time": "2024-10-21T11:41:08.870834Z"
    }
   },
   "cell_type": "code",
   "source": "marks.max()",
   "id": "bab36c1dce8f8835",
   "outputs": [
    {
     "data": {
      "text/plain": [
       "np.int64(5)"
      ]
     },
     "execution_count": 151,
     "metadata": {},
     "output_type": "execute_result"
    }
   ],
   "execution_count": 151
  },
  {
   "metadata": {
    "ExecuteTime": {
     "end_time": "2024-10-21T11:41:09.032837Z",
     "start_time": "2024-10-21T11:41:09.023470Z"
    }
   },
   "cell_type": "code",
   "source": [
    "# Выдает индекс элемента с наибольшим значением\n",
    "marks.argmax()"
   ],
   "id": "8143117d0e8d2f59",
   "outputs": [
    {
     "data": {
      "text/plain": [
       "np.int64(0)"
      ]
     },
     "execution_count": 152,
     "metadata": {},
     "output_type": "execute_result"
    }
   ],
   "execution_count": 152
  },
  {
   "metadata": {
    "ExecuteTime": {
     "end_time": "2024-10-21T11:41:09.230204Z",
     "start_time": "2024-10-21T11:41:09.217764Z"
    }
   },
   "cell_type": "code",
   "source": [
    "# Выдает индекс элемента с наименьшим значением\n",
    "marks.argmin()"
   ],
   "id": "1e21eb77aaa714d3",
   "outputs": [
    {
     "data": {
      "text/plain": [
       "np.int64(2)"
      ]
     },
     "execution_count": 153,
     "metadata": {},
     "output_type": "execute_result"
    }
   ],
   "execution_count": 153
  },
  {
   "metadata": {
    "ExecuteTime": {
     "end_time": "2024-10-21T11:41:09.401007Z",
     "start_time": "2024-10-21T11:41:09.391947Z"
    }
   },
   "cell_type": "code",
   "source": "m",
   "id": "2174bfa8d2a61281",
   "outputs": [
    {
     "data": {
      "text/plain": [
       "array([[2, 5],\n",
       "       [6, 8],\n",
       "       [1, 3]])"
      ]
     },
     "execution_count": 154,
     "metadata": {},
     "output_type": "execute_result"
    }
   ],
   "execution_count": 154
  },
  {
   "metadata": {
    "ExecuteTime": {
     "end_time": "2024-10-21T11:41:09.547013Z",
     "start_time": "2024-10-21T11:41:09.534676Z"
    }
   },
   "cell_type": "code",
   "source": "m.mean(axis = 1)",
   "id": "495dbb865039fc96",
   "outputs": [
    {
     "data": {
      "text/plain": [
       "array([3.5, 7. , 2. ])"
      ]
     },
     "execution_count": 155,
     "metadata": {},
     "output_type": "execute_result"
    }
   ],
   "execution_count": 155
  },
  {
   "metadata": {
    "ExecuteTime": {
     "end_time": "2024-10-21T11:41:09.742463Z",
     "start_time": "2024-10-21T11:41:09.734332Z"
    }
   },
   "cell_type": "code",
   "source": "m.max(axis = 1)",
   "id": "cc7930660ac4b548",
   "outputs": [
    {
     "data": {
      "text/plain": [
       "array([5, 8, 3])"
      ]
     },
     "execution_count": 156,
     "metadata": {},
     "output_type": "execute_result"
    }
   ],
   "execution_count": 156
  },
  {
   "metadata": {
    "ExecuteTime": {
     "end_time": "2024-10-21T11:41:09.858274Z",
     "start_time": "2024-10-21T11:41:09.850164Z"
    }
   },
   "cell_type": "code",
   "source": [
    "# По стобцам\n",
    "m.min(axis = 0)"
   ],
   "id": "6153769849c463b0",
   "outputs": [
    {
     "data": {
      "text/plain": [
       "array([1, 3])"
      ]
     },
     "execution_count": 157,
     "metadata": {},
     "output_type": "execute_result"
    }
   ],
   "execution_count": 157
  },
  {
   "metadata": {
    "ExecuteTime": {
     "end_time": "2024-10-21T11:41:10.012586Z",
     "start_time": "2024-10-21T11:41:10.002534Z"
    }
   },
   "cell_type": "code",
   "source": "np.arange(1, 10)",
   "id": "8d3d860cec814886",
   "outputs": [
    {
     "data": {
      "text/plain": [
       "array([1, 2, 3, 4, 5, 6, 7, 8, 9])"
      ]
     },
     "execution_count": 158,
     "metadata": {},
     "output_type": "execute_result"
    }
   ],
   "execution_count": 158
  },
  {
   "metadata": {
    "ExecuteTime": {
     "end_time": "2024-10-21T11:41:10.185250Z",
     "start_time": "2024-10-21T11:41:10.173965Z"
    }
   },
   "cell_type": "code",
   "source": "np.arange(1, 10, 2)",
   "id": "65aa91b581f3931f",
   "outputs": [
    {
     "data": {
      "text/plain": [
       "array([1, 3, 5, 7, 9])"
      ]
     },
     "execution_count": 159,
     "metadata": {},
     "output_type": "execute_result"
    }
   ],
   "execution_count": 159
  },
  {
   "metadata": {
    "ExecuteTime": {
     "end_time": "2024-10-21T11:41:10.319053Z",
     "start_time": "2024-10-21T11:41:10.302479Z"
    }
   },
   "cell_type": "code",
   "source": [
    "# Генерирует рандомные числа в заданном диапазоне\n",
    "np.linspace(50, 80, 20)"
   ],
   "id": "d342ad05a908b18e",
   "outputs": [
    {
     "data": {
      "text/plain": [
       "array([50.        , 51.57894737, 53.15789474, 54.73684211, 56.31578947,\n",
       "       57.89473684, 59.47368421, 61.05263158, 62.63157895, 64.21052632,\n",
       "       65.78947368, 67.36842105, 68.94736842, 70.52631579, 72.10526316,\n",
       "       73.68421053, 75.26315789, 76.84210526, 78.42105263, 80.        ])"
      ]
     },
     "execution_count": 160,
     "metadata": {},
     "output_type": "execute_result"
    }
   ],
   "execution_count": 160
  },
  {
   "metadata": {
    "ExecuteTime": {
     "end_time": "2024-10-21T11:41:10.486483Z",
     "start_time": "2024-10-21T11:41:10.475358Z"
    }
   },
   "cell_type": "code",
   "source": "np.zeros((3,3))",
   "id": "35f224f83d308814",
   "outputs": [
    {
     "data": {
      "text/plain": [
       "array([[0., 0., 0.],\n",
       "       [0., 0., 0.],\n",
       "       [0., 0., 0.]])"
      ]
     },
     "execution_count": 161,
     "metadata": {},
     "output_type": "execute_result"
    }
   ],
   "execution_count": 161
  },
  {
   "metadata": {
    "ExecuteTime": {
     "end_time": "2024-10-21T11:41:10.759257Z",
     "start_time": "2024-10-21T11:41:10.746804Z"
    }
   },
   "cell_type": "code",
   "source": "np.ones((4,2))",
   "id": "4d235e044ee8808a",
   "outputs": [
    {
     "data": {
      "text/plain": [
       "array([[1., 1.],\n",
       "       [1., 1.],\n",
       "       [1., 1.],\n",
       "       [1., 1.]])"
      ]
     },
     "execution_count": 162,
     "metadata": {},
     "output_type": "execute_result"
    }
   ],
   "execution_count": 162
  },
  {
   "metadata": {
    "ExecuteTime": {
     "end_time": "2024-10-21T11:41:10.993415Z",
     "start_time": "2024-10-21T11:41:10.980843Z"
    }
   },
   "cell_type": "code",
   "source": "np.eye(5)",
   "id": "63dc87fbee1e722a",
   "outputs": [
    {
     "data": {
      "text/plain": [
       "array([[1., 0., 0., 0., 0.],\n",
       "       [0., 1., 0., 0., 0.],\n",
       "       [0., 0., 1., 0., 0.],\n",
       "       [0., 0., 0., 1., 0.],\n",
       "       [0., 0., 0., 0., 1.]])"
      ]
     },
     "execution_count": 163,
     "metadata": {},
     "output_type": "execute_result"
    }
   ],
   "execution_count": 163
  },
  {
   "metadata": {
    "ExecuteTime": {
     "end_time": "2024-10-21T11:41:11.325408Z",
     "start_time": "2024-10-21T11:41:11.312977Z"
    }
   },
   "cell_type": "code",
   "source": [
    "ages = np.array(([15, 23, 32, 45, 52],\n",
    "                 [58, 34, 55, 78, 20],\n",
    "                 [25, 67, 33, 45, 14]))\n",
    "\n",
    "ages"
   ],
   "id": "c901d7250d387dc6",
   "outputs": [
    {
     "data": {
      "text/plain": [
       "array([[15, 23, 32, 45, 52],\n",
       "       [58, 34, 55, 78, 20],\n",
       "       [25, 67, 33, 45, 14]])"
      ]
     },
     "execution_count": 164,
     "metadata": {},
     "output_type": "execute_result"
    }
   ],
   "execution_count": 164
  },
  {
   "metadata": {
    "ExecuteTime": {
     "end_time": "2024-10-21T11:41:11.648003Z",
     "start_time": "2024-10-21T11:41:11.637416Z"
    }
   },
   "cell_type": "code",
   "source": "ages > 20",
   "id": "ba9ee726b2f27e73",
   "outputs": [
    {
     "data": {
      "text/plain": [
       "array([[False,  True,  True,  True,  True],\n",
       "       [ True,  True,  True,  True, False],\n",
       "       [ True,  True,  True,  True, False]])"
      ]
     },
     "execution_count": 165,
     "metadata": {},
     "output_type": "execute_result"
    }
   ],
   "execution_count": 165
  },
  {
   "metadata": {
    "ExecuteTime": {
     "end_time": "2024-10-21T11:41:11.952351Z",
     "start_time": "2024-10-21T11:41:11.942715Z"
    }
   },
   "cell_type": "code",
   "source": [
    "new_arr = (ages > 17) & (ages < 60)\n",
    "new_arr"
   ],
   "id": "fdc839b02aaaf60b",
   "outputs": [
    {
     "data": {
      "text/plain": [
       "array([[False,  True,  True,  True,  True],\n",
       "       [ True,  True,  True, False,  True],\n",
       "       [ True, False,  True,  True, False]])"
      ]
     },
     "execution_count": 166,
     "metadata": {},
     "output_type": "execute_result"
    }
   ],
   "execution_count": 166
  },
  {
   "metadata": {
    "ExecuteTime": {
     "end_time": "2024-10-21T11:41:12.334093Z",
     "start_time": "2024-10-21T11:41:12.324860Z"
    }
   },
   "cell_type": "code",
   "source": "new_arr.sum()",
   "id": "4461af2ebcd043ab",
   "outputs": [
    {
     "data": {
      "text/plain": [
       "np.int64(11)"
      ]
     },
     "execution_count": 167,
     "metadata": {},
     "output_type": "execute_result"
    }
   ],
   "execution_count": 167
  },
  {
   "metadata": {
    "ExecuteTime": {
     "end_time": "2024-10-21T11:41:12.735942Z",
     "start_time": "2024-10-21T11:41:12.721706Z"
    }
   },
   "cell_type": "code",
   "source": [
    "new_arr = ages[(ages > 17) & (ages < 60)]\n",
    "new_arr"
   ],
   "id": "11d7501c8cc7b596",
   "outputs": [
    {
     "data": {
      "text/plain": [
       "array([23, 32, 45, 52, 58, 34, 55, 20, 25, 33, 45])"
      ]
     },
     "execution_count": 168,
     "metadata": {},
     "output_type": "execute_result"
    }
   ],
   "execution_count": 168
  },
  {
   "metadata": {
    "ExecuteTime": {
     "end_time": "2024-10-21T11:45:16.198389Z",
     "start_time": "2024-10-21T11:45:16.173473Z"
    }
   },
   "cell_type": "code",
   "source": [
    "new_arr.reshape(5, 2)\n",
    "new_arr.flatten()"
   ],
   "id": "3d4d2d36e9ae3ebc",
   "outputs": [
    {
     "ename": "AttributeError",
     "evalue": "'numpy.ndarray' object has no attribute 'remove'",
     "output_type": "error",
     "traceback": [
      "\u001B[0;31m---------------------------------------------------------------------------\u001B[0m",
      "\u001B[0;31mAttributeError\u001B[0m                            Traceback (most recent call last)",
      "Cell \u001B[0;32mIn[177], line 1\u001B[0m\n\u001B[0;32m----> 1\u001B[0m \u001B[43mnew_arr\u001B[49m\u001B[38;5;241;43m.\u001B[39;49m\u001B[43mremove\u001B[49m(\u001B[38;5;241m0\u001B[39m)\n\u001B[1;32m      2\u001B[0m new_arr\u001B[38;5;241m.\u001B[39mreshape(\u001B[38;5;241m5\u001B[39m, \u001B[38;5;241m2\u001B[39m)\n",
      "\u001B[0;31mAttributeError\u001B[0m: 'numpy.ndarray' object has no attribute 'remove'"
     ]
    }
   ],
   "execution_count": 177
  },
  {
   "metadata": {
    "ExecuteTime": {
     "end_time": "2024-10-21T11:47:04.361092Z",
     "start_time": "2024-10-21T11:47:04.350100Z"
    }
   },
   "cell_type": "code",
   "source": "new_arr.transpose()",
   "id": "eb1a192fcbd204ae",
   "outputs": [
    {
     "name": "stdout",
     "output_type": "stream",
     "text": [
      "[23 32 45 52 58 34 55 20 25 33 45]\n"
     ]
    },
    {
     "data": {
      "text/plain": [
       "array([23, 32, 45, 52, 58, 34, 55, 20, 25, 33, 45])"
      ]
     },
     "execution_count": 179,
     "metadata": {},
     "output_type": "execute_result"
    }
   ],
   "execution_count": 179
  },
  {
   "metadata": {
    "ExecuteTime": {
     "end_time": "2024-10-21T11:47:31.354526Z",
     "start_time": "2024-10-21T11:47:31.343167Z"
    }
   },
   "cell_type": "code",
   "source": "new_arr.T",
   "id": "66cca19c8f753b61",
   "outputs": [
    {
     "data": {
      "text/plain": [
       "array([23, 32, 45, 52, 58, 34, 55, 20, 25, 33, 45])"
      ]
     },
     "execution_count": 180,
     "metadata": {},
     "output_type": "execute_result"
    }
   ],
   "execution_count": 180
  }
 ],
 "metadata": {
  "kernelspec": {
   "display_name": "Python 3",
   "language": "python",
   "name": "python3"
  },
  "language_info": {
   "codemirror_mode": {
    "name": "ipython",
    "version": 2
   },
   "file_extension": ".py",
   "mimetype": "text/x-python",
   "name": "python",
   "nbconvert_exporter": "python",
   "pygments_lexer": "ipython2",
   "version": "2.7.6"
  }
 },
 "nbformat": 4,
 "nbformat_minor": 5
}
