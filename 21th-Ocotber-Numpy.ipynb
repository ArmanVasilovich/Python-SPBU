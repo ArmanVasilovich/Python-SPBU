{
 "cells": [
  {
   "metadata": {},
   "cell_type": "markdown",
   "source": "# NumPy",
   "id": "5c2b4427c59de69f"
  },
  {
   "metadata": {
    "ExecuteTime": {
     "end_time": "2024-10-21T11:51:46.164873Z",
     "start_time": "2024-10-21T11:51:46.125008Z"
    }
   },
   "cell_type": "code",
   "source": "import numpy as np",
   "id": "9203ce34e4b3edd7",
   "outputs": [],
   "execution_count": 181
  },
  {
   "metadata": {
    "ExecuteTime": {
     "end_time": "2024-10-21T11:51:46.318127Z",
     "start_time": "2024-10-21T11:51:46.301032Z"
    }
   },
   "cell_type": "code",
   "source": "np.sqrt(16)",
   "id": "31dddf891a3892da",
   "outputs": [
    {
     "data": {
      "text/plain": [
       "np.float64(4.0)"
      ]
     },
     "execution_count": 182,
     "metadata": {},
     "output_type": "execute_result"
    }
   ],
   "execution_count": 182
  },
  {
   "metadata": {
    "ExecuteTime": {
     "end_time": "2024-10-21T11:51:46.516128Z",
     "start_time": "2024-10-21T11:51:46.504746Z"
    }
   },
   "cell_type": "code",
   "source": "np.log(4)",
   "id": "1ee835afb167c75f",
   "outputs": [
    {
     "data": {
      "text/plain": [
       "np.float64(1.3862943611198906)"
      ]
     },
     "execution_count": 183,
     "metadata": {},
     "output_type": "execute_result"
    }
   ],
   "execution_count": 183
  },
  {
   "metadata": {
    "ExecuteTime": {
     "end_time": "2024-10-21T11:51:46.705254Z",
     "start_time": "2024-10-21T11:51:46.694601Z"
    }
   },
   "cell_type": "code",
   "source": "np.mean([20, 40, 30, 450, 45, 30])",
   "id": "5360938f6c21d6a4",
   "outputs": [
    {
     "data": {
      "text/plain": [
       "np.float64(102.5)"
      ]
     },
     "execution_count": 184,
     "metadata": {},
     "output_type": "execute_result"
    }
   ],
   "execution_count": 184
  },
  {
   "metadata": {
    "ExecuteTime": {
     "end_time": "2024-10-21T11:51:46.927389Z",
     "start_time": "2024-10-21T11:51:46.915416Z"
    }
   },
   "cell_type": "code",
   "source": "np.median([20, 40, 30, 450, 45, 30])",
   "id": "c81f4ff1a7790bdc",
   "outputs": [
    {
     "data": {
      "text/plain": [
       "np.float64(35.0)"
      ]
     },
     "execution_count": 185,
     "metadata": {},
     "output_type": "execute_result"
    }
   ],
   "execution_count": 185
  },
  {
   "metadata": {
    "ExecuteTime": {
     "end_time": "2024-10-21T11:51:47.238861Z",
     "start_time": "2024-10-21T11:51:47.224617Z"
    }
   },
   "cell_type": "code",
   "source": "np.array([[2, 3, 4], [1, 2, 3.0]])",
   "id": "d7cd9ae3ba4f299d",
   "outputs": [
    {
     "data": {
      "text/plain": [
       "array([[2., 3., 4.],\n",
       "       [1., 2., 3.]])"
      ]
     },
     "execution_count": 186,
     "metadata": {},
     "output_type": "execute_result"
    }
   ],
   "execution_count": 186
  },
  {
   "metadata": {
    "ExecuteTime": {
     "end_time": "2024-10-21T11:51:47.624828Z",
     "start_time": "2024-10-21T11:51:47.609228Z"
    }
   },
   "cell_type": "code",
   "source": "np.array([[2, 3, '4'], [1, 2, 3.0]])",
   "id": "ec1c758929e3034b",
   "outputs": [
    {
     "data": {
      "text/plain": [
       "array([['2', '3', '4'],\n",
       "       ['1', '2', '3.0']], dtype='<U32')"
      ]
     },
     "execution_count": 187,
     "metadata": {},
     "output_type": "execute_result"
    }
   ],
   "execution_count": 187
  },
  {
   "metadata": {
    "ExecuteTime": {
     "end_time": "2024-10-21T11:51:47.987694Z",
     "start_time": "2024-10-21T11:51:47.976809Z"
    }
   },
   "cell_type": "code",
   "source": "np.array([2, 3, 4])**2",
   "id": "5f5b3937300ec3fa",
   "outputs": [
    {
     "data": {
      "text/plain": [
       "array([ 4,  9, 16])"
      ]
     },
     "execution_count": 188,
     "metadata": {},
     "output_type": "execute_result"
    }
   ],
   "execution_count": 188
  },
  {
   "metadata": {
    "ExecuteTime": {
     "end_time": "2024-10-21T11:51:48.326378Z",
     "start_time": "2024-10-21T11:51:48.315914Z"
    }
   },
   "cell_type": "code",
   "source": "np.array([2, 3, 4])*100",
   "id": "669441d7c1c51dc1",
   "outputs": [
    {
     "data": {
      "text/plain": [
       "array([200, 300, 400])"
      ]
     },
     "execution_count": 189,
     "metadata": {},
     "output_type": "execute_result"
    }
   ],
   "execution_count": 189
  },
  {
   "metadata": {
    "ExecuteTime": {
     "end_time": "2024-10-21T11:51:48.806121Z",
     "start_time": "2024-10-21T11:51:48.797993Z"
    }
   },
   "cell_type": "code",
   "source": "np.array([2, 3, 4]) + np.array([7, 12, 8])",
   "id": "f0beee52df52e668",
   "outputs": [
    {
     "data": {
      "text/plain": [
       "array([ 9, 15, 12])"
      ]
     },
     "execution_count": 190,
     "metadata": {},
     "output_type": "execute_result"
    }
   ],
   "execution_count": 190
  },
  {
   "metadata": {
    "ExecuteTime": {
     "end_time": "2024-10-21T11:51:49.130826Z",
     "start_time": "2024-10-21T11:51:49.118297Z"
    }
   },
   "cell_type": "code",
   "source": "(np.array([2, 3, 4]) + np.array([7, 12, 8])) / 2",
   "id": "95560a892e96db4a",
   "outputs": [
    {
     "data": {
      "text/plain": [
       "array([4.5, 7.5, 6. ])"
      ]
     },
     "execution_count": 191,
     "metadata": {},
     "output_type": "execute_result"
    }
   ],
   "execution_count": 191
  },
  {
   "metadata": {
    "ExecuteTime": {
     "end_time": "2024-10-21T11:51:49.307086Z",
     "start_time": "2024-10-21T11:51:49.300923Z"
    }
   },
   "cell_type": "code",
   "source": [
    "m = np.array([[2, 5], \n",
    "              [6, 8],\n",
    "              [1, 3]])"
   ],
   "id": "a9b22e765eaec0b1",
   "outputs": [],
   "execution_count": 192
  },
  {
   "metadata": {
    "ExecuteTime": {
     "end_time": "2024-10-21T11:51:49.559920Z",
     "start_time": "2024-10-21T11:51:49.550646Z"
    }
   },
   "cell_type": "code",
   "source": [
    "# Количество измерений\n",
    "m.ndim"
   ],
   "id": "10b7338af35e83b2",
   "outputs": [
    {
     "data": {
      "text/plain": [
       "2"
      ]
     },
     "execution_count": 193,
     "metadata": {},
     "output_type": "execute_result"
    }
   ],
   "execution_count": 193
  },
  {
   "metadata": {
    "ExecuteTime": {
     "end_time": "2024-10-21T11:51:49.727485Z",
     "start_time": "2024-10-21T11:51:49.712413Z"
    }
   },
   "cell_type": "code",
   "source": [
    "# Форма массива\n",
    "m.shape"
   ],
   "id": "fb9171b49e170077",
   "outputs": [
    {
     "data": {
      "text/plain": [
       "(3, 2)"
      ]
     },
     "execution_count": 194,
     "metadata": {},
     "output_type": "execute_result"
    }
   ],
   "execution_count": 194
  },
  {
   "metadata": {
    "ExecuteTime": {
     "end_time": "2024-10-21T11:51:49.809825Z",
     "start_time": "2024-10-21T11:51:49.799745Z"
    }
   },
   "cell_type": "code",
   "source": [
    "# Размер массива\n",
    "m.size"
   ],
   "id": "ce641a2cc08a2a0d",
   "outputs": [
    {
     "data": {
      "text/plain": [
       "6"
      ]
     },
     "execution_count": 195,
     "metadata": {},
     "output_type": "execute_result"
    }
   ],
   "execution_count": 195
  },
  {
   "metadata": {
    "ExecuteTime": {
     "end_time": "2024-10-21T11:51:49.950661Z",
     "start_time": "2024-10-21T11:51:49.939963Z"
    }
   },
   "cell_type": "code",
   "source": "m[1][0]",
   "id": "a2bb2f5f2cf7405",
   "outputs": [
    {
     "data": {
      "text/plain": [
       "np.int64(6)"
      ]
     },
     "execution_count": 196,
     "metadata": {},
     "output_type": "execute_result"
    }
   ],
   "execution_count": 196
  },
  {
   "metadata": {
    "ExecuteTime": {
     "end_time": "2024-10-21T11:51:50.033919Z",
     "start_time": "2024-10-21T11:51:50.025807Z"
    }
   },
   "cell_type": "code",
   "source": "m[1,0]",
   "id": "76399742b251822c",
   "outputs": [
    {
     "data": {
      "text/plain": [
       "np.int64(6)"
      ]
     },
     "execution_count": 197,
     "metadata": {},
     "output_type": "execute_result"
    }
   ],
   "execution_count": 197
  },
  {
   "metadata": {
    "ExecuteTime": {
     "end_time": "2024-10-21T11:51:50.143082Z",
     "start_time": "2024-10-21T11:51:50.132804Z"
    }
   },
   "cell_type": "code",
   "source": "m[1]",
   "id": "bcd128cf4396776b",
   "outputs": [
    {
     "data": {
      "text/plain": [
       "array([6, 8])"
      ]
     },
     "execution_count": 198,
     "metadata": {},
     "output_type": "execute_result"
    }
   ],
   "execution_count": 198
  },
  {
   "metadata": {
    "ExecuteTime": {
     "end_time": "2024-10-21T11:51:50.270153Z",
     "start_time": "2024-10-21T11:51:50.260914Z"
    }
   },
   "cell_type": "code",
   "source": "m[0:2]",
   "id": "962a06ef5cb587c8",
   "outputs": [
    {
     "data": {
      "text/plain": [
       "array([[2, 5],\n",
       "       [6, 8]])"
      ]
     },
     "execution_count": 199,
     "metadata": {},
     "output_type": "execute_result"
    }
   ],
   "execution_count": 199
  },
  {
   "metadata": {
    "ExecuteTime": {
     "end_time": "2024-10-21T11:51:50.430731Z",
     "start_time": "2024-10-21T11:51:50.422262Z"
    }
   },
   "cell_type": "code",
   "source": "m[1:]",
   "id": "79d9dfd59ca984aa",
   "outputs": [
    {
     "data": {
      "text/plain": [
       "array([[6, 8],\n",
       "       [1, 3]])"
      ]
     },
     "execution_count": 200,
     "metadata": {},
     "output_type": "execute_result"
    }
   ],
   "execution_count": 200
  },
  {
   "metadata": {
    "ExecuteTime": {
     "end_time": "2024-10-21T11:51:50.636015Z",
     "start_time": "2024-10-21T11:51:50.623803Z"
    }
   },
   "cell_type": "code",
   "source": "m[::2]",
   "id": "57470c832850380b",
   "outputs": [
    {
     "data": {
      "text/plain": [
       "array([[2, 5],\n",
       "       [1, 3]])"
      ]
     },
     "execution_count": 201,
     "metadata": {},
     "output_type": "execute_result"
    }
   ],
   "execution_count": 201
  },
  {
   "metadata": {
    "ExecuteTime": {
     "end_time": "2024-10-21T11:51:51.236119Z",
     "start_time": "2024-10-21T11:51:51.215307Z"
    }
   },
   "cell_type": "code",
   "source": "m[::-1]",
   "id": "ea72f908f2284ead",
   "outputs": [
    {
     "data": {
      "text/plain": [
       "array([[1, 3],\n",
       "       [6, 8],\n",
       "       [2, 5]])"
      ]
     },
     "execution_count": 202,
     "metadata": {},
     "output_type": "execute_result"
    }
   ],
   "execution_count": 202
  },
  {
   "metadata": {
    "ExecuteTime": {
     "end_time": "2024-10-21T11:51:51.426372Z",
     "start_time": "2024-10-21T11:51:51.417709Z"
    }
   },
   "cell_type": "code",
   "source": "marks = np.array([5, 4, 3, 5, 5, 4, 3, 4])",
   "id": "416819cb8e04b96f",
   "outputs": [],
   "execution_count": 203
  },
  {
   "metadata": {
    "ExecuteTime": {
     "end_time": "2024-10-21T11:51:51.655875Z",
     "start_time": "2024-10-21T11:51:51.644643Z"
    }
   },
   "cell_type": "code",
   "source": "marks.min()",
   "id": "a947d37229f26b74",
   "outputs": [
    {
     "data": {
      "text/plain": [
       "np.int64(3)"
      ]
     },
     "execution_count": 204,
     "metadata": {},
     "output_type": "execute_result"
    }
   ],
   "execution_count": 204
  },
  {
   "metadata": {
    "ExecuteTime": {
     "end_time": "2024-10-21T11:51:51.876912Z",
     "start_time": "2024-10-21T11:51:51.866808Z"
    }
   },
   "cell_type": "code",
   "source": "marks.max()",
   "id": "bab36c1dce8f8835",
   "outputs": [
    {
     "data": {
      "text/plain": [
       "np.int64(5)"
      ]
     },
     "execution_count": 205,
     "metadata": {},
     "output_type": "execute_result"
    }
   ],
   "execution_count": 205
  },
  {
   "metadata": {
    "ExecuteTime": {
     "end_time": "2024-10-21T11:51:51.995761Z",
     "start_time": "2024-10-21T11:51:51.983910Z"
    }
   },
   "cell_type": "code",
   "source": [
    "# Выдает индекс элемента с наибольшим значением\n",
    "marks.argmax()"
   ],
   "id": "8143117d0e8d2f59",
   "outputs": [
    {
     "data": {
      "text/plain": [
       "np.int64(0)"
      ]
     },
     "execution_count": 206,
     "metadata": {},
     "output_type": "execute_result"
    }
   ],
   "execution_count": 206
  },
  {
   "metadata": {
    "ExecuteTime": {
     "end_time": "2024-10-21T11:51:52.103298Z",
     "start_time": "2024-10-21T11:51:52.095672Z"
    }
   },
   "cell_type": "code",
   "source": [
    "# Выдает индекс элемента с наименьшим значением\n",
    "marks.argmin()"
   ],
   "id": "1e21eb77aaa714d3",
   "outputs": [
    {
     "data": {
      "text/plain": [
       "np.int64(2)"
      ]
     },
     "execution_count": 207,
     "metadata": {},
     "output_type": "execute_result"
    }
   ],
   "execution_count": 207
  },
  {
   "metadata": {
    "ExecuteTime": {
     "end_time": "2024-10-21T11:51:52.257530Z",
     "start_time": "2024-10-21T11:51:52.250480Z"
    }
   },
   "cell_type": "code",
   "source": "m",
   "id": "2174bfa8d2a61281",
   "outputs": [
    {
     "data": {
      "text/plain": [
       "array([[2, 5],\n",
       "       [6, 8],\n",
       "       [1, 3]])"
      ]
     },
     "execution_count": 208,
     "metadata": {},
     "output_type": "execute_result"
    }
   ],
   "execution_count": 208
  },
  {
   "metadata": {
    "ExecuteTime": {
     "end_time": "2024-10-21T11:51:52.408573Z",
     "start_time": "2024-10-21T11:51:52.398748Z"
    }
   },
   "cell_type": "code",
   "source": "m.mean(axis = 1)",
   "id": "495dbb865039fc96",
   "outputs": [
    {
     "data": {
      "text/plain": [
       "array([3.5, 7. , 2. ])"
      ]
     },
     "execution_count": 209,
     "metadata": {},
     "output_type": "execute_result"
    }
   ],
   "execution_count": 209
  },
  {
   "metadata": {
    "ExecuteTime": {
     "end_time": "2024-10-21T11:51:52.772709Z",
     "start_time": "2024-10-21T11:51:52.760974Z"
    }
   },
   "cell_type": "code",
   "source": "m.max(axis = 1)",
   "id": "cc7930660ac4b548",
   "outputs": [
    {
     "data": {
      "text/plain": [
       "array([5, 8, 3])"
      ]
     },
     "execution_count": 210,
     "metadata": {},
     "output_type": "execute_result"
    }
   ],
   "execution_count": 210
  },
  {
   "metadata": {
    "ExecuteTime": {
     "end_time": "2024-10-21T11:51:52.951990Z",
     "start_time": "2024-10-21T11:51:52.944768Z"
    }
   },
   "cell_type": "code",
   "source": [
    "# По стобцам\n",
    "m.min(axis = 0)"
   ],
   "id": "6153769849c463b0",
   "outputs": [
    {
     "data": {
      "text/plain": [
       "array([1, 3])"
      ]
     },
     "execution_count": 211,
     "metadata": {},
     "output_type": "execute_result"
    }
   ],
   "execution_count": 211
  },
  {
   "metadata": {
    "ExecuteTime": {
     "end_time": "2024-10-21T11:51:53.125211Z",
     "start_time": "2024-10-21T11:51:53.113940Z"
    }
   },
   "cell_type": "code",
   "source": "np.arange(1, 10)",
   "id": "8d3d860cec814886",
   "outputs": [
    {
     "data": {
      "text/plain": [
       "array([1, 2, 3, 4, 5, 6, 7, 8, 9])"
      ]
     },
     "execution_count": 212,
     "metadata": {},
     "output_type": "execute_result"
    }
   ],
   "execution_count": 212
  },
  {
   "metadata": {
    "ExecuteTime": {
     "end_time": "2024-10-21T11:51:53.204852Z",
     "start_time": "2024-10-21T11:51:53.193754Z"
    }
   },
   "cell_type": "code",
   "source": "np.arange(1, 10, 2)",
   "id": "65aa91b581f3931f",
   "outputs": [
    {
     "data": {
      "text/plain": [
       "array([1, 3, 5, 7, 9])"
      ]
     },
     "execution_count": 213,
     "metadata": {},
     "output_type": "execute_result"
    }
   ],
   "execution_count": 213
  },
  {
   "metadata": {
    "ExecuteTime": {
     "end_time": "2024-10-21T11:51:53.289758Z",
     "start_time": "2024-10-21T11:51:53.280793Z"
    }
   },
   "cell_type": "code",
   "source": [
    "# Генерирует рандомные числа в заданном диапазоне\n",
    "np.linspace(50, 80, 20)"
   ],
   "id": "d342ad05a908b18e",
   "outputs": [
    {
     "data": {
      "text/plain": [
       "array([50.        , 51.57894737, 53.15789474, 54.73684211, 56.31578947,\n",
       "       57.89473684, 59.47368421, 61.05263158, 62.63157895, 64.21052632,\n",
       "       65.78947368, 67.36842105, 68.94736842, 70.52631579, 72.10526316,\n",
       "       73.68421053, 75.26315789, 76.84210526, 78.42105263, 80.        ])"
      ]
     },
     "execution_count": 214,
     "metadata": {},
     "output_type": "execute_result"
    }
   ],
   "execution_count": 214
  },
  {
   "metadata": {
    "ExecuteTime": {
     "end_time": "2024-10-21T11:51:53.385328Z",
     "start_time": "2024-10-21T11:51:53.375505Z"
    }
   },
   "cell_type": "code",
   "source": "np.zeros((3,3))",
   "id": "35f224f83d308814",
   "outputs": [
    {
     "data": {
      "text/plain": [
       "array([[0., 0., 0.],\n",
       "       [0., 0., 0.],\n",
       "       [0., 0., 0.]])"
      ]
     },
     "execution_count": 215,
     "metadata": {},
     "output_type": "execute_result"
    }
   ],
   "execution_count": 215
  },
  {
   "metadata": {
    "ExecuteTime": {
     "end_time": "2024-10-21T11:51:53.578396Z",
     "start_time": "2024-10-21T11:51:53.569839Z"
    }
   },
   "cell_type": "code",
   "source": "np.ones((4,2))",
   "id": "4d235e044ee8808a",
   "outputs": [
    {
     "data": {
      "text/plain": [
       "array([[1., 1.],\n",
       "       [1., 1.],\n",
       "       [1., 1.],\n",
       "       [1., 1.]])"
      ]
     },
     "execution_count": 216,
     "metadata": {},
     "output_type": "execute_result"
    }
   ],
   "execution_count": 216
  },
  {
   "metadata": {
    "ExecuteTime": {
     "end_time": "2024-10-21T11:51:53.850593Z",
     "start_time": "2024-10-21T11:51:53.836550Z"
    }
   },
   "cell_type": "code",
   "source": "np.eye(5)",
   "id": "63dc87fbee1e722a",
   "outputs": [
    {
     "data": {
      "text/plain": [
       "array([[1., 0., 0., 0., 0.],\n",
       "       [0., 1., 0., 0., 0.],\n",
       "       [0., 0., 1., 0., 0.],\n",
       "       [0., 0., 0., 1., 0.],\n",
       "       [0., 0., 0., 0., 1.]])"
      ]
     },
     "execution_count": 217,
     "metadata": {},
     "output_type": "execute_result"
    }
   ],
   "execution_count": 217
  },
  {
   "metadata": {
    "ExecuteTime": {
     "end_time": "2024-10-21T11:51:54.139189Z",
     "start_time": "2024-10-21T11:51:54.116563Z"
    }
   },
   "cell_type": "code",
   "source": [
    "ages = np.array(([15, 23, 32, 45, 52],\n",
    "                 [58, 34, 55, 78, 20],\n",
    "                 [25, 67, 33, 45, 14]))\n",
    "\n",
    "ages"
   ],
   "id": "c901d7250d387dc6",
   "outputs": [
    {
     "data": {
      "text/plain": [
       "array([[15, 23, 32, 45, 52],\n",
       "       [58, 34, 55, 78, 20],\n",
       "       [25, 67, 33, 45, 14]])"
      ]
     },
     "execution_count": 218,
     "metadata": {},
     "output_type": "execute_result"
    }
   ],
   "execution_count": 218
  },
  {
   "metadata": {
    "ExecuteTime": {
     "end_time": "2024-10-21T11:51:54.467733Z",
     "start_time": "2024-10-21T11:51:54.458792Z"
    }
   },
   "cell_type": "code",
   "source": "ages > 20",
   "id": "ba9ee726b2f27e73",
   "outputs": [
    {
     "data": {
      "text/plain": [
       "array([[False,  True,  True,  True,  True],\n",
       "       [ True,  True,  True,  True, False],\n",
       "       [ True,  True,  True,  True, False]])"
      ]
     },
     "execution_count": 219,
     "metadata": {},
     "output_type": "execute_result"
    }
   ],
   "execution_count": 219
  },
  {
   "metadata": {
    "ExecuteTime": {
     "end_time": "2024-10-21T11:51:54.750288Z",
     "start_time": "2024-10-21T11:51:54.738847Z"
    }
   },
   "cell_type": "code",
   "source": [
    "new_arr = (ages > 17) & (ages < 60)\n",
    "new_arr"
   ],
   "id": "fdc839b02aaaf60b",
   "outputs": [
    {
     "data": {
      "text/plain": [
       "array([[False,  True,  True,  True,  True],\n",
       "       [ True,  True,  True, False,  True],\n",
       "       [ True, False,  True,  True, False]])"
      ]
     },
     "execution_count": 220,
     "metadata": {},
     "output_type": "execute_result"
    }
   ],
   "execution_count": 220
  },
  {
   "metadata": {
    "ExecuteTime": {
     "end_time": "2024-10-21T11:51:54.967085Z",
     "start_time": "2024-10-21T11:51:54.958301Z"
    }
   },
   "cell_type": "code",
   "source": "new_arr.sum()",
   "id": "4461af2ebcd043ab",
   "outputs": [
    {
     "data": {
      "text/plain": [
       "np.int64(11)"
      ]
     },
     "execution_count": 221,
     "metadata": {},
     "output_type": "execute_result"
    }
   ],
   "execution_count": 221
  },
  {
   "metadata": {
    "ExecuteTime": {
     "end_time": "2024-10-21T11:52:12.752505Z",
     "start_time": "2024-10-21T11:52:12.733919Z"
    }
   },
   "cell_type": "code",
   "source": [
    "new_arr = ages[(ages > 17) & (ages < 57)]\n",
    "new_arr"
   ],
   "id": "11d7501c8cc7b596",
   "outputs": [
    {
     "data": {
      "text/plain": [
       "array([23, 32, 45, 52, 34, 55, 20, 25, 33, 45])"
      ]
     },
     "execution_count": 224,
     "metadata": {},
     "output_type": "execute_result"
    }
   ],
   "execution_count": 224
  },
  {
   "metadata": {
    "ExecuteTime": {
     "end_time": "2024-10-21T11:52:15.084053Z",
     "start_time": "2024-10-21T11:52:15.069882Z"
    }
   },
   "cell_type": "code",
   "source": [
    "new_arr.reshape(5, 2)\n",
    "new_arr.flatten()"
   ],
   "id": "3d4d2d36e9ae3ebc",
   "outputs": [
    {
     "data": {
      "text/plain": [
       "array([23, 32, 45, 52, 34, 55, 20, 25, 33, 45])"
      ]
     },
     "execution_count": 225,
     "metadata": {},
     "output_type": "execute_result"
    }
   ],
   "execution_count": 225
  },
  {
   "metadata": {
    "ExecuteTime": {
     "end_time": "2024-10-21T11:52:17.115421Z",
     "start_time": "2024-10-21T11:52:17.100496Z"
    }
   },
   "cell_type": "code",
   "source": "new_arr.transpose()",
   "id": "eb1a192fcbd204ae",
   "outputs": [
    {
     "data": {
      "text/plain": [
       "array([23, 32, 45, 52, 34, 55, 20, 25, 33, 45])"
      ]
     },
     "execution_count": 226,
     "metadata": {},
     "output_type": "execute_result"
    }
   ],
   "execution_count": 226
  },
  {
   "metadata": {
    "ExecuteTime": {
     "end_time": "2024-10-21T11:52:19.672116Z",
     "start_time": "2024-10-21T11:52:19.658870Z"
    }
   },
   "cell_type": "code",
   "source": "new_arr.T",
   "id": "66cca19c8f753b61",
   "outputs": [
    {
     "data": {
      "text/plain": [
       "array([23, 32, 45, 52, 34, 55, 20, 25, 33, 45])"
      ]
     },
     "execution_count": 227,
     "metadata": {},
     "output_type": "execute_result"
    }
   ],
   "execution_count": 227
  },
  {
   "metadata": {
    "ExecuteTime": {
     "end_time": "2024-10-21T11:56:40.716843Z",
     "start_time": "2024-10-21T11:56:40.708578Z"
    }
   },
   "cell_type": "code",
   "source": "m[0][0] = 10 ",
   "id": "6a0ec929a2c3e3e7",
   "outputs": [],
   "execution_count": 233
  },
  {
   "metadata": {
    "ExecuteTime": {
     "end_time": "2024-10-21T11:56:46.504791Z",
     "start_time": "2024-10-21T11:56:46.494865Z"
    }
   },
   "cell_type": "code",
   "source": "m",
   "id": "ede23234628f8814",
   "outputs": [
    {
     "data": {
      "text/plain": [
       "array([[10,  5],\n",
       "       [ 6,  8],\n",
       "       [ 1,  3]])"
      ]
     },
     "execution_count": 234,
     "metadata": {},
     "output_type": "execute_result"
    }
   ],
   "execution_count": 234
  },
  {
   "metadata": {
    "ExecuteTime": {
     "end_time": "2024-10-21T12:00:03.433047Z",
     "start_time": "2024-10-21T12:00:03.424046Z"
    }
   },
   "cell_type": "code",
   "source": [
    "income = np.array([[20_000, 30_000, 25_000, 700_000],\n",
    "                   [23_000, 35_000, 20_000, 32_000]])"
   ],
   "id": "e1272d17fc5b50fc",
   "outputs": [],
   "execution_count": 236
  },
  {
   "metadata": {
    "ExecuteTime": {
     "end_time": "2024-10-21T12:00:05.586473Z",
     "start_time": "2024-10-21T12:00:05.575223Z"
    }
   },
   "cell_type": "code",
   "source": "np.log(income)",
   "id": "a58848546703b183",
   "outputs": [
    {
     "data": {
      "text/plain": [
       "array([[ 9.90348755, 10.30895266, 10.1266311 , 13.45883561],\n",
       "       [10.04324949, 10.46310334,  9.90348755, 10.37349118]])"
      ]
     },
     "execution_count": 237,
     "metadata": {},
     "output_type": "execute_result"
    }
   ],
   "execution_count": 237
  }
 ],
 "metadata": {
  "kernelspec": {
   "display_name": "Python 3",
   "language": "python",
   "name": "python3"
  },
  "language_info": {
   "codemirror_mode": {
    "name": "ipython",
    "version": 2
   },
   "file_extension": ".py",
   "mimetype": "text/x-python",
   "name": "python",
   "nbconvert_exporter": "python",
   "pygments_lexer": "ipython2",
   "version": "2.7.6"
  }
 },
 "nbformat": 4,
 "nbformat_minor": 5
}
