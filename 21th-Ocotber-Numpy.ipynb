{
 "cells": [
  {
   "metadata": {},
   "cell_type": "markdown",
   "source": "# NumPy",
   "id": "5c2b4427c59de69f"
  },
  {
   "metadata": {
    "ExecuteTime": {
     "end_time": "2024-10-21T10:55:51.609725Z",
     "start_time": "2024-10-21T10:55:51.592387Z"
    }
   },
   "cell_type": "code",
   "source": "import numpy as np",
   "id": "9203ce34e4b3edd7",
   "outputs": [],
   "execution_count": 7
  },
  {
   "metadata": {
    "ExecuteTime": {
     "end_time": "2024-10-21T10:55:51.672363Z",
     "start_time": "2024-10-21T10:55:51.660820Z"
    }
   },
   "cell_type": "code",
   "source": "np.sqrt(16)",
   "id": "31dddf891a3892da",
   "outputs": [
    {
     "data": {
      "text/plain": [
       "np.float64(4.0)"
      ]
     },
     "execution_count": 8,
     "metadata": {},
     "output_type": "execute_result"
    }
   ],
   "execution_count": 8
  },
  {
   "metadata": {
    "ExecuteTime": {
     "end_time": "2024-10-21T10:56:06.101825Z",
     "start_time": "2024-10-21T10:56:06.089610Z"
    }
   },
   "cell_type": "code",
   "source": "np.log(4)",
   "id": "1ee835afb167c75f",
   "outputs": [
    {
     "data": {
      "text/plain": [
       "np.float64(1.3862943611198906)"
      ]
     },
     "execution_count": 9,
     "metadata": {},
     "output_type": "execute_result"
    }
   ],
   "execution_count": 9
  },
  {
   "metadata": {
    "ExecuteTime": {
     "end_time": "2024-10-21T10:57:32.952585Z",
     "start_time": "2024-10-21T10:57:32.924138Z"
    }
   },
   "cell_type": "code",
   "source": "np.mean([20, 40, 30, 450, 45, 30])",
   "id": "5360938f6c21d6a4",
   "outputs": [
    {
     "data": {
      "text/plain": [
       "np.float64(102.5)"
      ]
     },
     "execution_count": 10,
     "metadata": {},
     "output_type": "execute_result"
    }
   ],
   "execution_count": 10
  },
  {
   "metadata": {
    "ExecuteTime": {
     "end_time": "2024-10-21T10:59:33.330003Z",
     "start_time": "2024-10-21T10:59:33.309875Z"
    }
   },
   "cell_type": "code",
   "source": "np.median([20, 40, 30, 450, 45, 30])",
   "id": "c81f4ff1a7790bdc",
   "outputs": [
    {
     "data": {
      "text/plain": [
       "np.float64(35.0)"
      ]
     },
     "execution_count": 11,
     "metadata": {},
     "output_type": "execute_result"
    }
   ],
   "execution_count": 11
  },
  {
   "metadata": {
    "ExecuteTime": {
     "end_time": "2024-10-21T11:03:07.839748Z",
     "start_time": "2024-10-21T11:03:07.816128Z"
    }
   },
   "cell_type": "code",
   "source": "np.array([[2, 3, 4], [1, 2, 3.0]])",
   "id": "d7cd9ae3ba4f299d",
   "outputs": [
    {
     "data": {
      "text/plain": [
       "array([[2., 3., 4.],\n",
       "       [1., 2., 3.]])"
      ]
     },
     "execution_count": 14,
     "metadata": {},
     "output_type": "execute_result"
    }
   ],
   "execution_count": 14
  },
  {
   "metadata": {
    "ExecuteTime": {
     "end_time": "2024-10-21T11:06:07.367177Z",
     "start_time": "2024-10-21T11:06:07.344323Z"
    }
   },
   "cell_type": "code",
   "source": "np.array([[2, 3, '4'], [1, 2, 3.0]])",
   "id": "ec1c758929e3034b",
   "outputs": [
    {
     "data": {
      "text/plain": [
       "array([['2', '3', '4'],\n",
       "       ['1', '2', '3.0']], dtype='<U32')"
      ]
     },
     "execution_count": 17,
     "metadata": {},
     "output_type": "execute_result"
    }
   ],
   "execution_count": 17
  },
  {
   "metadata": {
    "ExecuteTime": {
     "end_time": "2024-10-21T11:07:13.088769Z",
     "start_time": "2024-10-21T11:07:13.027549Z"
    }
   },
   "cell_type": "code",
   "source": "np.array([2, 3, 4])**2",
   "id": "5f5b3937300ec3fa",
   "outputs": [
    {
     "data": {
      "text/plain": [
       "array([ 4,  9, 16])"
      ]
     },
     "execution_count": 18,
     "metadata": {},
     "output_type": "execute_result"
    }
   ],
   "execution_count": 18
  },
  {
   "metadata": {
    "ExecuteTime": {
     "end_time": "2024-10-21T11:07:40.985539Z",
     "start_time": "2024-10-21T11:07:40.974655Z"
    }
   },
   "cell_type": "code",
   "source": "np.array([2, 3, 4])*100",
   "id": "669441d7c1c51dc1",
   "outputs": [
    {
     "data": {
      "text/plain": [
       "array([200, 300, 400])"
      ]
     },
     "execution_count": 19,
     "metadata": {},
     "output_type": "execute_result"
    }
   ],
   "execution_count": 19
  }
 ],
 "metadata": {
  "kernelspec": {
   "display_name": "Python 3",
   "language": "python",
   "name": "python3"
  },
  "language_info": {
   "codemirror_mode": {
    "name": "ipython",
    "version": 2
   },
   "file_extension": ".py",
   "mimetype": "text/x-python",
   "name": "python",
   "nbconvert_exporter": "python",
   "pygments_lexer": "ipython2",
   "version": "2.7.6"
  }
 },
 "nbformat": 4,
 "nbformat_minor": 5
}
