{
 "cells": [
  {
   "metadata": {},
   "cell_type": "markdown",
   "source": "# NumPy",
   "id": "5c2b4427c59de69f"
  },
  {
   "metadata": {
    "ExecuteTime": {
     "end_time": "2024-10-21T11:19:11.301649Z",
     "start_time": "2024-10-21T11:19:11.296934Z"
    }
   },
   "cell_type": "code",
   "source": "import numpy as np",
   "id": "9203ce34e4b3edd7",
   "outputs": [],
   "execution_count": 51
  },
  {
   "metadata": {
    "ExecuteTime": {
     "end_time": "2024-10-21T11:19:11.354257Z",
     "start_time": "2024-10-21T11:19:11.343064Z"
    }
   },
   "cell_type": "code",
   "source": "np.sqrt(16)",
   "id": "31dddf891a3892da",
   "outputs": [
    {
     "data": {
      "text/plain": [
       "np.float64(4.0)"
      ]
     },
     "execution_count": 52,
     "metadata": {},
     "output_type": "execute_result"
    }
   ],
   "execution_count": 52
  },
  {
   "metadata": {
    "ExecuteTime": {
     "end_time": "2024-10-21T11:19:11.447142Z",
     "start_time": "2024-10-21T11:19:11.427573Z"
    }
   },
   "cell_type": "code",
   "source": "np.log(4)",
   "id": "1ee835afb167c75f",
   "outputs": [
    {
     "data": {
      "text/plain": [
       "np.float64(1.3862943611198906)"
      ]
     },
     "execution_count": 53,
     "metadata": {},
     "output_type": "execute_result"
    }
   ],
   "execution_count": 53
  },
  {
   "metadata": {
    "ExecuteTime": {
     "end_time": "2024-10-21T11:19:11.565990Z",
     "start_time": "2024-10-21T11:19:11.551871Z"
    }
   },
   "cell_type": "code",
   "source": "np.mean([20, 40, 30, 450, 45, 30])",
   "id": "5360938f6c21d6a4",
   "outputs": [
    {
     "data": {
      "text/plain": [
       "np.float64(102.5)"
      ]
     },
     "execution_count": 54,
     "metadata": {},
     "output_type": "execute_result"
    }
   ],
   "execution_count": 54
  },
  {
   "metadata": {
    "ExecuteTime": {
     "end_time": "2024-10-21T11:19:11.775887Z",
     "start_time": "2024-10-21T11:19:11.758513Z"
    }
   },
   "cell_type": "code",
   "source": "np.median([20, 40, 30, 450, 45, 30])",
   "id": "c81f4ff1a7790bdc",
   "outputs": [
    {
     "data": {
      "text/plain": [
       "np.float64(35.0)"
      ]
     },
     "execution_count": 55,
     "metadata": {},
     "output_type": "execute_result"
    }
   ],
   "execution_count": 55
  },
  {
   "metadata": {
    "ExecuteTime": {
     "end_time": "2024-10-21T11:19:11.953036Z",
     "start_time": "2024-10-21T11:19:11.939943Z"
    }
   },
   "cell_type": "code",
   "source": "np.array([[2, 3, 4], [1, 2, 3.0]])",
   "id": "d7cd9ae3ba4f299d",
   "outputs": [
    {
     "data": {
      "text/plain": [
       "array([[2., 3., 4.],\n",
       "       [1., 2., 3.]])"
      ]
     },
     "execution_count": 56,
     "metadata": {},
     "output_type": "execute_result"
    }
   ],
   "execution_count": 56
  },
  {
   "metadata": {
    "ExecuteTime": {
     "end_time": "2024-10-21T11:19:12.156281Z",
     "start_time": "2024-10-21T11:19:12.139068Z"
    }
   },
   "cell_type": "code",
   "source": "np.array([[2, 3, '4'], [1, 2, 3.0]])",
   "id": "ec1c758929e3034b",
   "outputs": [
    {
     "data": {
      "text/plain": [
       "array([['2', '3', '4'],\n",
       "       ['1', '2', '3.0']], dtype='<U32')"
      ]
     },
     "execution_count": 57,
     "metadata": {},
     "output_type": "execute_result"
    }
   ],
   "execution_count": 57
  },
  {
   "metadata": {
    "ExecuteTime": {
     "end_time": "2024-10-21T11:19:12.453977Z",
     "start_time": "2024-10-21T11:19:12.441458Z"
    }
   },
   "cell_type": "code",
   "source": "np.array([2, 3, 4])**2",
   "id": "5f5b3937300ec3fa",
   "outputs": [
    {
     "data": {
      "text/plain": [
       "array([ 4,  9, 16])"
      ]
     },
     "execution_count": 58,
     "metadata": {},
     "output_type": "execute_result"
    }
   ],
   "execution_count": 58
  },
  {
   "metadata": {
    "ExecuteTime": {
     "end_time": "2024-10-21T11:19:12.721458Z",
     "start_time": "2024-10-21T11:19:12.706597Z"
    }
   },
   "cell_type": "code",
   "source": "np.array([2, 3, 4])*100",
   "id": "669441d7c1c51dc1",
   "outputs": [
    {
     "data": {
      "text/plain": [
       "array([200, 300, 400])"
      ]
     },
     "execution_count": 59,
     "metadata": {},
     "output_type": "execute_result"
    }
   ],
   "execution_count": 59
  },
  {
   "metadata": {
    "ExecuteTime": {
     "end_time": "2024-10-21T11:19:12.976617Z",
     "start_time": "2024-10-21T11:19:12.963966Z"
    }
   },
   "cell_type": "code",
   "source": "np.array([2, 3, 4]) + np.array([7, 12, 8])",
   "id": "f0beee52df52e668",
   "outputs": [
    {
     "data": {
      "text/plain": [
       "array([ 9, 15, 12])"
      ]
     },
     "execution_count": 60,
     "metadata": {},
     "output_type": "execute_result"
    }
   ],
   "execution_count": 60
  },
  {
   "metadata": {
    "ExecuteTime": {
     "end_time": "2024-10-21T11:19:13.167276Z",
     "start_time": "2024-10-21T11:19:13.155941Z"
    }
   },
   "cell_type": "code",
   "source": "(np.array([2, 3, 4]) + np.array([7, 12, 8])) / 2",
   "id": "95560a892e96db4a",
   "outputs": [
    {
     "data": {
      "text/plain": [
       "array([4.5, 7.5, 6. ])"
      ]
     },
     "execution_count": 61,
     "metadata": {},
     "output_type": "execute_result"
    }
   ],
   "execution_count": 61
  },
  {
   "metadata": {
    "ExecuteTime": {
     "end_time": "2024-10-21T11:19:13.240279Z",
     "start_time": "2024-10-21T11:19:13.228916Z"
    }
   },
   "cell_type": "code",
   "source": [
    "m = np.array([[2, 5], \n",
    "              [6, 8],\n",
    "              [1, 3]])"
   ],
   "id": "a9b22e765eaec0b1",
   "outputs": [],
   "execution_count": 62
  },
  {
   "metadata": {
    "ExecuteTime": {
     "end_time": "2024-10-21T11:19:13.354691Z",
     "start_time": "2024-10-21T11:19:13.345017Z"
    }
   },
   "cell_type": "code",
   "source": [
    "# Количество измерений\n",
    "m.ndim"
   ],
   "id": "10b7338af35e83b2",
   "outputs": [
    {
     "data": {
      "text/plain": [
       "2"
      ]
     },
     "execution_count": 63,
     "metadata": {},
     "output_type": "execute_result"
    }
   ],
   "execution_count": 63
  },
  {
   "metadata": {
    "ExecuteTime": {
     "end_time": "2024-10-21T11:19:13.461511Z",
     "start_time": "2024-10-21T11:19:13.449367Z"
    }
   },
   "cell_type": "code",
   "source": [
    "# Форма массива\n",
    "m.shape"
   ],
   "id": "fb9171b49e170077",
   "outputs": [
    {
     "data": {
      "text/plain": [
       "(3, 2)"
      ]
     },
     "execution_count": 64,
     "metadata": {},
     "output_type": "execute_result"
    }
   ],
   "execution_count": 64
  },
  {
   "metadata": {
    "ExecuteTime": {
     "end_time": "2024-10-21T11:19:13.575132Z",
     "start_time": "2024-10-21T11:19:13.564977Z"
    }
   },
   "cell_type": "code",
   "source": [
    "# Размер массива\n",
    "m.size"
   ],
   "id": "ce641a2cc08a2a0d",
   "outputs": [
    {
     "data": {
      "text/plain": [
       "6"
      ]
     },
     "execution_count": 65,
     "metadata": {},
     "output_type": "execute_result"
    }
   ],
   "execution_count": 65
  },
  {
   "metadata": {
    "ExecuteTime": {
     "end_time": "2024-10-21T11:19:13.686009Z",
     "start_time": "2024-10-21T11:19:13.674767Z"
    }
   },
   "cell_type": "code",
   "source": "m[1][0]",
   "id": "a2bb2f5f2cf7405",
   "outputs": [
    {
     "data": {
      "text/plain": [
       "np.int64(6)"
      ]
     },
     "execution_count": 66,
     "metadata": {},
     "output_type": "execute_result"
    }
   ],
   "execution_count": 66
  },
  {
   "metadata": {
    "ExecuteTime": {
     "end_time": "2024-10-21T11:19:13.808626Z",
     "start_time": "2024-10-21T11:19:13.798050Z"
    }
   },
   "cell_type": "code",
   "source": "m[1,0]",
   "id": "76399742b251822c",
   "outputs": [
    {
     "data": {
      "text/plain": [
       "np.int64(6)"
      ]
     },
     "execution_count": 67,
     "metadata": {},
     "output_type": "execute_result"
    }
   ],
   "execution_count": 67
  },
  {
   "metadata": {
    "ExecuteTime": {
     "end_time": "2024-10-21T11:19:13.992922Z",
     "start_time": "2024-10-21T11:19:13.984215Z"
    }
   },
   "cell_type": "code",
   "source": "m[1]",
   "id": "bcd128cf4396776b",
   "outputs": [
    {
     "data": {
      "text/plain": [
       "array([6, 8])"
      ]
     },
     "execution_count": 68,
     "metadata": {},
     "output_type": "execute_result"
    }
   ],
   "execution_count": 68
  },
  {
   "metadata": {
    "ExecuteTime": {
     "end_time": "2024-10-21T11:19:14.077247Z",
     "start_time": "2024-10-21T11:19:14.067142Z"
    }
   },
   "cell_type": "code",
   "source": "m[0:2]",
   "id": "962a06ef5cb587c8",
   "outputs": [
    {
     "data": {
      "text/plain": [
       "array([[2, 5],\n",
       "       [6, 8]])"
      ]
     },
     "execution_count": 69,
     "metadata": {},
     "output_type": "execute_result"
    }
   ],
   "execution_count": 69
  },
  {
   "metadata": {
    "ExecuteTime": {
     "end_time": "2024-10-21T11:19:14.281652Z",
     "start_time": "2024-10-21T11:19:14.270397Z"
    }
   },
   "cell_type": "code",
   "source": "m[1:]",
   "id": "79d9dfd59ca984aa",
   "outputs": [
    {
     "data": {
      "text/plain": [
       "array([[6, 8],\n",
       "       [1, 3]])"
      ]
     },
     "execution_count": 70,
     "metadata": {},
     "output_type": "execute_result"
    }
   ],
   "execution_count": 70
  },
  {
   "metadata": {
    "ExecuteTime": {
     "end_time": "2024-10-21T11:19:15.117874Z",
     "start_time": "2024-10-21T11:19:15.079886Z"
    }
   },
   "cell_type": "code",
   "source": "m[::2]",
   "id": "57470c832850380b",
   "outputs": [
    {
     "data": {
      "text/plain": [
       "array([[2, 5],\n",
       "       [1, 3]])"
      ]
     },
     "execution_count": 71,
     "metadata": {},
     "output_type": "execute_result"
    }
   ],
   "execution_count": 71
  },
  {
   "metadata": {
    "ExecuteTime": {
     "end_time": "2024-10-21T11:19:15.379987Z",
     "start_time": "2024-10-21T11:19:15.371690Z"
    }
   },
   "cell_type": "code",
   "source": "m[::-1]",
   "id": "ea72f908f2284ead",
   "outputs": [
    {
     "data": {
      "text/plain": [
       "array([[1, 3],\n",
       "       [6, 8],\n",
       "       [2, 5]])"
      ]
     },
     "execution_count": 72,
     "metadata": {},
     "output_type": "execute_result"
    }
   ],
   "execution_count": 72
  },
  {
   "metadata": {
    "ExecuteTime": {
     "end_time": "2024-10-21T11:19:15.729393Z",
     "start_time": "2024-10-21T11:19:15.716525Z"
    }
   },
   "cell_type": "code",
   "source": "marks = np.array([5, 4, 3, 5, 5, 4, 3, 4])",
   "id": "416819cb8e04b96f",
   "outputs": [],
   "execution_count": 73
  },
  {
   "metadata": {
    "ExecuteTime": {
     "end_time": "2024-10-21T11:19:15.900073Z",
     "start_time": "2024-10-21T11:19:15.885447Z"
    }
   },
   "cell_type": "code",
   "source": "marks.min()",
   "id": "a947d37229f26b74",
   "outputs": [
    {
     "data": {
      "text/plain": [
       "np.int64(3)"
      ]
     },
     "execution_count": 74,
     "metadata": {},
     "output_type": "execute_result"
    }
   ],
   "execution_count": 74
  },
  {
   "metadata": {
    "ExecuteTime": {
     "end_time": "2024-10-21T11:19:28.051960Z",
     "start_time": "2024-10-21T11:19:28.043260Z"
    }
   },
   "cell_type": "code",
   "source": "marks.max()",
   "id": "bab36c1dce8f8835",
   "outputs": [
    {
     "data": {
      "text/plain": [
       "np.int64(5)"
      ]
     },
     "execution_count": 75,
     "metadata": {},
     "output_type": "execute_result"
    }
   ],
   "execution_count": 75
  },
  {
   "metadata": {
    "ExecuteTime": {
     "end_time": "2024-10-21T11:20:48.942871Z",
     "start_time": "2024-10-21T11:20:48.926313Z"
    }
   },
   "cell_type": "code",
   "source": [
    "# Выдает индекс элемента с наибольшим значением\n",
    "marks.argmax()"
   ],
   "id": "8143117d0e8d2f59",
   "outputs": [
    {
     "data": {
      "text/plain": [
       "np.int64(0)"
      ]
     },
     "execution_count": 78,
     "metadata": {},
     "output_type": "execute_result"
    }
   ],
   "execution_count": 78
  },
  {
   "metadata": {
    "ExecuteTime": {
     "end_time": "2024-10-21T11:21:15.141008Z",
     "start_time": "2024-10-21T11:21:15.130528Z"
    }
   },
   "cell_type": "code",
   "source": [
    "# Выдает индекс элемента с наименьшим значением\n",
    "marks.argmin()"
   ],
   "id": "1e21eb77aaa714d3",
   "outputs": [
    {
     "data": {
      "text/plain": [
       "np.int64(2)"
      ]
     },
     "execution_count": 80,
     "metadata": {},
     "output_type": "execute_result"
    }
   ],
   "execution_count": 80
  }
 ],
 "metadata": {
  "kernelspec": {
   "display_name": "Python 3",
   "language": "python",
   "name": "python3"
  },
  "language_info": {
   "codemirror_mode": {
    "name": "ipython",
    "version": 2
   },
   "file_extension": ".py",
   "mimetype": "text/x-python",
   "name": "python",
   "nbconvert_exporter": "python",
   "pygments_lexer": "ipython2",
   "version": "2.7.6"
  }
 },
 "nbformat": 4,
 "nbformat_minor": 5
}
