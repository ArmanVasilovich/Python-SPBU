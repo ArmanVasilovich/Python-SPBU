{
 "cells": [
  {
   "metadata": {},
   "cell_type": "markdown",
   "source": "# October 28th - Pandas library",
   "id": "b12b5d8670db261e"
  },
  {
   "metadata": {
    "ExecuteTime": {
     "end_time": "2024-10-28T07:43:11.926973Z",
     "start_time": "2024-10-28T07:43:10.897437Z"
    }
   },
   "cell_type": "code",
   "source": [
    "import pandas as pd\n",
    "import numpy as np"
   ],
   "id": "661c91c38813c201",
   "outputs": [],
   "execution_count": 1
  },
  {
   "metadata": {},
   "cell_type": "markdown",
   "source": [
    "Базавая структура данных в Pandas - dataframe (Series)\n",
    "Series как тот же NumPy массив"
   ],
   "id": "4aeaa4202684b6ea"
  },
  {
   "metadata": {
    "ExecuteTime": {
     "end_time": "2024-10-28T07:48:40.078676Z",
     "start_time": "2024-10-28T07:48:40.070550Z"
    }
   },
   "cell_type": "code",
   "source": [
    "df = pd.DataFrame([['Anna', 23, 3],\n",
    "                  ['Ivan', 36, 12],\n",
    "                  ['Yan', 33, 10],\n",
    "                  ['Vladimir', 25, 7],\n",
    "                  ['Lisa', 27, 7],\n",
    "                  ['Alexnder', 32, None]])"
   ],
   "id": "1f401c1d2b0eacb9",
   "outputs": [],
   "execution_count": 7
  },
  {
   "metadata": {
    "ExecuteTime": {
     "end_time": "2024-10-28T07:48:41.867929Z",
     "start_time": "2024-10-28T07:48:41.845213Z"
    }
   },
   "cell_type": "code",
   "source": "df",
   "id": "7d7a7e6bb0526432",
   "outputs": [
    {
     "data": {
      "text/plain": [
       "          0   1     2\n",
       "0      Anna  23   3.0\n",
       "1      Ivan  36  12.0\n",
       "2       Yan  33  10.0\n",
       "3  Vladimir  25   7.0\n",
       "4      Lisa  27   7.0\n",
       "5  Alexnder  32   NaN"
      ],
      "text/html": [
       "<div>\n",
       "<style scoped>\n",
       "    .dataframe tbody tr th:only-of-type {\n",
       "        vertical-align: middle;\n",
       "    }\n",
       "\n",
       "    .dataframe tbody tr th {\n",
       "        vertical-align: top;\n",
       "    }\n",
       "\n",
       "    .dataframe thead th {\n",
       "        text-align: right;\n",
       "    }\n",
       "</style>\n",
       "<table border=\"1\" class=\"dataframe\">\n",
       "  <thead>\n",
       "    <tr style=\"text-align: right;\">\n",
       "      <th></th>\n",
       "      <th>0</th>\n",
       "      <th>1</th>\n",
       "      <th>2</th>\n",
       "    </tr>\n",
       "  </thead>\n",
       "  <tbody>\n",
       "    <tr>\n",
       "      <th>0</th>\n",
       "      <td>Anna</td>\n",
       "      <td>23</td>\n",
       "      <td>3.0</td>\n",
       "    </tr>\n",
       "    <tr>\n",
       "      <th>1</th>\n",
       "      <td>Ivan</td>\n",
       "      <td>36</td>\n",
       "      <td>12.0</td>\n",
       "    </tr>\n",
       "    <tr>\n",
       "      <th>2</th>\n",
       "      <td>Yan</td>\n",
       "      <td>33</td>\n",
       "      <td>10.0</td>\n",
       "    </tr>\n",
       "    <tr>\n",
       "      <th>3</th>\n",
       "      <td>Vladimir</td>\n",
       "      <td>25</td>\n",
       "      <td>7.0</td>\n",
       "    </tr>\n",
       "    <tr>\n",
       "      <th>4</th>\n",
       "      <td>Lisa</td>\n",
       "      <td>27</td>\n",
       "      <td>7.0</td>\n",
       "    </tr>\n",
       "    <tr>\n",
       "      <th>5</th>\n",
       "      <td>Alexnder</td>\n",
       "      <td>32</td>\n",
       "      <td>NaN</td>\n",
       "    </tr>\n",
       "  </tbody>\n",
       "</table>\n",
       "</div>"
      ]
     },
     "execution_count": 8,
     "metadata": {},
     "output_type": "execute_result"
    }
   ],
   "execution_count": 8
  },
  {
   "metadata": {
    "ExecuteTime": {
     "end_time": "2024-10-28T07:53:46.698393Z",
     "start_time": "2024-10-28T07:53:46.686206Z"
    }
   },
   "cell_type": "code",
   "source": "df[2]",
   "id": "bc4f3095f5b92ae7",
   "outputs": [
    {
     "data": {
      "text/plain": [
       "0     3.0\n",
       "1    12.0\n",
       "2    10.0\n",
       "3     7.0\n",
       "4     7.0\n",
       "5     NaN\n",
       "Name: 2, dtype: float64"
      ]
     },
     "execution_count": 10,
     "metadata": {},
     "output_type": "execute_result"
    }
   ],
   "execution_count": 10
  },
  {
   "metadata": {},
   "cell_type": "markdown",
   "source": "# Индексация",
   "id": "1fc9c1782cf9b4ed"
  },
  {
   "metadata": {
    "ExecuteTime": {
     "end_time": "2024-10-28T08:26:21.774856Z",
     "start_time": "2024-10-28T08:26:21.754298Z"
    }
   },
   "cell_type": "code",
   "source": [
    "df.columns = ['name', 'age', 'expr']\n",
    "df"
   ],
   "id": "cd70468407552a22",
   "outputs": [
    {
     "data": {
      "text/plain": [
       "       name  age  expr\n",
       "0      Anna   23   3.0\n",
       "1      Ivan   36  12.0\n",
       "2       Yan   33  10.0\n",
       "3  Vladimir   25   7.0\n",
       "4      Lisa   27   7.0\n",
       "5  Alexnder   32   NaN"
      ],
      "text/html": [
       "<div>\n",
       "<style scoped>\n",
       "    .dataframe tbody tr th:only-of-type {\n",
       "        vertical-align: middle;\n",
       "    }\n",
       "\n",
       "    .dataframe tbody tr th {\n",
       "        vertical-align: top;\n",
       "    }\n",
       "\n",
       "    .dataframe thead th {\n",
       "        text-align: right;\n",
       "    }\n",
       "</style>\n",
       "<table border=\"1\" class=\"dataframe\">\n",
       "  <thead>\n",
       "    <tr style=\"text-align: right;\">\n",
       "      <th></th>\n",
       "      <th>name</th>\n",
       "      <th>age</th>\n",
       "      <th>expr</th>\n",
       "    </tr>\n",
       "  </thead>\n",
       "  <tbody>\n",
       "    <tr>\n",
       "      <th>0</th>\n",
       "      <td>Anna</td>\n",
       "      <td>23</td>\n",
       "      <td>3.0</td>\n",
       "    </tr>\n",
       "    <tr>\n",
       "      <th>1</th>\n",
       "      <td>Ivan</td>\n",
       "      <td>36</td>\n",
       "      <td>12.0</td>\n",
       "    </tr>\n",
       "    <tr>\n",
       "      <th>2</th>\n",
       "      <td>Yan</td>\n",
       "      <td>33</td>\n",
       "      <td>10.0</td>\n",
       "    </tr>\n",
       "    <tr>\n",
       "      <th>3</th>\n",
       "      <td>Vladimir</td>\n",
       "      <td>25</td>\n",
       "      <td>7.0</td>\n",
       "    </tr>\n",
       "    <tr>\n",
       "      <th>4</th>\n",
       "      <td>Lisa</td>\n",
       "      <td>27</td>\n",
       "      <td>7.0</td>\n",
       "    </tr>\n",
       "    <tr>\n",
       "      <th>5</th>\n",
       "      <td>Alexnder</td>\n",
       "      <td>32</td>\n",
       "      <td>NaN</td>\n",
       "    </tr>\n",
       "  </tbody>\n",
       "</table>\n",
       "</div>"
      ]
     },
     "execution_count": 23,
     "metadata": {},
     "output_type": "execute_result"
    }
   ],
   "execution_count": 23
  },
  {
   "metadata": {
    "ExecuteTime": {
     "end_time": "2024-10-28T08:19:33.227410Z",
     "start_time": "2024-10-28T08:19:33.206205Z"
    }
   },
   "cell_type": "code",
   "source": "df.iloc[1]",
   "id": "7b17e37d1e65b85b",
   "outputs": [
    {
     "data": {
      "text/plain": [
       "name      Ivan\n",
       "age         36\n",
       "height    12.0\n",
       "Name: 1, dtype: object"
      ]
     },
     "execution_count": 12,
     "metadata": {},
     "output_type": "execute_result"
    }
   ],
   "execution_count": 12
  },
  {
   "metadata": {
    "ExecuteTime": {
     "end_time": "2024-10-28T08:20:29.460412Z",
     "start_time": "2024-10-28T08:20:29.448292Z"
    }
   },
   "cell_type": "code",
   "source": "df.iloc[1,2]",
   "id": "2d8b9a966382fcf9",
   "outputs": [
    {
     "data": {
      "text/plain": [
       "np.float64(12.0)"
      ]
     },
     "execution_count": 13,
     "metadata": {},
     "output_type": "execute_result"
    }
   ],
   "execution_count": 13
  },
  {
   "metadata": {
    "ExecuteTime": {
     "end_time": "2024-10-28T08:21:12.558230Z",
     "start_time": "2024-10-28T08:21:12.477562Z"
    }
   },
   "cell_type": "code",
   "source": "df.iloc[:,0]",
   "id": "6e5d7e5236515049",
   "outputs": [
    {
     "data": {
      "text/plain": [
       "0        Anna\n",
       "1        Ivan\n",
       "2         Yan\n",
       "3    Vladimir\n",
       "4        Lisa\n",
       "5    Alexnder\n",
       "Name: name, dtype: object"
      ]
     },
     "execution_count": 14,
     "metadata": {},
     "output_type": "execute_result"
    }
   ],
   "execution_count": 14
  },
  {
   "metadata": {
    "ExecuteTime": {
     "end_time": "2024-10-28T08:21:48.820989Z",
     "start_time": "2024-10-28T08:21:48.795340Z"
    }
   },
   "cell_type": "code",
   "source": "df.iloc[1:3,:]",
   "id": "4b22f088868c623f",
   "outputs": [
    {
     "data": {
      "text/plain": [
       "   name  age  height\n",
       "1  Ivan   36    12.0\n",
       "2   Yan   33    10.0"
      ],
      "text/html": [
       "<div>\n",
       "<style scoped>\n",
       "    .dataframe tbody tr th:only-of-type {\n",
       "        vertical-align: middle;\n",
       "    }\n",
       "\n",
       "    .dataframe tbody tr th {\n",
       "        vertical-align: top;\n",
       "    }\n",
       "\n",
       "    .dataframe thead th {\n",
       "        text-align: right;\n",
       "    }\n",
       "</style>\n",
       "<table border=\"1\" class=\"dataframe\">\n",
       "  <thead>\n",
       "    <tr style=\"text-align: right;\">\n",
       "      <th></th>\n",
       "      <th>name</th>\n",
       "      <th>age</th>\n",
       "      <th>height</th>\n",
       "    </tr>\n",
       "  </thead>\n",
       "  <tbody>\n",
       "    <tr>\n",
       "      <th>1</th>\n",
       "      <td>Ivan</td>\n",
       "      <td>36</td>\n",
       "      <td>12.0</td>\n",
       "    </tr>\n",
       "    <tr>\n",
       "      <th>2</th>\n",
       "      <td>Yan</td>\n",
       "      <td>33</td>\n",
       "      <td>10.0</td>\n",
       "    </tr>\n",
       "  </tbody>\n",
       "</table>\n",
       "</div>"
      ]
     },
     "execution_count": 15,
     "metadata": {},
     "output_type": "execute_result"
    }
   ],
   "execution_count": 15
  },
  {
   "metadata": {
    "ExecuteTime": {
     "end_time": "2024-10-28T08:23:19.615002Z",
     "start_time": "2024-10-28T08:23:17.948049Z"
    }
   },
   "cell_type": "code",
   "source": "df[0]",
   "id": "eb4dc9777374bb08",
   "outputs": [
    {
     "ename": "KeyError",
     "evalue": "0",
     "output_type": "error",
     "traceback": [
      "\u001B[0;31m---------------------------------------------------------------------------\u001B[0m",
      "\u001B[0;31mKeyError\u001B[0m                                  Traceback (most recent call last)",
      "File \u001B[0;32m~/Desktop/Projects/Python/Test-1/.venv/lib/python3.12/site-packages/pandas/core/indexes/base.py:3805\u001B[0m, in \u001B[0;36mIndex.get_loc\u001B[0;34m(self, key)\u001B[0m\n\u001B[1;32m   3804\u001B[0m \u001B[38;5;28;01mtry\u001B[39;00m:\n\u001B[0;32m-> 3805\u001B[0m     \u001B[38;5;28;01mreturn\u001B[39;00m \u001B[38;5;28;43mself\u001B[39;49m\u001B[38;5;241;43m.\u001B[39;49m\u001B[43m_engine\u001B[49m\u001B[38;5;241;43m.\u001B[39;49m\u001B[43mget_loc\u001B[49m\u001B[43m(\u001B[49m\u001B[43mcasted_key\u001B[49m\u001B[43m)\u001B[49m\n\u001B[1;32m   3806\u001B[0m \u001B[38;5;28;01mexcept\u001B[39;00m \u001B[38;5;167;01mKeyError\u001B[39;00m \u001B[38;5;28;01mas\u001B[39;00m err:\n",
      "File \u001B[0;32mindex.pyx:167\u001B[0m, in \u001B[0;36mpandas._libs.index.IndexEngine.get_loc\u001B[0;34m()\u001B[0m\n",
      "File \u001B[0;32mindex.pyx:196\u001B[0m, in \u001B[0;36mpandas._libs.index.IndexEngine.get_loc\u001B[0;34m()\u001B[0m\n",
      "File \u001B[0;32mpandas/_libs/hashtable_class_helper.pxi:7081\u001B[0m, in \u001B[0;36mpandas._libs.hashtable.PyObjectHashTable.get_item\u001B[0;34m()\u001B[0m\n",
      "File \u001B[0;32mpandas/_libs/hashtable_class_helper.pxi:7089\u001B[0m, in \u001B[0;36mpandas._libs.hashtable.PyObjectHashTable.get_item\u001B[0;34m()\u001B[0m\n",
      "\u001B[0;31mKeyError\u001B[0m: 0",
      "\nThe above exception was the direct cause of the following exception:\n",
      "\u001B[0;31mKeyError\u001B[0m                                  Traceback (most recent call last)",
      "Cell \u001B[0;32mIn[16], line 1\u001B[0m\n\u001B[0;32m----> 1\u001B[0m \u001B[43mdf\u001B[49m\u001B[43m[\u001B[49m\u001B[38;5;241;43m0\u001B[39;49m\u001B[43m]\u001B[49m\n",
      "File \u001B[0;32m~/Desktop/Projects/Python/Test-1/.venv/lib/python3.12/site-packages/pandas/core/frame.py:4102\u001B[0m, in \u001B[0;36mDataFrame.__getitem__\u001B[0;34m(self, key)\u001B[0m\n\u001B[1;32m   4100\u001B[0m \u001B[38;5;28;01mif\u001B[39;00m \u001B[38;5;28mself\u001B[39m\u001B[38;5;241m.\u001B[39mcolumns\u001B[38;5;241m.\u001B[39mnlevels \u001B[38;5;241m>\u001B[39m \u001B[38;5;241m1\u001B[39m:\n\u001B[1;32m   4101\u001B[0m     \u001B[38;5;28;01mreturn\u001B[39;00m \u001B[38;5;28mself\u001B[39m\u001B[38;5;241m.\u001B[39m_getitem_multilevel(key)\n\u001B[0;32m-> 4102\u001B[0m indexer \u001B[38;5;241m=\u001B[39m \u001B[38;5;28;43mself\u001B[39;49m\u001B[38;5;241;43m.\u001B[39;49m\u001B[43mcolumns\u001B[49m\u001B[38;5;241;43m.\u001B[39;49m\u001B[43mget_loc\u001B[49m\u001B[43m(\u001B[49m\u001B[43mkey\u001B[49m\u001B[43m)\u001B[49m\n\u001B[1;32m   4103\u001B[0m \u001B[38;5;28;01mif\u001B[39;00m is_integer(indexer):\n\u001B[1;32m   4104\u001B[0m     indexer \u001B[38;5;241m=\u001B[39m [indexer]\n",
      "File \u001B[0;32m~/Desktop/Projects/Python/Test-1/.venv/lib/python3.12/site-packages/pandas/core/indexes/base.py:3812\u001B[0m, in \u001B[0;36mIndex.get_loc\u001B[0;34m(self, key)\u001B[0m\n\u001B[1;32m   3807\u001B[0m     \u001B[38;5;28;01mif\u001B[39;00m \u001B[38;5;28misinstance\u001B[39m(casted_key, \u001B[38;5;28mslice\u001B[39m) \u001B[38;5;129;01mor\u001B[39;00m (\n\u001B[1;32m   3808\u001B[0m         \u001B[38;5;28misinstance\u001B[39m(casted_key, abc\u001B[38;5;241m.\u001B[39mIterable)\n\u001B[1;32m   3809\u001B[0m         \u001B[38;5;129;01mand\u001B[39;00m \u001B[38;5;28many\u001B[39m(\u001B[38;5;28misinstance\u001B[39m(x, \u001B[38;5;28mslice\u001B[39m) \u001B[38;5;28;01mfor\u001B[39;00m x \u001B[38;5;129;01min\u001B[39;00m casted_key)\n\u001B[1;32m   3810\u001B[0m     ):\n\u001B[1;32m   3811\u001B[0m         \u001B[38;5;28;01mraise\u001B[39;00m InvalidIndexError(key)\n\u001B[0;32m-> 3812\u001B[0m     \u001B[38;5;28;01mraise\u001B[39;00m \u001B[38;5;167;01mKeyError\u001B[39;00m(key) \u001B[38;5;28;01mfrom\u001B[39;00m \u001B[38;5;21;01merr\u001B[39;00m\n\u001B[1;32m   3813\u001B[0m \u001B[38;5;28;01mexcept\u001B[39;00m \u001B[38;5;167;01mTypeError\u001B[39;00m:\n\u001B[1;32m   3814\u001B[0m     \u001B[38;5;66;03m# If we have a listlike key, _check_indexing_error will raise\u001B[39;00m\n\u001B[1;32m   3815\u001B[0m     \u001B[38;5;66;03m#  InvalidIndexError. Otherwise we fall through and re-raise\u001B[39;00m\n\u001B[1;32m   3816\u001B[0m     \u001B[38;5;66;03m#  the TypeError.\u001B[39;00m\n\u001B[1;32m   3817\u001B[0m     \u001B[38;5;28mself\u001B[39m\u001B[38;5;241m.\u001B[39m_check_indexing_error(key)\n",
      "\u001B[0;31mKeyError\u001B[0m: 0"
     ]
    }
   ],
   "execution_count": 16
  },
  {
   "metadata": {
    "ExecuteTime": {
     "end_time": "2024-10-28T08:23:53.335252Z",
     "start_time": "2024-10-28T08:23:53.322229Z"
    }
   },
   "cell_type": "code",
   "source": "df['name']",
   "id": "713ebfc14283b645",
   "outputs": [
    {
     "data": {
      "text/plain": [
       "0        Anna\n",
       "1        Ivan\n",
       "2         Yan\n",
       "3    Vladimir\n",
       "4        Lisa\n",
       "5    Alexnder\n",
       "Name: name, dtype: object"
      ]
     },
     "execution_count": 17,
     "metadata": {},
     "output_type": "execute_result"
    }
   ],
   "execution_count": 17
  },
  {
   "metadata": {
    "ExecuteTime": {
     "end_time": "2024-10-28T08:26:26.404808Z",
     "start_time": "2024-10-28T08:26:26.377743Z"
    }
   },
   "cell_type": "code",
   "source": "df.loc[1:4, 'name':'expr']",
   "id": "3f2b1173bbed1053",
   "outputs": [
    {
     "data": {
      "text/plain": [
       "       name  age  expr\n",
       "1      Ivan   36  12.0\n",
       "2       Yan   33  10.0\n",
       "3  Vladimir   25   7.0\n",
       "4      Lisa   27   7.0"
      ],
      "text/html": [
       "<div>\n",
       "<style scoped>\n",
       "    .dataframe tbody tr th:only-of-type {\n",
       "        vertical-align: middle;\n",
       "    }\n",
       "\n",
       "    .dataframe tbody tr th {\n",
       "        vertical-align: top;\n",
       "    }\n",
       "\n",
       "    .dataframe thead th {\n",
       "        text-align: right;\n",
       "    }\n",
       "</style>\n",
       "<table border=\"1\" class=\"dataframe\">\n",
       "  <thead>\n",
       "    <tr style=\"text-align: right;\">\n",
       "      <th></th>\n",
       "      <th>name</th>\n",
       "      <th>age</th>\n",
       "      <th>expr</th>\n",
       "    </tr>\n",
       "  </thead>\n",
       "  <tbody>\n",
       "    <tr>\n",
       "      <th>1</th>\n",
       "      <td>Ivan</td>\n",
       "      <td>36</td>\n",
       "      <td>12.0</td>\n",
       "    </tr>\n",
       "    <tr>\n",
       "      <th>2</th>\n",
       "      <td>Yan</td>\n",
       "      <td>33</td>\n",
       "      <td>10.0</td>\n",
       "    </tr>\n",
       "    <tr>\n",
       "      <th>3</th>\n",
       "      <td>Vladimir</td>\n",
       "      <td>25</td>\n",
       "      <td>7.0</td>\n",
       "    </tr>\n",
       "    <tr>\n",
       "      <th>4</th>\n",
       "      <td>Lisa</td>\n",
       "      <td>27</td>\n",
       "      <td>7.0</td>\n",
       "    </tr>\n",
       "  </tbody>\n",
       "</table>\n",
       "</div>"
      ]
     },
     "execution_count": 24,
     "metadata": {},
     "output_type": "execute_result"
    }
   ],
   "execution_count": 24
  },
  {
   "metadata": {
    "ExecuteTime": {
     "end_time": "2024-10-28T08:27:55.632905Z",
     "start_time": "2024-10-28T08:27:55.615860Z"
    }
   },
   "cell_type": "code",
   "source": [
    "df.index = df.name\n",
    "df"
   ],
   "id": "a8e9f918c05bd80d",
   "outputs": [
    {
     "data": {
      "text/plain": [
       "              name  age  expr\n",
       "name                         \n",
       "Anna          Anna   23   3.0\n",
       "Ivan          Ivan   36  12.0\n",
       "Yan            Yan   33  10.0\n",
       "Vladimir  Vladimir   25   7.0\n",
       "Lisa          Lisa   27   7.0\n",
       "Alexnder  Alexnder   32   NaN"
      ],
      "text/html": [
       "<div>\n",
       "<style scoped>\n",
       "    .dataframe tbody tr th:only-of-type {\n",
       "        vertical-align: middle;\n",
       "    }\n",
       "\n",
       "    .dataframe tbody tr th {\n",
       "        vertical-align: top;\n",
       "    }\n",
       "\n",
       "    .dataframe thead th {\n",
       "        text-align: right;\n",
       "    }\n",
       "</style>\n",
       "<table border=\"1\" class=\"dataframe\">\n",
       "  <thead>\n",
       "    <tr style=\"text-align: right;\">\n",
       "      <th></th>\n",
       "      <th>name</th>\n",
       "      <th>age</th>\n",
       "      <th>expr</th>\n",
       "    </tr>\n",
       "    <tr>\n",
       "      <th>name</th>\n",
       "      <th></th>\n",
       "      <th></th>\n",
       "      <th></th>\n",
       "    </tr>\n",
       "  </thead>\n",
       "  <tbody>\n",
       "    <tr>\n",
       "      <th>Anna</th>\n",
       "      <td>Anna</td>\n",
       "      <td>23</td>\n",
       "      <td>3.0</td>\n",
       "    </tr>\n",
       "    <tr>\n",
       "      <th>Ivan</th>\n",
       "      <td>Ivan</td>\n",
       "      <td>36</td>\n",
       "      <td>12.0</td>\n",
       "    </tr>\n",
       "    <tr>\n",
       "      <th>Yan</th>\n",
       "      <td>Yan</td>\n",
       "      <td>33</td>\n",
       "      <td>10.0</td>\n",
       "    </tr>\n",
       "    <tr>\n",
       "      <th>Vladimir</th>\n",
       "      <td>Vladimir</td>\n",
       "      <td>25</td>\n",
       "      <td>7.0</td>\n",
       "    </tr>\n",
       "    <tr>\n",
       "      <th>Lisa</th>\n",
       "      <td>Lisa</td>\n",
       "      <td>27</td>\n",
       "      <td>7.0</td>\n",
       "    </tr>\n",
       "    <tr>\n",
       "      <th>Alexnder</th>\n",
       "      <td>Alexnder</td>\n",
       "      <td>32</td>\n",
       "      <td>NaN</td>\n",
       "    </tr>\n",
       "  </tbody>\n",
       "</table>\n",
       "</div>"
      ]
     },
     "execution_count": 25,
     "metadata": {},
     "output_type": "execute_result"
    }
   ],
   "execution_count": 25
  },
  {
   "metadata": {
    "ExecuteTime": {
     "end_time": "2024-10-28T08:30:18.863152Z",
     "start_time": "2024-10-28T08:30:18.825669Z"
    }
   },
   "cell_type": "code",
   "source": "df.loc['Anna', 'ageb']",
   "id": "3086014328f55d03",
   "outputs": [
    {
     "data": {
      "text/plain": [
       "np.int64(23)"
      ]
     },
     "execution_count": 27,
     "metadata": {},
     "output_type": "execute_result"
    }
   ],
   "execution_count": 27
  },
  {
   "metadata": {
    "ExecuteTime": {
     "end_time": "2024-10-28T08:31:26.474816Z",
     "start_time": "2024-10-28T08:31:26.458553Z"
    }
   },
   "cell_type": "code",
   "source": "df.loc['Vladimir' : 'Alexnder', 'expr']",
   "id": "4f03260c0364b34f",
   "outputs": [
    {
     "data": {
      "text/plain": [
       "name\n",
       "Vladimir    7.0\n",
       "Lisa        7.0\n",
       "Alexnder    NaN\n",
       "Name: expr, dtype: float64"
      ]
     },
     "execution_count": 29,
     "metadata": {},
     "output_type": "execute_result"
    }
   ],
   "execution_count": 29
  },
  {
   "metadata": {
    "ExecuteTime": {
     "end_time": "2024-10-28T08:32:09.582621Z",
     "start_time": "2024-10-28T08:32:09.554423Z"
    }
   },
   "cell_type": "code",
   "source": "df.loc['Vladimir' : 'Alexnder', ['age', 'expr']]",
   "id": "36403b2a7b10e2c2",
   "outputs": [
    {
     "data": {
      "text/plain": [
       "          age  expr\n",
       "name               \n",
       "Vladimir   25   7.0\n",
       "Lisa       27   7.0\n",
       "Alexnder   32   NaN"
      ],
      "text/html": [
       "<div>\n",
       "<style scoped>\n",
       "    .dataframe tbody tr th:only-of-type {\n",
       "        vertical-align: middle;\n",
       "    }\n",
       "\n",
       "    .dataframe tbody tr th {\n",
       "        vertical-align: top;\n",
       "    }\n",
       "\n",
       "    .dataframe thead th {\n",
       "        text-align: right;\n",
       "    }\n",
       "</style>\n",
       "<table border=\"1\" class=\"dataframe\">\n",
       "  <thead>\n",
       "    <tr style=\"text-align: right;\">\n",
       "      <th></th>\n",
       "      <th>age</th>\n",
       "      <th>expr</th>\n",
       "    </tr>\n",
       "    <tr>\n",
       "      <th>name</th>\n",
       "      <th></th>\n",
       "      <th></th>\n",
       "    </tr>\n",
       "  </thead>\n",
       "  <tbody>\n",
       "    <tr>\n",
       "      <th>Vladimir</th>\n",
       "      <td>25</td>\n",
       "      <td>7.0</td>\n",
       "    </tr>\n",
       "    <tr>\n",
       "      <th>Lisa</th>\n",
       "      <td>27</td>\n",
       "      <td>7.0</td>\n",
       "    </tr>\n",
       "    <tr>\n",
       "      <th>Alexnder</th>\n",
       "      <td>32</td>\n",
       "      <td>NaN</td>\n",
       "    </tr>\n",
       "  </tbody>\n",
       "</table>\n",
       "</div>"
      ]
     },
     "execution_count": 30,
     "metadata": {},
     "output_type": "execute_result"
    }
   ],
   "execution_count": 30
  },
  {
   "metadata": {},
   "cell_type": "markdown",
   "source": "# Характеристика датафреймов",
   "id": "f2e5b75b52c5f2a2"
  },
  {
   "metadata": {
    "ExecuteTime": {
     "end_time": "2024-10-28T08:34:08.461155Z",
     "start_time": "2024-10-28T08:34:08.409255Z"
    }
   },
   "cell_type": "code",
   "source": "df.info()",
   "id": "d1391d43ae5371c8",
   "outputs": [
    {
     "name": "stdout",
     "output_type": "stream",
     "text": [
      "<class 'pandas.core.frame.DataFrame'>\n",
      "Index: 6 entries, Anna to Alexnder\n",
      "Data columns (total 3 columns):\n",
      " #   Column  Non-Null Count  Dtype  \n",
      "---  ------  --------------  -----  \n",
      " 0   name    6 non-null      object \n",
      " 1   age     6 non-null      int64  \n",
      " 2   expr    5 non-null      float64\n",
      "dtypes: float64(1), int64(1), object(1)\n",
      "memory usage: 364.0+ bytes\n"
     ]
    }
   ],
   "execution_count": 31
  },
  {
   "metadata": {
    "ExecuteTime": {
     "end_time": "2024-10-28T08:36:23.185934Z",
     "start_time": "2024-10-28T08:36:23.173220Z"
    }
   },
   "cell_type": "code",
   "source": "df.shape",
   "id": "dc67465d3838366d",
   "outputs": [
    {
     "data": {
      "text/plain": [
       "(6, 3)"
      ]
     },
     "execution_count": 33,
     "metadata": {},
     "output_type": "execute_result"
    }
   ],
   "execution_count": 33
  },
  {
   "metadata": {
    "ExecuteTime": {
     "end_time": "2024-10-28T08:38:30.103920Z",
     "start_time": "2024-10-28T08:38:30.087540Z"
    }
   },
   "cell_type": "code",
   "source": [
    "arr = np.random.rand(888, 4)\n",
    "df = pd.DataFrame(arr, columns=list('ABCD'))"
   ],
   "id": "43f24034903344",
   "outputs": [],
   "execution_count": 34
  },
  {
   "metadata": {
    "ExecuteTime": {
     "end_time": "2024-10-28T08:38:57.292558Z",
     "start_time": "2024-10-28T08:38:57.277683Z"
    }
   },
   "cell_type": "code",
   "source": "print(df)",
   "id": "8f2886f249666cc9",
   "outputs": [
    {
     "name": "stdout",
     "output_type": "stream",
     "text": [
      "            A         B         C         D\n",
      "0    0.676114  0.860238  0.279983  0.109350\n",
      "1    0.013430  0.778155  0.584120  0.178081\n",
      "2    0.015484  0.352645  0.700957  0.449931\n",
      "3    0.542648  0.746440  0.182675  0.074262\n",
      "4    0.886396  0.892314  0.031164  0.833858\n",
      "..        ...       ...       ...       ...\n",
      "883  0.115645  0.360677  0.227004  0.001310\n",
      "884  0.223807  0.504874  0.781060  0.072311\n",
      "885  0.511315  0.589509  0.686922  0.962986\n",
      "886  0.575234  0.843758  0.889065  0.424605\n",
      "887  0.499501  0.359543  0.490371  0.311716\n",
      "\n",
      "[888 rows x 4 columns]\n"
     ]
    }
   ],
   "execution_count": 36
  },
  {
   "metadata": {
    "ExecuteTime": {
     "end_time": "2024-10-28T08:39:59.771450Z",
     "start_time": "2024-10-28T08:39:59.752668Z"
    }
   },
   "cell_type": "code",
   "source": "df.head(11)",
   "id": "21f981127721b7a5",
   "outputs": [
    {
     "data": {
      "text/plain": [
       "           A         B         C         D\n",
       "0   0.676114  0.860238  0.279983  0.109350\n",
       "1   0.013430  0.778155  0.584120  0.178081\n",
       "2   0.015484  0.352645  0.700957  0.449931\n",
       "3   0.542648  0.746440  0.182675  0.074262\n",
       "4   0.886396  0.892314  0.031164  0.833858\n",
       "5   0.147788  0.019944  0.964455  0.187963\n",
       "6   0.524090  0.441867  0.409985  0.291723\n",
       "7   0.718322  0.026693  0.555204  0.519865\n",
       "8   0.633095  0.053155  0.021106  0.675913\n",
       "9   0.584218  0.851967  0.886963  0.629739\n",
       "10  0.902108  0.111463  0.101656  0.704259"
      ],
      "text/html": [
       "<div>\n",
       "<style scoped>\n",
       "    .dataframe tbody tr th:only-of-type {\n",
       "        vertical-align: middle;\n",
       "    }\n",
       "\n",
       "    .dataframe tbody tr th {\n",
       "        vertical-align: top;\n",
       "    }\n",
       "\n",
       "    .dataframe thead th {\n",
       "        text-align: right;\n",
       "    }\n",
       "</style>\n",
       "<table border=\"1\" class=\"dataframe\">\n",
       "  <thead>\n",
       "    <tr style=\"text-align: right;\">\n",
       "      <th></th>\n",
       "      <th>A</th>\n",
       "      <th>B</th>\n",
       "      <th>C</th>\n",
       "      <th>D</th>\n",
       "    </tr>\n",
       "  </thead>\n",
       "  <tbody>\n",
       "    <tr>\n",
       "      <th>0</th>\n",
       "      <td>0.676114</td>\n",
       "      <td>0.860238</td>\n",
       "      <td>0.279983</td>\n",
       "      <td>0.109350</td>\n",
       "    </tr>\n",
       "    <tr>\n",
       "      <th>1</th>\n",
       "      <td>0.013430</td>\n",
       "      <td>0.778155</td>\n",
       "      <td>0.584120</td>\n",
       "      <td>0.178081</td>\n",
       "    </tr>\n",
       "    <tr>\n",
       "      <th>2</th>\n",
       "      <td>0.015484</td>\n",
       "      <td>0.352645</td>\n",
       "      <td>0.700957</td>\n",
       "      <td>0.449931</td>\n",
       "    </tr>\n",
       "    <tr>\n",
       "      <th>3</th>\n",
       "      <td>0.542648</td>\n",
       "      <td>0.746440</td>\n",
       "      <td>0.182675</td>\n",
       "      <td>0.074262</td>\n",
       "    </tr>\n",
       "    <tr>\n",
       "      <th>4</th>\n",
       "      <td>0.886396</td>\n",
       "      <td>0.892314</td>\n",
       "      <td>0.031164</td>\n",
       "      <td>0.833858</td>\n",
       "    </tr>\n",
       "    <tr>\n",
       "      <th>5</th>\n",
       "      <td>0.147788</td>\n",
       "      <td>0.019944</td>\n",
       "      <td>0.964455</td>\n",
       "      <td>0.187963</td>\n",
       "    </tr>\n",
       "    <tr>\n",
       "      <th>6</th>\n",
       "      <td>0.524090</td>\n",
       "      <td>0.441867</td>\n",
       "      <td>0.409985</td>\n",
       "      <td>0.291723</td>\n",
       "    </tr>\n",
       "    <tr>\n",
       "      <th>7</th>\n",
       "      <td>0.718322</td>\n",
       "      <td>0.026693</td>\n",
       "      <td>0.555204</td>\n",
       "      <td>0.519865</td>\n",
       "    </tr>\n",
       "    <tr>\n",
       "      <th>8</th>\n",
       "      <td>0.633095</td>\n",
       "      <td>0.053155</td>\n",
       "      <td>0.021106</td>\n",
       "      <td>0.675913</td>\n",
       "    </tr>\n",
       "    <tr>\n",
       "      <th>9</th>\n",
       "      <td>0.584218</td>\n",
       "      <td>0.851967</td>\n",
       "      <td>0.886963</td>\n",
       "      <td>0.629739</td>\n",
       "    </tr>\n",
       "    <tr>\n",
       "      <th>10</th>\n",
       "      <td>0.902108</td>\n",
       "      <td>0.111463</td>\n",
       "      <td>0.101656</td>\n",
       "      <td>0.704259</td>\n",
       "    </tr>\n",
       "  </tbody>\n",
       "</table>\n",
       "</div>"
      ]
     },
     "execution_count": 40,
     "metadata": {},
     "output_type": "execute_result"
    }
   ],
   "execution_count": 40
  },
  {
   "metadata": {
    "ExecuteTime": {
     "end_time": "2024-10-28T08:40:11.896489Z",
     "start_time": "2024-10-28T08:40:11.874292Z"
    }
   },
   "cell_type": "code",
   "source": "df.tail()",
   "id": "e5968da9800e436b",
   "outputs": [
    {
     "data": {
      "text/plain": [
       "            A         B         C         D\n",
       "883  0.115645  0.360677  0.227004  0.001310\n",
       "884  0.223807  0.504874  0.781060  0.072311\n",
       "885  0.511315  0.589509  0.686922  0.962986\n",
       "886  0.575234  0.843758  0.889065  0.424605\n",
       "887  0.499501  0.359543  0.490371  0.311716"
      ],
      "text/html": [
       "<div>\n",
       "<style scoped>\n",
       "    .dataframe tbody tr th:only-of-type {\n",
       "        vertical-align: middle;\n",
       "    }\n",
       "\n",
       "    .dataframe tbody tr th {\n",
       "        vertical-align: top;\n",
       "    }\n",
       "\n",
       "    .dataframe thead th {\n",
       "        text-align: right;\n",
       "    }\n",
       "</style>\n",
       "<table border=\"1\" class=\"dataframe\">\n",
       "  <thead>\n",
       "    <tr style=\"text-align: right;\">\n",
       "      <th></th>\n",
       "      <th>A</th>\n",
       "      <th>B</th>\n",
       "      <th>C</th>\n",
       "      <th>D</th>\n",
       "    </tr>\n",
       "  </thead>\n",
       "  <tbody>\n",
       "    <tr>\n",
       "      <th>883</th>\n",
       "      <td>0.115645</td>\n",
       "      <td>0.360677</td>\n",
       "      <td>0.227004</td>\n",
       "      <td>0.001310</td>\n",
       "    </tr>\n",
       "    <tr>\n",
       "      <th>884</th>\n",
       "      <td>0.223807</td>\n",
       "      <td>0.504874</td>\n",
       "      <td>0.781060</td>\n",
       "      <td>0.072311</td>\n",
       "    </tr>\n",
       "    <tr>\n",
       "      <th>885</th>\n",
       "      <td>0.511315</td>\n",
       "      <td>0.589509</td>\n",
       "      <td>0.686922</td>\n",
       "      <td>0.962986</td>\n",
       "    </tr>\n",
       "    <tr>\n",
       "      <th>886</th>\n",
       "      <td>0.575234</td>\n",
       "      <td>0.843758</td>\n",
       "      <td>0.889065</td>\n",
       "      <td>0.424605</td>\n",
       "    </tr>\n",
       "    <tr>\n",
       "      <th>887</th>\n",
       "      <td>0.499501</td>\n",
       "      <td>0.359543</td>\n",
       "      <td>0.490371</td>\n",
       "      <td>0.311716</td>\n",
       "    </tr>\n",
       "  </tbody>\n",
       "</table>\n",
       "</div>"
      ]
     },
     "execution_count": 41,
     "metadata": {},
     "output_type": "execute_result"
    }
   ],
   "execution_count": 41
  },
  {
   "metadata": {
    "ExecuteTime": {
     "end_time": "2024-10-28T08:40:23.312440Z",
     "start_time": "2024-10-28T08:40:23.292883Z"
    }
   },
   "cell_type": "code",
   "source": "df.tail(11)",
   "id": "d043f2b4806ad6e",
   "outputs": [
    {
     "data": {
      "text/plain": [
       "            A         B         C         D\n",
       "877  0.885961  0.722329  0.746194  0.738848\n",
       "878  0.526983  0.562537  0.940256  0.098473\n",
       "879  0.859896  0.828944  0.311109  0.844807\n",
       "880  0.031662  0.566302  0.561513  0.107932\n",
       "881  0.365285  0.752433  0.215073  0.607903\n",
       "882  0.233912  0.118611  0.511646  0.576797\n",
       "883  0.115645  0.360677  0.227004  0.001310\n",
       "884  0.223807  0.504874  0.781060  0.072311\n",
       "885  0.511315  0.589509  0.686922  0.962986\n",
       "886  0.575234  0.843758  0.889065  0.424605\n",
       "887  0.499501  0.359543  0.490371  0.311716"
      ],
      "text/html": [
       "<div>\n",
       "<style scoped>\n",
       "    .dataframe tbody tr th:only-of-type {\n",
       "        vertical-align: middle;\n",
       "    }\n",
       "\n",
       "    .dataframe tbody tr th {\n",
       "        vertical-align: top;\n",
       "    }\n",
       "\n",
       "    .dataframe thead th {\n",
       "        text-align: right;\n",
       "    }\n",
       "</style>\n",
       "<table border=\"1\" class=\"dataframe\">\n",
       "  <thead>\n",
       "    <tr style=\"text-align: right;\">\n",
       "      <th></th>\n",
       "      <th>A</th>\n",
       "      <th>B</th>\n",
       "      <th>C</th>\n",
       "      <th>D</th>\n",
       "    </tr>\n",
       "  </thead>\n",
       "  <tbody>\n",
       "    <tr>\n",
       "      <th>877</th>\n",
       "      <td>0.885961</td>\n",
       "      <td>0.722329</td>\n",
       "      <td>0.746194</td>\n",
       "      <td>0.738848</td>\n",
       "    </tr>\n",
       "    <tr>\n",
       "      <th>878</th>\n",
       "      <td>0.526983</td>\n",
       "      <td>0.562537</td>\n",
       "      <td>0.940256</td>\n",
       "      <td>0.098473</td>\n",
       "    </tr>\n",
       "    <tr>\n",
       "      <th>879</th>\n",
       "      <td>0.859896</td>\n",
       "      <td>0.828944</td>\n",
       "      <td>0.311109</td>\n",
       "      <td>0.844807</td>\n",
       "    </tr>\n",
       "    <tr>\n",
       "      <th>880</th>\n",
       "      <td>0.031662</td>\n",
       "      <td>0.566302</td>\n",
       "      <td>0.561513</td>\n",
       "      <td>0.107932</td>\n",
       "    </tr>\n",
       "    <tr>\n",
       "      <th>881</th>\n",
       "      <td>0.365285</td>\n",
       "      <td>0.752433</td>\n",
       "      <td>0.215073</td>\n",
       "      <td>0.607903</td>\n",
       "    </tr>\n",
       "    <tr>\n",
       "      <th>882</th>\n",
       "      <td>0.233912</td>\n",
       "      <td>0.118611</td>\n",
       "      <td>0.511646</td>\n",
       "      <td>0.576797</td>\n",
       "    </tr>\n",
       "    <tr>\n",
       "      <th>883</th>\n",
       "      <td>0.115645</td>\n",
       "      <td>0.360677</td>\n",
       "      <td>0.227004</td>\n",
       "      <td>0.001310</td>\n",
       "    </tr>\n",
       "    <tr>\n",
       "      <th>884</th>\n",
       "      <td>0.223807</td>\n",
       "      <td>0.504874</td>\n",
       "      <td>0.781060</td>\n",
       "      <td>0.072311</td>\n",
       "    </tr>\n",
       "    <tr>\n",
       "      <th>885</th>\n",
       "      <td>0.511315</td>\n",
       "      <td>0.589509</td>\n",
       "      <td>0.686922</td>\n",
       "      <td>0.962986</td>\n",
       "    </tr>\n",
       "    <tr>\n",
       "      <th>886</th>\n",
       "      <td>0.575234</td>\n",
       "      <td>0.843758</td>\n",
       "      <td>0.889065</td>\n",
       "      <td>0.424605</td>\n",
       "    </tr>\n",
       "    <tr>\n",
       "      <th>887</th>\n",
       "      <td>0.499501</td>\n",
       "      <td>0.359543</td>\n",
       "      <td>0.490371</td>\n",
       "      <td>0.311716</td>\n",
       "    </tr>\n",
       "  </tbody>\n",
       "</table>\n",
       "</div>"
      ]
     },
     "execution_count": 42,
     "metadata": {},
     "output_type": "execute_result"
    }
   ],
   "execution_count": 42
  },
  {
   "metadata": {
    "ExecuteTime": {
     "end_time": "2024-10-28T08:40:44.562525Z",
     "start_time": "2024-10-28T08:40:44.542656Z"
    }
   },
   "cell_type": "code",
   "source": "df.sample(5)",
   "id": "85699240677e767",
   "outputs": [
    {
     "data": {
      "text/plain": [
       "            A         B         C         D\n",
       "770  0.140217  0.846898  0.015361  0.058488\n",
       "405  0.502151  0.798667  0.724327  0.299925\n",
       "147  0.381322  0.237459  0.745355  0.970306\n",
       "822  0.779243  0.550237  0.601391  0.008796\n",
       "352  0.790402  0.809726  0.850528  0.828664"
      ],
      "text/html": [
       "<div>\n",
       "<style scoped>\n",
       "    .dataframe tbody tr th:only-of-type {\n",
       "        vertical-align: middle;\n",
       "    }\n",
       "\n",
       "    .dataframe tbody tr th {\n",
       "        vertical-align: top;\n",
       "    }\n",
       "\n",
       "    .dataframe thead th {\n",
       "        text-align: right;\n",
       "    }\n",
       "</style>\n",
       "<table border=\"1\" class=\"dataframe\">\n",
       "  <thead>\n",
       "    <tr style=\"text-align: right;\">\n",
       "      <th></th>\n",
       "      <th>A</th>\n",
       "      <th>B</th>\n",
       "      <th>C</th>\n",
       "      <th>D</th>\n",
       "    </tr>\n",
       "  </thead>\n",
       "  <tbody>\n",
       "    <tr>\n",
       "      <th>770</th>\n",
       "      <td>0.140217</td>\n",
       "      <td>0.846898</td>\n",
       "      <td>0.015361</td>\n",
       "      <td>0.058488</td>\n",
       "    </tr>\n",
       "    <tr>\n",
       "      <th>405</th>\n",
       "      <td>0.502151</td>\n",
       "      <td>0.798667</td>\n",
       "      <td>0.724327</td>\n",
       "      <td>0.299925</td>\n",
       "    </tr>\n",
       "    <tr>\n",
       "      <th>147</th>\n",
       "      <td>0.381322</td>\n",
       "      <td>0.237459</td>\n",
       "      <td>0.745355</td>\n",
       "      <td>0.970306</td>\n",
       "    </tr>\n",
       "    <tr>\n",
       "      <th>822</th>\n",
       "      <td>0.779243</td>\n",
       "      <td>0.550237</td>\n",
       "      <td>0.601391</td>\n",
       "      <td>0.008796</td>\n",
       "    </tr>\n",
       "    <tr>\n",
       "      <th>352</th>\n",
       "      <td>0.790402</td>\n",
       "      <td>0.809726</td>\n",
       "      <td>0.850528</td>\n",
       "      <td>0.828664</td>\n",
       "    </tr>\n",
       "  </tbody>\n",
       "</table>\n",
       "</div>"
      ]
     },
     "execution_count": 44,
     "metadata": {},
     "output_type": "execute_result"
    }
   ],
   "execution_count": 44
  },
  {
   "metadata": {},
   "cell_type": "markdown",
   "source": "# Вывод описательных статистик",
   "id": "58d3faf2280b7162"
  },
  {
   "metadata": {
    "ExecuteTime": {
     "end_time": "2024-10-28T08:42:35.386358Z",
     "start_time": "2024-10-28T08:42:35.349367Z"
    }
   },
   "cell_type": "code",
   "source": "df.describe()",
   "id": "3b56ad3c2588209b",
   "outputs": [
    {
     "data": {
      "text/plain": [
       "                A           B           C           D\n",
       "count  888.000000  888.000000  888.000000  888.000000\n",
       "mean     0.478443    0.490707    0.493229    0.518553\n",
       "std      0.293031    0.291221    0.285867    0.282823\n",
       "min      0.000311    0.001087    0.001263    0.000426\n",
       "25%      0.222038    0.235183    0.251052    0.282685\n",
       "50%      0.476053    0.496599    0.490280    0.538043\n",
       "75%      0.738506    0.749499    0.734402    0.763672\n",
       "max      0.999325    0.999321    0.999670    0.999759"
      ],
      "text/html": [
       "<div>\n",
       "<style scoped>\n",
       "    .dataframe tbody tr th:only-of-type {\n",
       "        vertical-align: middle;\n",
       "    }\n",
       "\n",
       "    .dataframe tbody tr th {\n",
       "        vertical-align: top;\n",
       "    }\n",
       "\n",
       "    .dataframe thead th {\n",
       "        text-align: right;\n",
       "    }\n",
       "</style>\n",
       "<table border=\"1\" class=\"dataframe\">\n",
       "  <thead>\n",
       "    <tr style=\"text-align: right;\">\n",
       "      <th></th>\n",
       "      <th>A</th>\n",
       "      <th>B</th>\n",
       "      <th>C</th>\n",
       "      <th>D</th>\n",
       "    </tr>\n",
       "  </thead>\n",
       "  <tbody>\n",
       "    <tr>\n",
       "      <th>count</th>\n",
       "      <td>888.000000</td>\n",
       "      <td>888.000000</td>\n",
       "      <td>888.000000</td>\n",
       "      <td>888.000000</td>\n",
       "    </tr>\n",
       "    <tr>\n",
       "      <th>mean</th>\n",
       "      <td>0.478443</td>\n",
       "      <td>0.490707</td>\n",
       "      <td>0.493229</td>\n",
       "      <td>0.518553</td>\n",
       "    </tr>\n",
       "    <tr>\n",
       "      <th>std</th>\n",
       "      <td>0.293031</td>\n",
       "      <td>0.291221</td>\n",
       "      <td>0.285867</td>\n",
       "      <td>0.282823</td>\n",
       "    </tr>\n",
       "    <tr>\n",
       "      <th>min</th>\n",
       "      <td>0.000311</td>\n",
       "      <td>0.001087</td>\n",
       "      <td>0.001263</td>\n",
       "      <td>0.000426</td>\n",
       "    </tr>\n",
       "    <tr>\n",
       "      <th>25%</th>\n",
       "      <td>0.222038</td>\n",
       "      <td>0.235183</td>\n",
       "      <td>0.251052</td>\n",
       "      <td>0.282685</td>\n",
       "    </tr>\n",
       "    <tr>\n",
       "      <th>50%</th>\n",
       "      <td>0.476053</td>\n",
       "      <td>0.496599</td>\n",
       "      <td>0.490280</td>\n",
       "      <td>0.538043</td>\n",
       "    </tr>\n",
       "    <tr>\n",
       "      <th>75%</th>\n",
       "      <td>0.738506</td>\n",
       "      <td>0.749499</td>\n",
       "      <td>0.734402</td>\n",
       "      <td>0.763672</td>\n",
       "    </tr>\n",
       "    <tr>\n",
       "      <th>max</th>\n",
       "      <td>0.999325</td>\n",
       "      <td>0.999321</td>\n",
       "      <td>0.999670</td>\n",
       "      <td>0.999759</td>\n",
       "    </tr>\n",
       "  </tbody>\n",
       "</table>\n",
       "</div>"
      ]
     },
     "execution_count": 46,
     "metadata": {},
     "output_type": "execute_result"
    }
   ],
   "execution_count": 46
  },
  {
   "metadata": {
    "ExecuteTime": {
     "end_time": "2024-10-28T08:43:11.795096Z",
     "start_time": "2024-10-28T08:43:11.747250Z"
    }
   },
   "cell_type": "code",
   "source": [
    "# Метод Транспорирования (Столбцы стали строками)\n",
    "df.describe().T"
   ],
   "id": "8b014fac6d6b3d82",
   "outputs": [
    {
     "data": {
      "text/plain": [
       "   count      mean       std       min       25%       50%       75%       max\n",
       "A  888.0  0.478443  0.293031  0.000311  0.222038  0.476053  0.738506  0.999325\n",
       "B  888.0  0.490707  0.291221  0.001087  0.235183  0.496599  0.749499  0.999321\n",
       "C  888.0  0.493229  0.285867  0.001263  0.251052  0.490280  0.734402  0.999670\n",
       "D  888.0  0.518553  0.282823  0.000426  0.282685  0.538043  0.763672  0.999759"
      ],
      "text/html": [
       "<div>\n",
       "<style scoped>\n",
       "    .dataframe tbody tr th:only-of-type {\n",
       "        vertical-align: middle;\n",
       "    }\n",
       "\n",
       "    .dataframe tbody tr th {\n",
       "        vertical-align: top;\n",
       "    }\n",
       "\n",
       "    .dataframe thead th {\n",
       "        text-align: right;\n",
       "    }\n",
       "</style>\n",
       "<table border=\"1\" class=\"dataframe\">\n",
       "  <thead>\n",
       "    <tr style=\"text-align: right;\">\n",
       "      <th></th>\n",
       "      <th>count</th>\n",
       "      <th>mean</th>\n",
       "      <th>std</th>\n",
       "      <th>min</th>\n",
       "      <th>25%</th>\n",
       "      <th>50%</th>\n",
       "      <th>75%</th>\n",
       "      <th>max</th>\n",
       "    </tr>\n",
       "  </thead>\n",
       "  <tbody>\n",
       "    <tr>\n",
       "      <th>A</th>\n",
       "      <td>888.0</td>\n",
       "      <td>0.478443</td>\n",
       "      <td>0.293031</td>\n",
       "      <td>0.000311</td>\n",
       "      <td>0.222038</td>\n",
       "      <td>0.476053</td>\n",
       "      <td>0.738506</td>\n",
       "      <td>0.999325</td>\n",
       "    </tr>\n",
       "    <tr>\n",
       "      <th>B</th>\n",
       "      <td>888.0</td>\n",
       "      <td>0.490707</td>\n",
       "      <td>0.291221</td>\n",
       "      <td>0.001087</td>\n",
       "      <td>0.235183</td>\n",
       "      <td>0.496599</td>\n",
       "      <td>0.749499</td>\n",
       "      <td>0.999321</td>\n",
       "    </tr>\n",
       "    <tr>\n",
       "      <th>C</th>\n",
       "      <td>888.0</td>\n",
       "      <td>0.493229</td>\n",
       "      <td>0.285867</td>\n",
       "      <td>0.001263</td>\n",
       "      <td>0.251052</td>\n",
       "      <td>0.490280</td>\n",
       "      <td>0.734402</td>\n",
       "      <td>0.999670</td>\n",
       "    </tr>\n",
       "    <tr>\n",
       "      <th>D</th>\n",
       "      <td>888.0</td>\n",
       "      <td>0.518553</td>\n",
       "      <td>0.282823</td>\n",
       "      <td>0.000426</td>\n",
       "      <td>0.282685</td>\n",
       "      <td>0.538043</td>\n",
       "      <td>0.763672</td>\n",
       "      <td>0.999759</td>\n",
       "    </tr>\n",
       "  </tbody>\n",
       "</table>\n",
       "</div>"
      ]
     },
     "execution_count": 49,
     "metadata": {},
     "output_type": "execute_result"
    }
   ],
   "execution_count": 49
  },
  {
   "metadata": {},
   "cell_type": "code",
   "outputs": [],
   "execution_count": null,
   "source": "",
   "id": "45c5f4588a1e5b99"
  }
 ],
 "metadata": {
  "kernelspec": {
   "display_name": "Python 3",
   "language": "python",
   "name": "python3"
  },
  "language_info": {
   "codemirror_mode": {
    "name": "ipython",
    "version": 2
   },
   "file_extension": ".py",
   "mimetype": "text/x-python",
   "name": "python",
   "nbconvert_exporter": "python",
   "pygments_lexer": "ipython2",
   "version": "2.7.6"
  }
 },
 "nbformat": 4,
 "nbformat_minor": 5
}
